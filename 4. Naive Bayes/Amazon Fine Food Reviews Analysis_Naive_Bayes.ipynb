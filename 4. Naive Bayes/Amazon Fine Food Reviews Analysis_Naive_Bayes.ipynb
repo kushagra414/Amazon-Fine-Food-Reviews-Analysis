{
 "cells": [
  {
   "cell_type": "markdown",
   "metadata": {},
   "source": [
    "# Amazon Fine Food Reviews Analysis\n",
    "\n",
    "\n",
    "Data Source: https://www.kaggle.com/snap/amazon-fine-food-reviews <br>\n",
    "\n",
    "\n",
    "The Amazon Fine Food Reviews dataset consists of reviews of fine foods from Amazon.<br>\n",
    "\n",
    "Number of reviews: 568,454<br>\n",
    "Number of users: 256,059<br>\n",
    "Number of products: 74,258<br>\n",
    "Timespan: Oct 1999 - Oct 2012<br>\n",
    "Number of Attributes/Columns in data: 10 \n",
    "\n",
    "Attribute Information:\n",
    "\n",
    "1. Id\n",
    "2. ProductId - unique identifier for the product\n",
    "3. UserId - unqiue identifier for the user\n",
    "4. ProfileName\n",
    "5. HelpfulnessNumerator - number of users who found the review helpful\n",
    "6. HelpfulnessDenominator - number of users who indicated whether they found the review helpful or not\n",
    "7. Score - rating between 1 and 5\n",
    "8. Time - timestamp for the review\n",
    "9. Summary - brief summary of the review\n",
    "10. Text - text of the review\n",
    "\n",
    "\n",
    "#### Objective:\n",
    "Given a review, determine whether the review is positive (Rating of 4 or 5) or negative (rating of 1 or 2).\n",
    "\n",
    "<br>\n",
    "[Q] How to determine if a review is positive or negative?<br>\n",
    "<br> \n",
    "[Ans] We could use the Score/Rating. A rating of 4 or 5 could be cosnidered a positive review. A review of 1 or 2 could be considered negative. A review of 3 is nuetral and ignored. This is an approximate and proxy way of determining the polarity (positivity/negativity) of a review.\n",
    "\n",
    "\n"
   ]
  },
  {
   "cell_type": "markdown",
   "metadata": {},
   "source": [
    "## Loading the data\n",
    "\n",
    "The dataset is available in two forms\n",
    "1. .csv file\n",
    "2. SQLite Database\n",
    "\n",
    "In order to load the data, We have used the SQLITE dataset as it easier to query the data and visualise the data efficiently.\n",
    "<br> \n",
    "\n",
    "Here as we only want to get the global sentiment of the recommendations (positive or negative), we will purposefully ignore all Scores equal to 3. If the score id above 3, then the recommendation wil be set to \"positive\". Otherwise, it will be set to \"negative\"."
   ]
  },
  {
   "cell_type": "code",
   "execution_count": 1,
   "metadata": {},
   "outputs": [],
   "source": [
    "%matplotlib inline\n",
    "#With this backend, the output of plotting commands is displayed inline within frontends like the Jupyter notebook, directly below the code cell that produced it.\n",
    "#The resulting plots will then also be stored in the notebook document.\n",
    "\n",
    "import warnings\n",
    "#This is the base class of all warning category classes. It is a subclass of Exception.\n",
    "\n",
    "warnings.filterwarnings(\"ignore\")\n",
    "# ignore all the warning\n",
    "import numpy as np\n",
    "import pandas as pd\n",
    "import matplotlib.pyplot as plt\n",
    "import seaborn as sns\n",
    "import sqlite3  # For forming connection between the code and sql\n",
    "import time"
   ]
  },
  {
   "cell_type": "markdown",
   "metadata": {},
   "source": [
    "## [1] Reading Data"
   ]
  },
  {
   "cell_type": "code",
   "execution_count": 2,
   "metadata": {},
   "outputs": [
    {
     "data": {
      "text/html": [
       "<div>\n",
       "<style scoped>\n",
       "    .dataframe tbody tr th:only-of-type {\n",
       "        vertical-align: middle;\n",
       "    }\n",
       "\n",
       "    .dataframe tbody tr th {\n",
       "        vertical-align: top;\n",
       "    }\n",
       "\n",
       "    .dataframe thead th {\n",
       "        text-align: right;\n",
       "    }\n",
       "</style>\n",
       "<table border=\"1\" class=\"dataframe\">\n",
       "  <thead>\n",
       "    <tr style=\"text-align: right;\">\n",
       "      <th></th>\n",
       "      <th>Id</th>\n",
       "      <th>ProductId</th>\n",
       "      <th>UserId</th>\n",
       "      <th>ProfileName</th>\n",
       "      <th>HelpfulnessNumerator</th>\n",
       "      <th>HelpfulnessDenominator</th>\n",
       "      <th>Score</th>\n",
       "      <th>Time</th>\n",
       "      <th>Summary</th>\n",
       "      <th>Text</th>\n",
       "    </tr>\n",
       "  </thead>\n",
       "  <tbody>\n",
       "    <tr>\n",
       "      <th>0</th>\n",
       "      <td>1</td>\n",
       "      <td>B001E4KFG0</td>\n",
       "      <td>A3SGXH7AUHU8GW</td>\n",
       "      <td>delmartian</td>\n",
       "      <td>1</td>\n",
       "      <td>1</td>\n",
       "      <td>1</td>\n",
       "      <td>1303862400</td>\n",
       "      <td>Good Quality Dog Food</td>\n",
       "      <td>I have bought several of the Vitality canned d...</td>\n",
       "    </tr>\n",
       "    <tr>\n",
       "      <th>1</th>\n",
       "      <td>2</td>\n",
       "      <td>B00813GRG4</td>\n",
       "      <td>A1D87F6ZCVE5NK</td>\n",
       "      <td>dll pa</td>\n",
       "      <td>0</td>\n",
       "      <td>0</td>\n",
       "      <td>0</td>\n",
       "      <td>1346976000</td>\n",
       "      <td>Not as Advertised</td>\n",
       "      <td>Product arrived labeled as Jumbo Salted Peanut...</td>\n",
       "    </tr>\n",
       "    <tr>\n",
       "      <th>2</th>\n",
       "      <td>3</td>\n",
       "      <td>B000LQOCH0</td>\n",
       "      <td>ABXLMWJIXXAIN</td>\n",
       "      <td>Natalia Corres \"Natalia Corres\"</td>\n",
       "      <td>1</td>\n",
       "      <td>1</td>\n",
       "      <td>1</td>\n",
       "      <td>1219017600</td>\n",
       "      <td>\"Delight\" says it all</td>\n",
       "      <td>This is a confection that has been around a fe...</td>\n",
       "    </tr>\n",
       "    <tr>\n",
       "      <th>3</th>\n",
       "      <td>4</td>\n",
       "      <td>B000UA0QIQ</td>\n",
       "      <td>A395BORC6FGVXV</td>\n",
       "      <td>Karl</td>\n",
       "      <td>3</td>\n",
       "      <td>3</td>\n",
       "      <td>0</td>\n",
       "      <td>1307923200</td>\n",
       "      <td>Cough Medicine</td>\n",
       "      <td>If you are looking for the secret ingredient i...</td>\n",
       "    </tr>\n",
       "    <tr>\n",
       "      <th>4</th>\n",
       "      <td>5</td>\n",
       "      <td>B006K2ZZ7K</td>\n",
       "      <td>A1UQRSCLF8GW1T</td>\n",
       "      <td>Michael D. Bigham \"M. Wassir\"</td>\n",
       "      <td>0</td>\n",
       "      <td>0</td>\n",
       "      <td>1</td>\n",
       "      <td>1350777600</td>\n",
       "      <td>Great taffy</td>\n",
       "      <td>Great taffy at a great price.  There was a wid...</td>\n",
       "    </tr>\n",
       "  </tbody>\n",
       "</table>\n",
       "</div>"
      ],
      "text/plain": [
       "   Id   ProductId          UserId                      ProfileName  \\\n",
       "0   1  B001E4KFG0  A3SGXH7AUHU8GW                       delmartian   \n",
       "1   2  B00813GRG4  A1D87F6ZCVE5NK                           dll pa   \n",
       "2   3  B000LQOCH0   ABXLMWJIXXAIN  Natalia Corres \"Natalia Corres\"   \n",
       "3   4  B000UA0QIQ  A395BORC6FGVXV                             Karl   \n",
       "4   5  B006K2ZZ7K  A1UQRSCLF8GW1T    Michael D. Bigham \"M. Wassir\"   \n",
       "\n",
       "   HelpfulnessNumerator  HelpfulnessDenominator  Score        Time  \\\n",
       "0                     1                       1      1  1303862400   \n",
       "1                     0                       0      0  1346976000   \n",
       "2                     1                       1      1  1219017600   \n",
       "3                     3                       3      0  1307923200   \n",
       "4                     0                       0      1  1350777600   \n",
       "\n",
       "                 Summary                                               Text  \n",
       "0  Good Quality Dog Food  I have bought several of the Vitality canned d...  \n",
       "1      Not as Advertised  Product arrived labeled as Jumbo Salted Peanut...  \n",
       "2  \"Delight\" says it all  This is a confection that has been around a fe...  \n",
       "3         Cough Medicine  If you are looking for the secret ingredient i...  \n",
       "4            Great taffy  Great taffy at a great price.  There was a wid...  "
      ]
     },
     "execution_count": 2,
     "metadata": {},
     "output_type": "execute_result"
    }
   ],
   "source": [
    "connection = sqlite3.connect('/home/kushagra/Desktop/Excercise/reviews_dataset/database.sqlite')\n",
    "data = pd.read_sql_query('''SELECT*FROM Reviews where score != 3''',connection)\n",
    "\n",
    "def positive_negative(x):\n",
    "    if x<3:\n",
    "        return 0\n",
    "    return 1\n",
    "\n",
    "filter_data = data['Score'].map(positive_negative)\n",
    "data['Score'] = filter_data\n",
    "data.head()"
   ]
  },
  {
   "cell_type": "code",
   "execution_count": 3,
   "metadata": {},
   "outputs": [],
   "source": [
    "# SQL Query for Total Number of users i.e. unique userid's\n",
    "unique = pd.read_sql_query('''SELECT *,COUNT(*) FROM Reviews GROUP BY UserId HAVING COUNT(*)>1''',connection)\n",
    "#group by Groups together same UserId's, used with count"
   ]
  },
  {
   "cell_type": "code",
   "execution_count": 4,
   "metadata": {},
   "outputs": [
    {
     "name": "stdout",
     "output_type": "stream",
     "text": [
      "(80668, 11)\n",
      "393063\n",
      "Percentage of redundant data =  30.854035682746538\n"
     ]
    },
    {
     "data": {
      "text/html": [
       "<div>\n",
       "<style scoped>\n",
       "    .dataframe tbody tr th:only-of-type {\n",
       "        vertical-align: middle;\n",
       "    }\n",
       "\n",
       "    .dataframe tbody tr th {\n",
       "        vertical-align: top;\n",
       "    }\n",
       "\n",
       "    .dataframe thead th {\n",
       "        text-align: right;\n",
       "    }\n",
       "</style>\n",
       "<table border=\"1\" class=\"dataframe\">\n",
       "  <thead>\n",
       "    <tr style=\"text-align: right;\">\n",
       "      <th></th>\n",
       "      <th>Id</th>\n",
       "      <th>ProductId</th>\n",
       "      <th>UserId</th>\n",
       "      <th>ProfileName</th>\n",
       "      <th>HelpfulnessNumerator</th>\n",
       "      <th>HelpfulnessDenominator</th>\n",
       "      <th>Score</th>\n",
       "      <th>Time</th>\n",
       "      <th>Summary</th>\n",
       "      <th>Text</th>\n",
       "      <th>COUNT(*)</th>\n",
       "    </tr>\n",
       "  </thead>\n",
       "  <tbody>\n",
       "    <tr>\n",
       "      <th>75417</th>\n",
       "      <td>73791</td>\n",
       "      <td>B000HDOPZG</td>\n",
       "      <td>AR5J8UI46CURR</td>\n",
       "      <td>Geetha Krishnan</td>\n",
       "      <td>2</td>\n",
       "      <td>2</td>\n",
       "      <td>5</td>\n",
       "      <td>1199577600</td>\n",
       "      <td>LOACKER QUADRATINI VANILLA WAFERS</td>\n",
       "      <td>DELICIOUS WAFERS. I FIND THAT EUROPEAN WAFERS ...</td>\n",
       "      <td>5</td>\n",
       "    </tr>\n",
       "  </tbody>\n",
       "</table>\n",
       "</div>"
      ],
      "text/plain": [
       "          Id   ProductId         UserId      ProfileName  \\\n",
       "75417  73791  B000HDOPZG  AR5J8UI46CURR  Geetha Krishnan   \n",
       "\n",
       "       HelpfulnessNumerator  HelpfulnessDenominator  Score        Time  \\\n",
       "75417                     2                       2      5  1199577600   \n",
       "\n",
       "                                 Summary  \\\n",
       "75417  LOACKER QUADRATINI VANILLA WAFERS   \n",
       "\n",
       "                                                    Text  COUNT(*)  \n",
       "75417  DELICIOUS WAFERS. I FIND THAT EUROPEAN WAFERS ...         5  "
      ]
     },
     "execution_count": 4,
     "metadata": {},
     "output_type": "execute_result"
    }
   ],
   "source": [
    "print(unique.shape) #Total Number of users i.e. unique userid's\n",
    "print(unique['COUNT(*)'].sum())  # Total number of reviews i.e. unique\n",
    "redundant = pd.read_sql_query('''select count(*) from Reviews''',connection)\n",
    "print(\"Percentage of redundant data = \",(1-unique['COUNT(*)'].sum()/redundant['count(*)'].sum())*100)\n",
    "unique[unique['UserId']==\"AR5J8UI46CURR\"]"
   ]
  },
  {
   "cell_type": "markdown",
   "metadata": {},
   "source": [
    "#  Exploratory Data Analysis\n",
    "\n",
    "## [2] Data Cleaning: Deduplication\n",
    "\n",
    "It is observed (as shown in the table below) that the reviews data had many duplicate entries. Hence it was necessary to remove duplicates in order to get unbiased results for the analysis of the data.  Following is an example:"
   ]
  },
  {
   "cell_type": "code",
   "execution_count": 5,
   "metadata": {},
   "outputs": [
    {
     "data": {
      "text/html": [
       "<div>\n",
       "<style scoped>\n",
       "    .dataframe tbody tr th:only-of-type {\n",
       "        vertical-align: middle;\n",
       "    }\n",
       "\n",
       "    .dataframe tbody tr th {\n",
       "        vertical-align: top;\n",
       "    }\n",
       "\n",
       "    .dataframe thead th {\n",
       "        text-align: right;\n",
       "    }\n",
       "</style>\n",
       "<table border=\"1\" class=\"dataframe\">\n",
       "  <thead>\n",
       "    <tr style=\"text-align: right;\">\n",
       "      <th></th>\n",
       "      <th>Id</th>\n",
       "      <th>ProductId</th>\n",
       "      <th>UserId</th>\n",
       "      <th>ProfileName</th>\n",
       "      <th>HelpfulnessNumerator</th>\n",
       "      <th>HelpfulnessDenominator</th>\n",
       "      <th>Score</th>\n",
       "      <th>Time</th>\n",
       "      <th>Summary</th>\n",
       "      <th>Text</th>\n",
       "    </tr>\n",
       "  </thead>\n",
       "  <tbody>\n",
       "    <tr>\n",
       "      <th>0</th>\n",
       "      <td>73791</td>\n",
       "      <td>B000HDOPZG</td>\n",
       "      <td>AR5J8UI46CURR</td>\n",
       "      <td>Geetha Krishnan</td>\n",
       "      <td>2</td>\n",
       "      <td>2</td>\n",
       "      <td>5</td>\n",
       "      <td>1199577600</td>\n",
       "      <td>LOACKER QUADRATINI VANILLA WAFERS</td>\n",
       "      <td>DELICIOUS WAFERS. I FIND THAT EUROPEAN WAFERS ...</td>\n",
       "    </tr>\n",
       "    <tr>\n",
       "      <th>1</th>\n",
       "      <td>78445</td>\n",
       "      <td>B000HDL1RQ</td>\n",
       "      <td>AR5J8UI46CURR</td>\n",
       "      <td>Geetha Krishnan</td>\n",
       "      <td>2</td>\n",
       "      <td>2</td>\n",
       "      <td>5</td>\n",
       "      <td>1199577600</td>\n",
       "      <td>LOACKER QUADRATINI VANILLA WAFERS</td>\n",
       "      <td>DELICIOUS WAFERS. I FIND THAT EUROPEAN WAFERS ...</td>\n",
       "    </tr>\n",
       "    <tr>\n",
       "      <th>2</th>\n",
       "      <td>138277</td>\n",
       "      <td>B000HDOPYM</td>\n",
       "      <td>AR5J8UI46CURR</td>\n",
       "      <td>Geetha Krishnan</td>\n",
       "      <td>2</td>\n",
       "      <td>2</td>\n",
       "      <td>5</td>\n",
       "      <td>1199577600</td>\n",
       "      <td>LOACKER QUADRATINI VANILLA WAFERS</td>\n",
       "      <td>DELICIOUS WAFERS. I FIND THAT EUROPEAN WAFERS ...</td>\n",
       "    </tr>\n",
       "    <tr>\n",
       "      <th>3</th>\n",
       "      <td>138317</td>\n",
       "      <td>B000HDOPYC</td>\n",
       "      <td>AR5J8UI46CURR</td>\n",
       "      <td>Geetha Krishnan</td>\n",
       "      <td>2</td>\n",
       "      <td>2</td>\n",
       "      <td>5</td>\n",
       "      <td>1199577600</td>\n",
       "      <td>LOACKER QUADRATINI VANILLA WAFERS</td>\n",
       "      <td>DELICIOUS WAFERS. I FIND THAT EUROPEAN WAFERS ...</td>\n",
       "    </tr>\n",
       "    <tr>\n",
       "      <th>4</th>\n",
       "      <td>155049</td>\n",
       "      <td>B000PAQ75C</td>\n",
       "      <td>AR5J8UI46CURR</td>\n",
       "      <td>Geetha Krishnan</td>\n",
       "      <td>2</td>\n",
       "      <td>2</td>\n",
       "      <td>5</td>\n",
       "      <td>1199577600</td>\n",
       "      <td>LOACKER QUADRATINI VANILLA WAFERS</td>\n",
       "      <td>DELICIOUS WAFERS. I FIND THAT EUROPEAN WAFERS ...</td>\n",
       "    </tr>\n",
       "  </tbody>\n",
       "</table>\n",
       "</div>"
      ],
      "text/plain": [
       "       Id   ProductId         UserId      ProfileName  HelpfulnessNumerator  \\\n",
       "0   73791  B000HDOPZG  AR5J8UI46CURR  Geetha Krishnan                     2   \n",
       "1   78445  B000HDL1RQ  AR5J8UI46CURR  Geetha Krishnan                     2   \n",
       "2  138277  B000HDOPYM  AR5J8UI46CURR  Geetha Krishnan                     2   \n",
       "3  138317  B000HDOPYC  AR5J8UI46CURR  Geetha Krishnan                     2   \n",
       "4  155049  B000PAQ75C  AR5J8UI46CURR  Geetha Krishnan                     2   \n",
       "\n",
       "   HelpfulnessDenominator  Score        Time  \\\n",
       "0                       2      5  1199577600   \n",
       "1                       2      5  1199577600   \n",
       "2                       2      5  1199577600   \n",
       "3                       2      5  1199577600   \n",
       "4                       2      5  1199577600   \n",
       "\n",
       "                             Summary  \\\n",
       "0  LOACKER QUADRATINI VANILLA WAFERS   \n",
       "1  LOACKER QUADRATINI VANILLA WAFERS   \n",
       "2  LOACKER QUADRATINI VANILLA WAFERS   \n",
       "3  LOACKER QUADRATINI VANILLA WAFERS   \n",
       "4  LOACKER QUADRATINI VANILLA WAFERS   \n",
       "\n",
       "                                                Text  \n",
       "0  DELICIOUS WAFERS. I FIND THAT EUROPEAN WAFERS ...  \n",
       "1  DELICIOUS WAFERS. I FIND THAT EUROPEAN WAFERS ...  \n",
       "2  DELICIOUS WAFERS. I FIND THAT EUROPEAN WAFERS ...  \n",
       "3  DELICIOUS WAFERS. I FIND THAT EUROPEAN WAFERS ...  \n",
       "4  DELICIOUS WAFERS. I FIND THAT EUROPEAN WAFERS ...  "
      ]
     },
     "execution_count": 5,
     "metadata": {},
     "output_type": "execute_result"
    }
   ],
   "source": [
    "x = pd.read_sql_query('''select * from Reviews where UserId = \"AR5J8UI46CURR\"''',connection)\n",
    "x\n",
    "# As you can see there is redundancy.\n",
    "# This redundancy is due to the fact that one product has many variations for eg:-\n",
    "# A speaker of same model might have different colors, they will share the same review. Hence this redundancy.\n",
    "# We need to remove this redundancy because we don't want our data to be baised.\n",
    "# There might be more other redundancy, you need to figure these redundacy on you own."
   ]
  },
  {
   "cell_type": "markdown",
   "metadata": {},
   "source": [
    "As can be seen above the same user has multiple reviews of the with the same values for HelpfulnessNumerator, HelpfulnessDenominator, Score, Time, Summary and Text and on doing analysis it was found that \n",
    "\n",
    "ProductId=B000HDOPZG was Loacker Quadratini Vanilla Wafer Cookies, 8.82-Ounce Packages (Pack of 8)\n",
    "\n",
    "ProductId=B000HDL1RQ was Loacker Quadratini Lemon Wafer Cookies, 8.82-Ounce Packages (Pack of 8) and so on\n",
    "\n",
    "It was inferred after analysis that reviews with same parameters other than ProductId belonged to the same product just having different flavour or quantity. Hence in order to reduce redundancy it was decided to eliminate the rows having same parameters.\n",
    "\n",
    "The method used for the same was that we first sort the data according to ProductId and then just keep the first similar product review and delelte the others. for eg. in the above just the review for ProductId=B000HDL1RQ remains. This method ensures that there is only one representative for each product and deduplication without sorting would lead to possibility of different representatives still existing for the same product."
   ]
  },
  {
   "cell_type": "code",
   "execution_count": 6,
   "metadata": {},
   "outputs": [
    {
     "data": {
      "text/html": [
       "<div>\n",
       "<style scoped>\n",
       "    .dataframe tbody tr th:only-of-type {\n",
       "        vertical-align: middle;\n",
       "    }\n",
       "\n",
       "    .dataframe tbody tr th {\n",
       "        vertical-align: top;\n",
       "    }\n",
       "\n",
       "    .dataframe thead th {\n",
       "        text-align: right;\n",
       "    }\n",
       "</style>\n",
       "<table border=\"1\" class=\"dataframe\">\n",
       "  <thead>\n",
       "    <tr style=\"text-align: right;\">\n",
       "      <th></th>\n",
       "      <th>Id</th>\n",
       "      <th>ProductId</th>\n",
       "      <th>UserId</th>\n",
       "      <th>ProfileName</th>\n",
       "      <th>HelpfulnessNumerator</th>\n",
       "      <th>HelpfulnessDenominator</th>\n",
       "      <th>Score</th>\n",
       "      <th>Time</th>\n",
       "      <th>Summary</th>\n",
       "      <th>Text</th>\n",
       "    </tr>\n",
       "  </thead>\n",
       "  <tbody>\n",
       "    <tr>\n",
       "      <th>0</th>\n",
       "      <td>44737</td>\n",
       "      <td>B001EQ55RW</td>\n",
       "      <td>A2V0I904FH7ABY</td>\n",
       "      <td>Ram</td>\n",
       "      <td>3</td>\n",
       "      <td>2</td>\n",
       "      <td>4</td>\n",
       "      <td>1212883200</td>\n",
       "      <td>Pure cocoa taste with crunchy almonds inside</td>\n",
       "      <td>It was almost a 'love at first bite' - the per...</td>\n",
       "    </tr>\n",
       "    <tr>\n",
       "      <th>1</th>\n",
       "      <td>64422</td>\n",
       "      <td>B000MIDROQ</td>\n",
       "      <td>A161DK06JJMCYF</td>\n",
       "      <td>J. E. Stephens \"Jeanne\"</td>\n",
       "      <td>3</td>\n",
       "      <td>1</td>\n",
       "      <td>5</td>\n",
       "      <td>1224892800</td>\n",
       "      <td>Bought This for My Son at College</td>\n",
       "      <td>My son loves spaghetti so I didn't hesitate or...</td>\n",
       "    </tr>\n",
       "  </tbody>\n",
       "</table>\n",
       "</div>"
      ],
      "text/plain": [
       "      Id   ProductId          UserId              ProfileName  \\\n",
       "0  44737  B001EQ55RW  A2V0I904FH7ABY                      Ram   \n",
       "1  64422  B000MIDROQ  A161DK06JJMCYF  J. E. Stephens \"Jeanne\"   \n",
       "\n",
       "   HelpfulnessNumerator  HelpfulnessDenominator  Score        Time  \\\n",
       "0                     3                       2      4  1212883200   \n",
       "1                     3                       1      5  1224892800   \n",
       "\n",
       "                                        Summary  \\\n",
       "0  Pure cocoa taste with crunchy almonds inside   \n",
       "1             Bought This for My Son at College   \n",
       "\n",
       "                                                Text  \n",
       "0  It was almost a 'love at first bite' - the per...  \n",
       "1  My son loves spaghetti so I didn't hesitate or...  "
      ]
     },
     "execution_count": 6,
     "metadata": {},
     "output_type": "execute_result"
    }
   ],
   "source": [
    "# There is another type of redundancy. i.e. HelpfulnessNumerator cannot be greater than HelpfulnessDenominator\n",
    "x = pd.read_sql_query('''select * from Reviews Where \"HelpfulnessNumerator\">\"HelpfulnessDenominator\"''',connection)\n",
    "x"
   ]
  },
  {
   "cell_type": "code",
   "execution_count": 7,
   "metadata": {},
   "outputs": [],
   "source": [
    "# Need to remove the redundancy discovered above\n",
    "# Before we remove the redundancy we need to sort the data, then we can use pandas inbuit fn to remove redundancy\n",
    "sorted_data = data.sort_values('ProductId',axis=0,ascending=True,kind='quicksort',na_position='last') #na_position is the position of NaN data"
   ]
  },
  {
   "cell_type": "code",
   "execution_count": 8,
   "metadata": {},
   "outputs": [],
   "source": [
    "non_redundant = sorted_data.drop_duplicates(subset={\"UserId\",\"Time\",\"ProfileName\",\"Text\"},keep='first')\n",
    "non_redundant = non_redundant[non_redundant['HelpfulnessNumerator']<=non_redundant['HelpfulnessDenominator']]"
   ]
  },
  {
   "cell_type": "code",
   "execution_count": 9,
   "metadata": {},
   "outputs": [
    {
     "name": "stdout",
     "output_type": "stream",
     "text": [
      "10\n"
     ]
    }
   ],
   "source": [
    "print(non_redundant.shape[1])"
   ]
  },
  {
   "cell_type": "code",
   "execution_count": 10,
   "metadata": {},
   "outputs": [
    {
     "name": "stdout",
     "output_type": "stream",
     "text": [
      "Percentage of data remained =  69.25852107399194\n"
     ]
    }
   ],
   "source": [
    "# Percentage of data remained\n",
    "print(\"Percentage of data remained = \",(non_redundant[\"Id\"].size*1.0/data[\"Id\"].size*1.0)*100)"
   ]
  },
  {
   "cell_type": "code",
   "execution_count": 11,
   "metadata": {},
   "outputs": [
    {
     "name": "stdout",
     "output_type": "stream",
     "text": [
      "(364171, 10)\n",
      "1    307061\n",
      "0     57110\n",
      "Name: Score, dtype: int64\n"
     ]
    }
   ],
   "source": [
    "print(non_redundant.shape)\n",
    "print(pd.value_counts(non_redundant['Score']))"
   ]
  },
  {
   "cell_type": "code",
   "execution_count": 12,
   "metadata": {},
   "outputs": [
    {
     "name": "stdout",
     "output_type": "stream",
     "text": [
      "Id                        False\n",
      "ProductId                 False\n",
      "UserId                    False\n",
      "ProfileName               False\n",
      "HelpfulnessNumerator      False\n",
      "HelpfulnessDenominator    False\n",
      "Score                     False\n",
      "Time                      False\n",
      "Summary                   False\n",
      "Text                      False\n",
      "dtype: bool\n"
     ]
    }
   ],
   "source": [
    "# Remove the entries that have missing values i.e. Nan Score\n",
    "print(non_redundant.isna().any())\n",
    "non_redundant.dropna(axis=0,inplace=True)"
   ]
  },
  {
   "cell_type": "markdown",
   "metadata": {},
   "source": [
    "## [3].  Text Preprocessing.\n",
    "\n",
    "Now that we have finished deduplication our data requires some preprocessing before we go on further with analysis and making the prediction model.\n",
    "\n",
    "Hence in the Preprocessing phase we do the following in the order below:-\n",
    "\n",
    "1. Begin by removing the html tags and html links\n",
    "2. Remove any punctuations or limited set of special characters like , or . or # etc.\n",
    "3. Check if the word is made up of english letters and remove not alpha-numeric(words made up of alphabets+numbers)\n",
    "4. Check to see if the length of the word is greater than 2 (as it was researched that there is no adjective in 2-letters)\n",
    "5. Perform decontraction\n",
    "6. Convert the word to lowercase\n",
    "7. Remove Stopwords\n",
    "8. Finally Snowball Stemming the word (it was obsereved to be better than Porter Stemming)<br>\n",
    "\n",
    "After which we collect the words used to describe positive and negative reviews"
   ]
  },
  {
   "cell_type": "markdown",
   "metadata": {},
   "source": [
    "### [1]. Removing HTML links and tags"
   ]
  },
  {
   "cell_type": "code",
   "execution_count": 13,
   "metadata": {},
   "outputs": [
    {
     "name": "stdout",
     "output_type": "stream",
     "text": [
      "this witty little book makes my son laugh at loud. i recite it in the car as we're driving along and he always can sing the refrain. he's learned about whales, India, drooping roses:  i love all the new words this book  introduces and the silliness of it all.  this is a classic book i am  willing to bet my son will STILL be able to recite from memory when he is  in college\n",
      "\n",
      " ================================================== \n",
      "\n",
      "this witty little book makes my son laugh at loud. i recite it in the car as we're driving along and he always can sing the refrain. he's learned about whales, India, drooping roses:  i love all the new words this book  introduces and the silliness of it all.  this is a classic book i am  willing to bet my son will STILL be able to recite from memory when he is  in college\n"
     ]
    }
   ],
   "source": [
    "# Removing html links\n",
    "# We need to regular expression package in python to remove html's as the re package has functions that can search for a pattern in text.\n",
    "# So we will search for html links and susitute them with backspace.\n",
    "import re\n",
    "# Here is an example with link\n",
    "print(non_redundant['Text'].values[0])\n",
    "\n",
    "print(\"\\n\",'='*50,'\\n')\n",
    "print(re.sub(r\"http\\S+\",\"\",non_redundant['Text'].values[0]))\n",
    "# r is used for creating regular expressions, \\S used for non-whitespace\n",
    "# + used for sequence i.e. \\S+   ----> sequence of non-whitespace.\n",
    "# sub is for subsituting the following pattern with \"\" ."
   ]
  },
  {
   "cell_type": "markdown",
   "metadata": {},
   "source": [
    "| Code\t   | Meaning                                 |\n",
    "| ---      | ---                                     |\n",
    "| \\d\t   | a digit                                 |  \n",
    "| \\D\t   | a non-digit                             |\n",
    "| \\s\t   | whitespace (tab, space, newline, etc.)  |\n",
    "| \\S\t   | non-whitespace                          |      \n",
    "| \\w\t   | alphanumeric                            |  \n",
    "| \\W\t   | non-alphanumeric                        |       \n",
    "\n",
    "| Code\t   |Meaning                                              |\n",
    "| ---      | ---                                                 |\n",
    "| ^\t       |start of string, or line                             |                 \n",
    "| $\t       |end of string, or line                               |  \n",
    "| \\A\t   |start of string                                      |           \n",
    "| \\Z\t   |end of string                                        |        \n",
    "| \\b\t   |empty string at the beginning or end of a word       |                     \n",
    "| \\B\t   |empty string not at the beginning or end of a word   |\n",
    "\n",
    "\n",
    "> ## Repetition\n",
    "> There are five ways to express repetition in a pattern. A pattern followed by the metacharacter * is repeated zero or more times (allowing a pattern to repeat zero times means it does not need to appear at all to match). Replace the * with + and the pattern must appear at least once. Using ? means the pattern appears zero or one time. For a specific number of occurrences, use {m} after the pattern, where m is replaced with the number of times the pattern should repeat. And finally, to allow a variable but limited number of repetitions, use {m,n} where m is the minimum number of repetitions and n is the maximum. Leaving out n ({m,}) means the value appears at least m times, with no maximum."
   ]
  },
  {
   "cell_type": "code",
   "execution_count": 14,
   "metadata": {},
   "outputs": [
    {
     "name": "stdout",
     "output_type": "stream",
     "text": [
      "this witty little book makes my son laugh at loud. i recite it in the car as we're driving along and he always can sing the refrain. he's learned about whales, India, drooping roses:  i love all the new words this book  introduces and the silliness of it all.  this is a classic book i am  willing to bet my son will STILL be able to recite from memory when he is  in college\n",
      "\n",
      " ================================================== \n",
      "\n",
      "<html><body><p>this witty little book makes my son laugh at loud. i recite it in the car as we're driving along and he always can sing the refrain. he's learned about whales, India, drooping roses:  i love all the new words this book  introduces and the silliness of it all.  this is a classic book i am  willing to bet my son will STILL be able to recite from memory when he is  in college</p></body></html>\n",
      "\n",
      " ================================================== \n",
      "\n",
      "this witty little book makes my son laugh at loud. i recite it in the car as we're driving along and he always can sing the refrain. he's learned about whales, India, drooping roses:  i love all the new words this book  introduces and the silliness of it all.  this is a classic book i am  willing to bet my son will STILL be able to recite from memory when he is  in college\n"
     ]
    }
   ],
   "source": [
    "# Removing html tags\n",
    "# We need to use BeautifulSoup from bs4\n",
    "#BeautifulSoap is used for html processing\n",
    "from bs4 import BeautifulSoup\n",
    "\n",
    "\n",
    "print(non_redundant['Text'].values[0])\n",
    "print(\"\\n\",'='*50,'\\n')\n",
    "\n",
    "print(BeautifulSoup(non_redundant['Text'].values[0]))\n",
    "# As you can see here BeautifulSoup converts the text into standard html format.\n",
    "# This will also help us remove all the html standard tags\n",
    "print(\"\\n\",'='*50,'\\n')\n",
    "\n",
    "text = BeautifulSoup(non_redundant['Text'].values[0])\n",
    "text = text.get_text() # Extracting text from the html object.\n",
    "print(text)\n",
    "# As you can see all the tags have been removed."
   ]
  },
  {
   "cell_type": "markdown",
   "metadata": {},
   "source": [
    "### [2.] Removing all Special Characters and Punctuations"
   ]
  },
  {
   "cell_type": "code",
   "execution_count": 15,
   "metadata": {},
   "outputs": [
    {
     "name": "stdout",
     "output_type": "stream",
     "text": [
      "this witty little book makes my son laugh at loud i recite it in the car as we re driving along and he always can sing the refrain he s learned about whales India drooping roses i love all the new words this book introduces and the silliness of it all this is a classic book i am willing to bet my son will STILL be able to recite from memory when he is in college\n"
     ]
    }
   ],
   "source": [
    "# Removing all the special characters\n",
    "# Here is a regex to match a string of characters that are not a letters or numbers:\n",
    "print(re.sub('[^A-Za-z0-9]+',' ',non_redundant['Text'].values[0]))# the re will search for character that does not contain A-Za-z0-9.\n",
    "# A character set can also be used to exclude specific characters.\n",
    "#The special marker ^ means to look for characters not in the set following.\n",
    "\n",
    "# As you can see \"$[...]\" is removed. All special characters are removed."
   ]
  },
  {
   "cell_type": "markdown",
   "metadata": {},
   "source": [
    "### [3.] Removing Alfa-Numeric letters"
   ]
  },
  {
   "cell_type": "code",
   "execution_count": 16,
   "metadata": {},
   "outputs": [
    {
     "name": "stdout",
     "output_type": "stream",
     "text": [
      "this witty little book makes my son laugh at loud. i recite it in the car as we're driving along and he always can sing the refrain. he's learned about whales, India, drooping roses:  i love all the new words this book  introduces and the silliness of it all.  this is a classic book i am  willing to bet my son will STILL be able to recite from memory when he is  in college\n"
     ]
    }
   ],
   "source": [
    "# Removing Alfa-Numeric Words\n",
    "print(re.sub('\\S*\\d\\S*','',non_redundant['Text'].values[0]))  # \\S*  --> Means all character excluding white spaces might occurs 0 or more times\n",
    "# \\d  ----> digit must occur one time.\n",
    "#\\S*\\d\\S*  ---> eg:- saj3434jkdsd\n",
    "#This will remove all digits and string with digits.\n",
    "\n",
    "# As you can see all alpha-numeric letters are removed."
   ]
  },
  {
   "cell_type": "markdown",
   "metadata": {},
   "source": [
    "### [4.] Perform Decontraction"
   ]
  },
  {
   "cell_type": "code",
   "execution_count": 17,
   "metadata": {},
   "outputs": [
    {
     "name": "stdout",
     "output_type": "stream",
     "text": [
      "I used this food coloring for dyeing wool fabric for rug hooking.  It was fabulous.  Not only was it easy to use, but it was food safe and made an unending variety of brilliant colours.  Ateco was easily mixed with boiling water and used for spot dyeing and caserole dyeing.  The variety of colours was perfect, and I will buy them again.<br /><br />Mari\n",
      "\n",
      " ================================================== \n",
      "\n",
      "I used this food coloring for dyeing wool fabric for rug hooking.  It was fabulous.  Not only was it easy to use, but it was food safe and made an unending variety of brilliant colours.  Ateco was easily mixed with boiling water and used for spot dyeing and caserole dyeing.  The variety of colours was perfect, and I will buy them again.<br /><br />Mari\n"
     ]
    }
   ],
   "source": [
    "# We need to replace words that use short forms such as --> I'm or won't or couldn't or wouldn't etc. to their full form\n",
    "def decontraction(phrase):\n",
    "    # specific\n",
    "    phrase = re.sub(r\"won't\", \"will not\", phrase)\n",
    "    phrase = re.sub(r\"can\\'t\", \"can not\", phrase)\n",
    "\n",
    "    # general\n",
    "    phrase = re.sub(r\"n\\'t\", \" not\", phrase)\n",
    "    phrase = re.sub(r\"\\'re\", \" are\", phrase)\n",
    "    phrase = re.sub(r\"\\'s\", \" is\", phrase)\n",
    "    phrase = re.sub(r\"\\'d\", \" would\", phrase)\n",
    "    phrase = re.sub(r\"\\'ll\", \" will\", phrase)\n",
    "    phrase = re.sub(r\"\\'t\", \" not\", phrase)\n",
    "    phrase = re.sub(r\"\\'ve\", \" have\", phrase)\n",
    "    phrase = re.sub(r\"\\'m\", \" am\", phrase)\n",
    "    return phrase\n",
    "\n",
    "print(non_redundant['Text'].values[900])\n",
    "# As we can there is \"'t\" in our sentence. we need to replace all these words to their original words.\n",
    "print(\"\\n\",'='*50,'\\n')\n",
    "\n",
    "# For this to fully work first we need to convert the sentence to lower case.\n",
    "# Anyways we can are going to use it here as this is just an example.\n",
    "print(decontraction(non_redundant['Text'].values[900]))"
   ]
  },
  {
   "cell_type": "markdown",
   "metadata": {},
   "source": [
    "### [5.] Converting to Lower Case"
   ]
  },
  {
   "cell_type": "code",
   "execution_count": 18,
   "metadata": {},
   "outputs": [
    {
     "name": "stdout",
     "output_type": "stream",
     "text": [
      "i used this food coloring for dyeing wool fabric for rug hooking. it was fabulous. not only was it easy to use, but it was food safe and made an unending variety of brilliant colours. ateco was easily mixed with boiling water and used for spot dyeing and caserole dyeing. the variety of colours was perfect, and i will buy them again.<br /><br />mari\n"
     ]
    }
   ],
   "source": [
    "def lower_case(sentence):\n",
    "    sentence = ' '.join(e.lower() for e in sentence.split())\n",
    "    return sentence\n",
    "\n",
    "print(lower_case(non_redundant['Text'].values[900]))"
   ]
  },
  {
   "cell_type": "markdown",
   "metadata": {},
   "source": [
    "### [6.] Removing Stop Words"
   ]
  },
  {
   "cell_type": "code",
   "execution_count": 19,
   "metadata": {},
   "outputs": [
    {
     "name": "stdout",
     "output_type": "stream",
     "text": [
      "{\"couldn't\", 'hers', \"mightn't\", 'further', 'did', 'whom', 'being', \"won't\", 've', 'until', 'himself', 'which', 'again', 'hasn', 'her', 'this', 'can', 'their', 'of', 'ain', 'mightn', 're', 'through', 'too', 'below', 'own', \"you're\", 'does', 'from', \"aren't\", 'they', 'he', 'aren', 'its', 'ma', 'above', \"should've\", 'i', 'on', \"doesn't\", 'than', 'such', 'we', 'had', 't', 'here', 's', \"you'll\", 'should', 'with', 'over', 'most', 'him', 'y', 'd', 'shouldn', 'about', 'them', 'by', 'there', 'only', 'when', 'were', 'into', \"mustn't\", 'weren', 'will', 'has', 'how', 'having', 'won', 'then', \"haven't\", 'now', \"wouldn't\", 'didn', 'herself', 'and', 'up', 'those', 'why', 'each', 'where', 'haven', 'same', 'o', 'while', 'for', 'down', 'what', \"that'll\", 'theirs', 'me', 'just', 'shan', 'but', 'my', 'at', \"you've\", \"isn't\", 'very', 'because', 'other', \"didn't\", 'these', 'mustn', \"shouldn't\", 'ourselves', 'hadn', 'doing', 'don', 'or', 'll', 'after', 'br', 'so', 'before', 'it', 'themselves', 'that', \"wasn't\", 'ours', 'was', \"you'd\", 'she', 'myself', 'to', 'a', 'are', 'couldn', 'his', \"she's\", \"hadn't\", 'yourselves', 'out', 'some', 'needn', 'an', 'between', 'wasn', \"weren't\", 'any', 'is', \"it's\", 'in', 'been', 'be', 'you', 'm', \"don't\", 'against', 'off', 'both', 'am', 'the', 'do', \"shan't\", 'wouldn', 'isn', 'as', 'more', 'our', 'yourself', \"hasn't\", 'if', 'who', 'all', 'your', 'once', 'itself', 'under', 'have', 'few', 'yours', 'doesn', \"needn't\", 'during'}\n",
      "I used this food coloring for dyeing wool fabric for rug hooking.  It was fabulous.  Not only was it easy to use, but it was food safe and made an unending variety of brilliant colours.  Ateco was easily mixed with boiling water and used for spot dyeing and caserole dyeing.  The variety of colours was perfect, and I will buy them again.<br /><br />Mari\n",
      "\n",
      " ================================================== \n",
      "\n",
      "I used food coloring dyeing wool fabric rug hooking. It fabulous. Not easy use, food safe made unending variety brilliant colours. Ateco easily mixed boiling water used spot dyeing caserole dyeing. The variety colours perfect, I buy again.<br /><br />Mari\n"
     ]
    }
   ],
   "source": [
    "import nltk\n",
    "from nltk.corpus import stopwords\n",
    "#  *********  we are removing the words from the stop words list: 'no', 'nor', 'not'  *********\n",
    "# <br /><br /> ==> after the above steps, we are getting \"br br\"\n",
    "# we are including them into stop words list\n",
    "# instead of <br /> if we have <br/> these tags would have removed in the 1st step\n",
    "# https://gist.github.com/sebleier/554280\n",
    "\n",
    "stopwords = set(['br', 'the', 'i', 'me', 'my', 'myself', 'we', 'our', 'ours', 'ourselves', 'you', \"you're\", \"you've\",\\\n",
    "            \"you'll\", \"you'd\", 'your', 'yours', 'yourself', 'yourselves', 'he', 'him', 'his', 'himself', \\\n",
    "            'she', \"she's\", 'her', 'hers', 'herself', 'it', \"it's\", 'its', 'itself', 'they', 'them', 'their',\\\n",
    "            'theirs', 'themselves', 'what', 'which', 'who', 'whom', 'this', 'that', \"that'll\", 'these', 'those', \\\n",
    "            'am', 'is', 'are', 'was', 'were', 'be', 'been', 'being', 'have', 'has', 'had', 'having', 'do', 'does', \\\n",
    "            'did', 'doing', 'a', 'an', 'the', 'and', 'but', 'if', 'or', 'because', 'as', 'until', 'while', 'of', \\\n",
    "            'at', 'by', 'for', 'with', 'about', 'against', 'between', 'into', 'through', 'during', 'before', 'after',\\\n",
    "            'above', 'below', 'to', 'from', 'up', 'down', 'in', 'out', 'on', 'off', 'over', 'under', 'again', 'further',\\\n",
    "            'then', 'once', 'here', 'there', 'when', 'where', 'why', 'how', 'all', 'any', 'both', 'each', 'few', 'more',\\\n",
    "            'most', 'other', 'some', 'such', 'only', 'own', 'same', 'so', 'than', 'too', 'very', \\\n",
    "            's', 't', 'can', 'will', 'just', 'don', \"don't\", 'should', \"should've\", 'now', 'd', 'll', 'm', 'o', 're', \\\n",
    "            've', 'y', 'ain', 'aren', \"aren't\", 'couldn', \"couldn't\", 'didn', \"didn't\", 'doesn', \"doesn't\", 'hadn',\\\n",
    "            \"hadn't\", 'hasn', \"hasn't\", 'haven', \"haven't\", 'isn', \"isn't\", 'ma', 'mightn', \"mightn't\", 'mustn',\\\n",
    "            \"mustn't\", 'needn', \"needn't\", 'shan', \"shan't\", 'shouldn', \"shouldn't\", 'wasn', \"wasn't\", 'weren', \"weren't\", \\\n",
    "            'won', \"won't\", 'wouldn', \"wouldn't\"])\n",
    "# Creating sets of stop keywords\n",
    "print(stopwords)\n",
    "\n",
    "def rm_stop_words(sentence):\n",
    "    sentence = ' '.join(e for e in sentence.split() if e not in stopwords)\n",
    "    return sentence\n",
    "\n",
    "print(non_redundant['Text'].values[900])\n",
    "print(\"\\n\",'='*50,'\\n')\n",
    "print(rm_stop_words(non_redundant['Text'].values[900]))"
   ]
  },
  {
   "cell_type": "markdown",
   "metadata": {},
   "source": [
    "### [7.] Stemming the words"
   ]
  },
  {
   "cell_type": "code",
   "execution_count": 20,
   "metadata": {},
   "outputs": [
    {
     "name": "stdout",
     "output_type": "stream",
     "text": [
      "arabic danish dutch english finnish french german hungarian italian norwegian porter portuguese romanian russian spanish swedish\n"
     ]
    }
   ],
   "source": [
    "# As snow ball stemming is better than porter stemming we are going to use snow ball stemming\n",
    "from nltk.stem import SnowballStemmer\n",
    "print(\" \".join(SnowballStemmer.languages)) # languages supported by th snowball stemming"
   ]
  },
  {
   "cell_type": "code",
   "execution_count": 21,
   "metadata": {},
   "outputs": [
    {
     "data": {
      "text/plain": [
       "'man'"
      ]
     },
     "execution_count": 21,
     "metadata": {},
     "output_type": "execute_result"
    }
   ],
   "source": [
    "stemmer = SnowballStemmer('english') # Selecting english language for stemming\n",
    "stemmer.stem('manly')"
   ]
  },
  {
   "cell_type": "markdown",
   "metadata": {},
   "source": [
    "### Now we need to use all these technique at one to apply at our Amazon Fine Food DataSet"
   ]
  },
  {
   "cell_type": "raw",
   "metadata": {},
   "source": [
    "from tqdm import tqdm\n",
    "import pdb\n",
    "# This package is used for visualizing loading status bar\n",
    "# https://gist.github.com/sebleier/554280\n",
    "length = []\n",
    "preprocessed_review = []\n",
    "for review in tqdm(non_redundant['Text'].values):\n",
    "    review = re.sub(r'http\\S+','',review)\n",
    "    review = BeautifulSoup(review).get_text()\n",
    "    review = re.sub('[^A-Za-z0-9]+',' ',review)  # This line of code should be carefully written.\n",
    "    # If ' ' space is not given in subsituition, then the words will cramp\n",
    "    # If * is used instead of + , then all letter will have spacing\n",
    "    review = re.sub('\\S*\\d\\S*','',review)\n",
    "    review = ' '.join(e.lower() for e in review.split() if e.lower() not in stopwords) #Removing Stop words and loweri casing letter at same time.\n",
    "    review = decontraction(review)\n",
    "    length.append(len(review.split(' ')))\n",
    "    preprocessed_review.append(' '.join(list(map(stemmer.stem, review.split(' ')))))"
   ]
  },
  {
   "cell_type": "raw",
   "metadata": {},
   "source": [
    "print(length[450])\n",
    "print(preprocessed_review[1500])\n",
    "print(len(length))"
   ]
  },
  {
   "cell_type": "markdown",
   "metadata": {},
   "source": [
    "### __*Run the below cell if you don't want to stem your text.*__"
   ]
  },
  {
   "cell_type": "code",
   "execution_count": 22,
   "metadata": {},
   "outputs": [
    {
     "name": "stderr",
     "output_type": "stream",
     "text": [
      "100%|██████████| 364171/364171 [02:02<00:00, 2975.51it/s]\n"
     ]
    }
   ],
   "source": [
    "from tqdm import tqdm\n",
    "import pdb\n",
    "# This package is used for visualizing loading status bar\n",
    "# https://gist.github.com/sebleier/554280\n",
    "index,reviews = [],[]\n",
    "preprocessed_review = []\n",
    "for review in tqdm(non_redundant['Text'].values):\n",
    "    review = re.sub(r'http\\S+','',review)\n",
    "    review = BeautifulSoup(review).get_text()\n",
    "    review = re.sub('[^A-Za-z0-9]+',' ',review)  # This line of code should be carefully written.\n",
    "    # If ' ' space is not given in subsituition, then the words will cramp\n",
    "    # If * is used instead of + , then all letter will have spacing\n",
    "    review = re.sub('\\S*\\d\\S*','',review)\n",
    "    review = ' '.join(e.lower() for e in review.split() if e.lower() not in stopwords) #Removing Stop words and loweri casing letter at same time.\n",
    "    preprocessed_review.append(decontraction(review))\n",
    "    "
   ]
  },
  {
   "cell_type": "code",
   "execution_count": 23,
   "metadata": {},
   "outputs": [
    {
     "name": "stdout",
     "output_type": "stream",
     "text": [
      "great ingredients although chicken rather chicken broth thing not think belongs canola oil canola rapeseed not someting dog would ever find nature find rapeseed nature eat would poison today food industries convinced masses canola oil safe even better oil olive virgin coconut facts though say otherwise late poisonous figured way fix still like could better\n",
      "\n",
      " 364171\n",
      "<class 'list'>\n"
     ]
    }
   ],
   "source": [
    "print(preprocessed_review[1500])\n",
    "print('\\n',len(preprocessed_review))\n",
    "print(type(preprocessed_review))"
   ]
  },
  {
   "cell_type": "markdown",
   "metadata": {},
   "source": [
    "### __Preprocess Summary for future use in Feature Engineering__"
   ]
  },
  {
   "cell_type": "code",
   "execution_count": 24,
   "metadata": {},
   "outputs": [
    {
     "name": "stderr",
     "output_type": "stream",
     "text": [
      "  6%|▌         | 22509/364171 [00:04<01:11, 4811.25it/s]/home/kushagra/anaconda3/lib/python3.7/site-packages/bs4/__init__.py:272: UserWarning: \"b'.'\" looks like a filename, not markup. You should probably open this file and pass the filehandle into Beautiful Soup.\n",
      "  ' Beautiful Soup.' % markup)\n",
      " 27%|██▋       | 98321/364171 [00:21<00:58, 4548.73it/s]/home/kushagra/anaconda3/lib/python3.7/site-packages/bs4/__init__.py:272: UserWarning: \"b'.'\" looks like a filename, not markup. You should probably open this file and pass the filehandle into Beautiful Soup.\n",
      "  ' Beautiful Soup.' % markup)\n",
      "/home/kushagra/anaconda3/lib/python3.7/site-packages/bs4/__init__.py:272: UserWarning: \"b'.'\" looks like a filename, not markup. You should probably open this file and pass the filehandle into Beautiful Soup.\n",
      "  ' Beautiful Soup.' % markup)\n",
      " 60%|█████▉    | 216689/364171 [00:45<00:30, 4867.99it/s]/home/kushagra/anaconda3/lib/python3.7/site-packages/bs4/__init__.py:272: UserWarning: \"b'.'\" looks like a filename, not markup. You should probably open this file and pass the filehandle into Beautiful Soup.\n",
      "  ' Beautiful Soup.' % markup)\n",
      " 97%|█████████▋| 354905/364171 [01:16<00:02, 4273.55it/s]/home/kushagra/anaconda3/lib/python3.7/site-packages/bs4/__init__.py:272: UserWarning: \"b'.'\" looks like a filename, not markup. You should probably open this file and pass the filehandle into Beautiful Soup.\n",
      "  ' Beautiful Soup.' % markup)\n",
      "100%|██████████| 364171/364171 [01:18<00:00, 4664.82it/s]\n"
     ]
    }
   ],
   "source": [
    "from tqdm import tqdm\n",
    "preprocessed_summary = []\n",
    "for review in tqdm(non_redundant['Summary'].values):\n",
    "    review = re.sub(r'http\\S+','',review)\n",
    "    review = BeautifulSoup(review).get_text()\n",
    "    review = re.sub('[^A-Za-z0-9]+',' ',review)  # This line of code should be carefully written.\n",
    "    # If ' ' space is not given in subsituition, then the words will cramp\n",
    "    # If * is used instead of + , then all letter will have spacing\n",
    "    review = re.sub('\\S*\\d\\S*','',review)\n",
    "    review = ' '.join(e.lower() for e in review.split() if e.lower() not in stopwords) #Removing Stop words and loweri casing letter at same time.\n",
    "    preprocessed_summary.append(decontraction(review))"
   ]
  },
  {
   "cell_type": "code",
   "execution_count": 25,
   "metadata": {},
   "outputs": [
    {
     "data": {
      "text/plain": [
       "'would best canola oil left'"
      ]
     },
     "execution_count": 25,
     "metadata": {},
     "output_type": "execute_result"
    }
   ],
   "source": [
    "preprocessed_summary[1500]"
   ]
  },
  {
   "cell_type": "markdown",
   "metadata": {},
   "source": [
    "# [4.] Featurization"
   ]
  },
  {
   "cell_type": "markdown",
   "metadata": {},
   "source": [
    "## [4.1] Bag of Words"
   ]
  },
  {
   "cell_type": "code",
   "execution_count": 26,
   "metadata": {},
   "outputs": [],
   "source": [
    "from sklearn.feature_extraction.text import CountVectorizer\n",
    "\n",
    "def bag_of_words(data):\n",
    "    bow = CountVectorizer()\n",
    "    bow = bow.fit(data)\n",
    "    #https://datascience.stackexchange.com/questions/12321/difference-between-fit-and-fit-transform-in-scikit-learn-models\n",
    "    #http://scikit-learn.org/stable/modules/generated/sklearn.feature_extraction.text.CountVectorizer.html\n",
    "    return bow"
   ]
  },
  {
   "cell_type": "markdown",
   "metadata": {},
   "source": [
    "## [4.3] TF-IDF"
   ]
  },
  {
   "cell_type": "code",
   "execution_count": 27,
   "metadata": {},
   "outputs": [],
   "source": [
    "from sklearn.feature_extraction.text import TfidfVectorizer\n",
    "\n",
    "def tf_idf(data):\n",
    "    tfidf = TfidfVectorizer(ngram_range=(1,2), min_df=10)\n",
    "    tfidf = tfidf.fit(data)\n",
    "    return tfidf"
   ]
  },
  {
   "cell_type": "markdown",
   "metadata": {
    "colab_type": "text",
    "id": "RGRFxjhgJklc"
   },
   "source": [
    "# Applying Multinomial Naive Bayes"
   ]
  },
  {
   "cell_type": "markdown",
   "metadata": {},
   "source": [
    "## Finding Right Hyper-Parameter"
   ]
  },
  {
   "cell_type": "code",
   "execution_count": 28,
   "metadata": {},
   "outputs": [],
   "source": [
    "# As we have only two class labels +ve and -ve we are going to use Bernoulli distribution\n",
    "from sklearn.naive_bayes import MultinomialNB\n",
    "from sklearn.metrics import roc_auc_score\n",
    "import matplotlib.pyplot as plt\n",
    "from sklearn.metrics import f1_score\n",
    "import seaborn as sns\n",
    "from sklearn.metrics import confusion_matrix\n",
    "from sklearn.metrics import accuracy_score\n",
    "import scikitplot.metrics as skplt\n",
    "from tqdm import tqdm\n",
    "from sklearn.metrics import roc_curve\n",
    "\n",
    "def NB_binary_clf(train_data, cv_data, train_label, cv_label, best_alpha=1, test=False, class_prior_=None):\n",
    "    l = alpha_values = [0.00001,0.0001,0.001,0.01,0.1,1,10,100,1000,10000,100000]#alpha from 10^-5 to 10^5\n",
    "    auc_cv=[]\n",
    "    auc_train,f1=[],[]\n",
    "    \n",
    "    if test==False:\n",
    "        for i in tqdm(l):\n",
    "            clf= MultinomialNB(alpha=i, class_prior= class_prior_)\n",
    "            clf = clf.fit(train_data, train_label)\n",
    "            # Pedicting probabilities \n",
    "            train_probab = clf.predict_proba(train_data)[:,1]\n",
    "            cv_probab = clf.predict_proba(cv_data)[:,1]\n",
    "            # Computing Area under the curve\n",
    "            auc_train.append(roc_auc_score(train_label, train_probab))\n",
    "            auc_cv.append(roc_auc_score(cv_label, cv_probab))\n",
    "            f1.append(f1_score(cv_label, clf.predict(cv_data)))\n",
    "            print(\"alpha =\",i,\" ------>\",auc_cv)\n",
    "        \n",
    "        \n",
    "    else:\n",
    "        clf = MultinomialNB(alpha=best_alpha,class_prior= class_prior_)\n",
    "        clf = clf.fit(train_data, train_label)\n",
    "        train_probab = clf.predict_proba(train_data)[:,1]\n",
    "        cv_probab = clf.predict_proba(cv_data)[:,1]\n",
    "        fpr_train, tpr_train, threshold_train = roc_curve(train_label, train_probab)\n",
    "        fpr_cv, tpr_cv, threshold_cv = roc_curve(cv_label, cv_probab)\n",
    "        \n",
    "    \n",
    "    if test==False:\n",
    "        auc_train = np.array(auc_train)\n",
    "        auc_cv = np.array(auc_cv)\n",
    "        auc_diff = auc_train-auc_cv\n",
    "        # Plotting curve of different values of alpha between auc and alpha, to determine best alpha\n",
    "        best_alpha = l[np.argmax(auc_cv)]\n",
    "        plt.plot(np.log(l), auc_train, label = 'Train',marker=',')\n",
    "        plt.plot(np.log(l), auc_cv, label='CV',marker=',')\n",
    "        plt.plot(np.log(l), auc_diff, label='Difference',marker=',')\n",
    "        plt.grid()\n",
    "        plt.xlabel('log(alpha)')\n",
    "        plt.ylabel('AUC')\n",
    "        plt.legend()\n",
    "        plt.title(\"AUC V/S Alpha\")\n",
    "        plt.grid()\n",
    "        plt.legend()\n",
    "        plt.show()\n",
    "        plt.plot(np.log(l), f1,marker=',')\n",
    "        plt.title(\"Alpha-hyperparameter V/S F1 Scores\")\n",
    "        plt.xlabel('log(Alpha-hyperparameter)')\n",
    "        plt.ylabel('F1-Scores')\n",
    "        plt.show()\n",
    "        # Top 10 features\n",
    "        probab = clf.feature_log_prob_\n",
    "        idx = np.argsort(probab)\n",
    "        \n",
    "        \n",
    "    else:\n",
    "        plt.plot(fpr_train, tpr_train, label=\"Train, auc = \"+str(roc_auc_score(train_label, train_probab)),marker=',')\n",
    "        plt.plot(fpr_cv, tpr_cv, label=\"Test, auc = \"+str(roc_auc_score(cv_label, cv_probab)),marker=',')\n",
    "        plt.plot([0,0.5,1],[0,0.5,1], label=\"Random Precision, auc = 0.5\",marker=',')\n",
    "        plt.grid()\n",
    "        plt.legend()\n",
    "        plt.xlabel('FPR')\n",
    "        plt.ylabel('TPR')\n",
    "        plt.title('ROC')\n",
    "        plt.show()\n",
    "\n",
    "    \n",
    "    clf= MultinomialNB(alpha=best_alpha, class_prior= class_prior_)\n",
    "    clf = clf.fit(train_data, train_label)\n",
    "    y = clf.predict(cv_data)\n",
    "    print(\"Accuracy score of Test Data is :\", accuracy_score(cv_label, y)*100)\n",
    "    #Confusion matrix\n",
    "    skplt.plot_confusion_matrix(train_label, clf.predict(train_data))\n",
    "    plt.title(\"Train Confusion Matrix\")\n",
    "    plt.show()\n",
    "    skplt.plot_confusion_matrix(cv_label, y)\n",
    "    plt.title(\"Test Confusion Matrix\")\n",
    "    plt.show()\n",
    "    if test==False:\n",
    "        return best_alpha, idx\n",
    "    else:\n",
    "        return roc_auc_score(cv_label, cv_probab)"
   ]
  },
  {
   "cell_type": "markdown",
   "metadata": {
    "colab_type": "text",
    "id": "FxGKHpZlJkle"
   },
   "source": [
    "## [5.1] Applying Naive Bayes on BOW,<font color='red'> SET 1</font>"
   ]
  },
  {
   "cell_type": "code",
   "execution_count": 29,
   "metadata": {
    "colab": {},
    "colab_type": "code",
    "id": "UR0f8SfZJkle"
   },
   "outputs": [],
   "source": [
    "from sklearn.model_selection import train_test_split as tts"
   ]
  },
  {
   "cell_type": "markdown",
   "metadata": {},
   "source": [
    "# The code below creeps NaN values in Score, so don't use it"
   ]
  },
  {
   "cell_type": "raw",
   "metadata": {},
   "source": [
    "# Converting the list to pandas format\n",
    "data = pd.DataFrame({'Text':preprocessed_review})\n",
    "\n",
    "data['Score'] = non_redundant['Score']\n",
    "# data['Score'] = pd.DataFrame(non_redundant['Score'])  ---> Wrong\n",
    "# The above line of code(comment) gives wrong result so never use it.\n",
    "data['Time'] = non_redundant['Time']\n",
    "data['Summary'] = preprocessed_summary\n",
    "print(data.shape)\n",
    "## Will be used later\n",
    "#data['Summary'] = pd.DataFrame(non_redundant['Summary'])\n",
    "#data['Length'] = pd.DataFrame(np.array(length))"
   ]
  },
  {
   "cell_type": "code",
   "execution_count": 30,
   "metadata": {},
   "outputs": [
    {
     "name": "stdout",
     "output_type": "stream",
     "text": [
      "remember seeing show aired television years ago child sister later bought lp day thirty something used series books songs student teaching preschoolers turned whole school purchasing cd along books children tradition lives\n"
     ]
    }
   ],
   "source": [
    "non_redundant['Text']=preprocessed_review\n",
    "non_redundant['Summary'] = preprocessed_summary # Will be used later in this assignment\n",
    "data = non_redundant\n",
    "print(data['Text'].iloc[30])"
   ]
  },
  {
   "cell_type": "raw",
   "metadata": {},
   "source": [
    "# Time Base Splitting\n",
    "data = data.sort_values('Time',axis=0,ascending=True,kind='quicksort',na_position='last')\n",
    "print(data.head())"
   ]
  },
  {
   "cell_type": "raw",
   "metadata": {},
   "source": [
    "print(data.shape)\n",
    "# Removing Nan Values\n",
    "X = data['Text']=' '\n",
    "#print(X.shape)\n",
    "#print(X.iloc[0])\n",
    "print(X)"
   ]
  },
  {
   "cell_type": "code",
   "execution_count": 31,
   "metadata": {},
   "outputs": [
    {
     "name": "stdout",
     "output_type": "stream",
     "text": [
      "(364171, 10)\n",
      "Train Data :  (178443, 10)   CV Data :  (76476, 10)   Test Data :  (109252, 10)\n",
      "Test : 1254960000\n",
      "CV : 1328659200\n",
      "Train : 1229212800\n"
     ]
    }
   ],
   "source": [
    "sorted_data = data.sort_values('Time', axis=0, ascending=True, kind = 'quicksort')\n",
    "print(sorted_data.shape)\n",
    "train_and_cv, test = tts(sorted_data, test_size=0.3, random_state=0)\n",
    "train, cv = tts(train_and_cv, test_size=0.3, random_state=0)\n",
    "print(\"Train Data : \", train.shape, \"  CV Data : \", cv.shape, \"  Test Data : \", test.shape)\n",
    "print(\"Test :\", test['Time'].iloc[0])\n",
    "print(\"CV :\",cv['Time'].iloc[0])\n",
    "print(\"Train :\",train['Time'].iloc[0])"
   ]
  },
  {
   "cell_type": "code",
   "execution_count": 32,
   "metadata": {},
   "outputs": [
    {
     "name": "stdout",
     "output_type": "stream",
     "text": [
      "False\n",
      "(178443, 79928) (178443,)\n",
      "['aa' 'aaa' 'aaaa']\n"
     ]
    }
   ],
   "source": [
    "from sklearn.preprocessing import Normalizer\n",
    "# Computing BOW for train, test, cv dataset\n",
    "bow = bag_of_words(train['Text'])\n",
    "train_bow = bow.transform(train['Text'])\n",
    "cv_bow = bow.transform(cv['Text'])\n",
    "test_bow = bow.transform(test['Text'])\n",
    "train_label = train['Score']\n",
    "cv_label = cv['Score']\n",
    "test_label = test['Score']\n",
    "features = np.array(bow.get_feature_names())\n",
    "\n",
    "print(pd.isna(data['Score']).any())\n",
    "print(train_bow.shape, train_label.shape)\n",
    "print(features[0:3])\n",
    "\n",
    "# Normalize Data\n",
    "train_bow = Normalizer().fit_transform(train_bow)\n",
    "cv_bow = Normalizer().fit_transform(cv_bow)\n",
    "test_bow = Normalizer().fit_transform(test_bow)"
   ]
  },
  {
   "cell_type": "code",
   "execution_count": 33,
   "metadata": {
    "scrolled": false
   },
   "outputs": [
    {
     "name": "stderr",
     "output_type": "stream",
     "text": [
      "\r",
      "  0%|          | 0/11 [00:00<?, ?it/s]"
     ]
    },
    {
     "name": "stdout",
     "output_type": "stream",
     "text": [
      "1    307061\n",
      "0     57110\n",
      "Name: Score, dtype: int64\n"
     ]
    },
    {
     "name": "stderr",
     "output_type": "stream",
     "text": [
      "\r",
      "  9%|▉         | 1/11 [00:00<00:04,  2.38it/s]"
     ]
    },
    {
     "name": "stdout",
     "output_type": "stream",
     "text": [
      "alpha = 1e-05  ------> [0.9010375084799944]\n"
     ]
    },
    {
     "name": "stderr",
     "output_type": "stream",
     "text": [
      "\r",
      " 18%|█▊        | 2/11 [00:00<00:03,  2.43it/s]"
     ]
    },
    {
     "name": "stdout",
     "output_type": "stream",
     "text": [
      "alpha = 0.0001  ------> [0.9010375084799944, 0.9161063621250162]\n"
     ]
    },
    {
     "name": "stderr",
     "output_type": "stream",
     "text": [
      "\r",
      " 27%|██▋       | 3/11 [00:01<00:03,  2.48it/s]"
     ]
    },
    {
     "name": "stdout",
     "output_type": "stream",
     "text": [
      "alpha = 0.001  ------> [0.9010375084799944, 0.9161063621250162, 0.9299859902117054]\n"
     ]
    },
    {
     "name": "stderr",
     "output_type": "stream",
     "text": [
      "\r",
      " 36%|███▋      | 4/11 [00:01<00:02,  2.52it/s]"
     ]
    },
    {
     "name": "stdout",
     "output_type": "stream",
     "text": [
      "alpha = 0.01  ------> [0.9010375084799944, 0.9161063621250162, 0.9299859902117054, 0.9400355854433581]\n"
     ]
    },
    {
     "name": "stderr",
     "output_type": "stream",
     "text": [
      "\r",
      " 45%|████▌     | 5/11 [00:01<00:02,  2.54it/s]"
     ]
    },
    {
     "name": "stdout",
     "output_type": "stream",
     "text": [
      "alpha = 0.1  ------> [0.9010375084799944, 0.9161063621250162, 0.9299859902117054, 0.9400355854433581, 0.9428990840185799]\n"
     ]
    },
    {
     "name": "stderr",
     "output_type": "stream",
     "text": [
      "\r",
      " 55%|█████▍    | 6/11 [00:02<00:01,  2.56it/s]"
     ]
    },
    {
     "name": "stdout",
     "output_type": "stream",
     "text": [
      "alpha = 1  ------> [0.9010375084799944, 0.9161063621250162, 0.9299859902117054, 0.9400355854433581, 0.9428990840185799, 0.9237718747391718]\n"
     ]
    },
    {
     "name": "stderr",
     "output_type": "stream",
     "text": [
      "\r",
      " 64%|██████▎   | 7/11 [00:02<00:01,  2.58it/s]"
     ]
    },
    {
     "name": "stdout",
     "output_type": "stream",
     "text": [
      "alpha = 10  ------> [0.9010375084799944, 0.9161063621250162, 0.9299859902117054, 0.9400355854433581, 0.9428990840185799, 0.9237718747391718, 0.7785350561869281]\n"
     ]
    },
    {
     "name": "stderr",
     "output_type": "stream",
     "text": [
      "\r",
      " 73%|███████▎  | 8/11 [00:03<00:01,  2.58it/s]"
     ]
    },
    {
     "name": "stdout",
     "output_type": "stream",
     "text": [
      "alpha = 100  ------> [0.9010375084799944, 0.9161063621250162, 0.9299859902117054, 0.9400355854433581, 0.9428990840185799, 0.9237718747391718, 0.7785350561869281, 0.6943784160432828]\n"
     ]
    },
    {
     "name": "stderr",
     "output_type": "stream",
     "text": [
      "\r",
      " 82%|████████▏ | 9/11 [00:03<00:00,  2.56it/s]"
     ]
    },
    {
     "name": "stdout",
     "output_type": "stream",
     "text": [
      "alpha = 1000  ------> [0.9010375084799944, 0.9161063621250162, 0.9299859902117054, 0.9400355854433581, 0.9428990840185799, 0.9237718747391718, 0.7785350561869281, 0.6943784160432828, 0.6489167359007392]\n"
     ]
    },
    {
     "name": "stderr",
     "output_type": "stream",
     "text": [
      "\r",
      " 91%|█████████ | 10/11 [00:03<00:00,  2.58it/s]"
     ]
    },
    {
     "name": "stdout",
     "output_type": "stream",
     "text": [
      "alpha = 10000  ------> [0.9010375084799944, 0.9161063621250162, 0.9299859902117054, 0.9400355854433581, 0.9428990840185799, 0.9237718747391718, 0.7785350561869281, 0.6943784160432828, 0.6489167359007392, 0.5989980686435102]\n"
     ]
    },
    {
     "name": "stderr",
     "output_type": "stream",
     "text": [
      "\r",
      "100%|██████████| 11/11 [00:04<00:00,  2.58it/s]"
     ]
    },
    {
     "name": "stdout",
     "output_type": "stream",
     "text": [
      "alpha = 100000  ------> [0.9010375084799944, 0.9161063621250162, 0.9299859902117054, 0.9400355854433581, 0.9428990840185799, 0.9237718747391718, 0.7785350561869281, 0.6943784160432828, 0.6489167359007392, 0.5989980686435102, 0.5806747548079052]\n"
     ]
    },
    {
     "name": "stderr",
     "output_type": "stream",
     "text": [
      "\n"
     ]
    },
    {
     "data": {
      "image/png": "[encoded data removed]",
      "text/plain": [
       "<Figure size 432x288 with 1 Axes>"
      ]
     },
     "metadata": {
      "needs_background": "light"
     },
     "output_type": "display_data"
    },
    {
     "data": {
      "image/png": "[encoded data removed]",
      "text/plain": [
       "<Figure size 432x288 with 1 Axes>"
      ]
     },
     "metadata": {
      "needs_background": "light"
     },
     "output_type": "display_data"
    },
    {
     "name": "stdout",
     "output_type": "stream",
     "text": [
      "Accuracy score of Test Data is : 89.12992311313353\n"
     ]
    },
    {
     "data": {
      "image/png": "[encoded data removed]",
      "text/plain": [
       "<Figure size 432x288 with 2 Axes>"
      ]
     },
     "metadata": {
      "needs_background": "light"
     },
     "output_type": "display_data"
    },
    {
     "data": {
      "image/png": "[encoded data removed]",
      "text/plain": [
       "<Figure size 432x288 with 2 Axes>"
      ]
     },
     "metadata": {
      "needs_background": "light"
     },
     "output_type": "display_data"
    },
    {
     "name": "stdout",
     "output_type": "stream",
     "text": [
      "Best value of alpha is:  0.1\n"
     ]
    }
   ],
   "source": [
    "print(data['Score'].value_counts())\n",
    "# As we can see there are large number of +ve examples and very less number of negative example, we need to use prior\n",
    "best_alpha_bow, idx = NB_binary_clf(train_bow, cv_bow, train_label, cv_label, class_prior_=[1/2,1/2])\n",
    "print(\"Best value of alpha is: \",best_alpha_bow)"
   ]
  },
  {
   "cell_type": "code",
   "execution_count": 34,
   "metadata": {},
   "outputs": [
    {
     "data": {
      "image/png": "[encoded data removed]",
      "text/plain": [
       "<Figure size 432x288 with 1 Axes>"
      ]
     },
     "metadata": {
      "needs_background": "light"
     },
     "output_type": "display_data"
    },
    {
     "name": "stdout",
     "output_type": "stream",
     "text": [
      "Accuracy score of Test Data is : 89.12992311313353\n"
     ]
    },
    {
     "data": {
      "image/png": "[encoded data removed]",
      "text/plain": [
       "<Figure size 432x288 with 2 Axes>"
      ]
     },
     "metadata": {
      "needs_background": "light"
     },
     "output_type": "display_data"
    },
    {
     "data": {
      "image/png": "[encoded data removed]",
      "text/plain": [
       "<Figure size 432x288 with 2 Axes>"
      ]
     },
     "metadata": {
      "needs_background": "light"
     },
     "output_type": "display_data"
    },
    {
     "name": "stdout",
     "output_type": "stream",
     "text": [
      "AUC of Test Data 94.28990840185799\n"
     ]
    }
   ],
   "source": [
    "# As we can see there are large number of +ve examples and very less number of negative example, we need to use prior\n",
    "auc_bow = NB_binary_clf(train_bow, cv_bow, train_label, cv_label, best_alpha=best_alpha_bow, test=True, class_prior_=[1/2,1/2])\n",
    "print(\"AUC of Test Data\" ,auc_bow*100)"
   ]
  },
  {
   "cell_type": "markdown",
   "metadata": {
    "colab_type": "text",
    "id": "u-ZSD3tlJklg"
   },
   "source": [
    "### [5.1.1] Top 10 important features of positive class from<font color='red'> SET 1</font>"
   ]
  },
  {
   "cell_type": "code",
   "execution_count": 35,
   "metadata": {
    "colab": {},
    "colab_type": "code",
    "id": "86fu_aO8Jklg"
   },
   "outputs": [
    {
     "name": "stdout",
     "output_type": "stream",
     "text": [
      "Here are top 10 features from positive class: \n",
      "tea, coffee, flavor, one, product, taste, love, like, good, great, "
     ]
    }
   ],
   "source": [
    "print(\"Here are top 10 features from positive class: \")\n",
    "for i in idx[1, features.shape[0]-11:features.shape[0]-1]:\n",
    "    if i>features.shape[0]-1:\n",
    "        i = i-(features.shape[0]-1)\n",
    "        print(features[i], end=', ')\n",
    "    else:\n",
    "        print(features[i], end=', ')"
   ]
  },
  {
   "cell_type": "markdown",
   "metadata": {
    "colab_type": "text",
    "id": "mquFtwF5Jklj"
   },
   "source": [
    "### [5.1.2] Top 10 important features of negative class from<font color='red'> SET 1</font>"
   ]
  },
  {
   "cell_type": "code",
   "execution_count": 36,
   "metadata": {
    "colab": {},
    "colab_type": "code",
    "id": "_RacUnTrJklj"
   },
   "outputs": [
    {
     "name": "stdout",
     "output_type": "stream",
     "text": [
      "Here are top 10 features from negative class: \n",
      "buy, no, flavor, coffee, good, would, one, taste, product, like, "
     ]
    }
   ],
   "source": [
    "print(\"Here are top 10 features from negative class: \")\n",
    "for i in idx[0, features.shape[0]-11:features.shape[0]-1]:\n",
    "    if i>features.shape[0]-1:\n",
    "        i = i-(features.shape[0]-1)\n",
    "        print(features[i], end=', ')\n",
    "    else:\n",
    "        print(features[i], end=', ')"
   ]
  },
  {
   "cell_type": "markdown",
   "metadata": {
    "colab_type": "text",
    "id": "6bp7BbwCJkll"
   },
   "source": [
    "## [5.2] Applying Naive Bayes on TFIDF,<font color='red'> SET 2</font>"
   ]
  },
  {
   "cell_type": "code",
   "execution_count": 37,
   "metadata": {
    "colab": {},
    "colab_type": "code",
    "id": "oL29fzPFJkll",
    "scrolled": true
   },
   "outputs": [],
   "source": [
    "tfidf = tf_idf(train['Text'])\n",
    "train_tfidf = tfidf.transform(train['Text'])\n",
    "cv_tfidf = tfidf.transform(cv['Text'])\n",
    "test_tfidf = tfidf.transform(test['Text'])\n",
    "\n",
    "# Normalizer Data\n",
    "train_tfidf = Normalizer().fit_transform(train_tfidf)\n",
    "cv_tfidf = Normalizer().fit_transform(cv_tfidf)\n",
    "test_tfidf = Normalizer().fit_transform(test_tfidf)"
   ]
  },
  {
   "cell_type": "code",
   "execution_count": 38,
   "metadata": {
    "scrolled": false
   },
   "outputs": [
    {
     "name": "stderr",
     "output_type": "stream",
     "text": [
      "\r",
      "  0%|          | 0/11 [00:00<?, ?it/s]"
     ]
    },
    {
     "name": "stdout",
     "output_type": "stream",
     "text": [
      "1    307061\n",
      "0     57110\n",
      "Name: Score, dtype: int64\n"
     ]
    },
    {
     "name": "stderr",
     "output_type": "stream",
     "text": [
      "\r",
      "  9%|▉         | 1/11 [00:00<00:02,  3.94it/s]"
     ]
    },
    {
     "name": "stdout",
     "output_type": "stream",
     "text": [
      "alpha = 1e-05  ------> [0.9229607774221901]\n"
     ]
    },
    {
     "name": "stderr",
     "output_type": "stream",
     "text": [
      "\r",
      " 18%|█▊        | 2/11 [00:00<00:02,  3.64it/s]"
     ]
    },
    {
     "name": "stdout",
     "output_type": "stream",
     "text": [
      "alpha = 0.0001  ------> [0.9229607774221901, 0.9335245343997114]\n"
     ]
    },
    {
     "name": "stderr",
     "output_type": "stream",
     "text": [
      "\r",
      " 27%|██▋       | 3/11 [00:00<00:02,  3.23it/s]"
     ]
    },
    {
     "name": "stdout",
     "output_type": "stream",
     "text": [
      "alpha = 0.001  ------> [0.9229607774221901, 0.9335245343997114, 0.9439058187904841]\n"
     ]
    },
    {
     "name": "stderr",
     "output_type": "stream",
     "text": [
      "\r",
      " 36%|███▋      | 4/11 [00:01<00:02,  3.09it/s]"
     ]
    },
    {
     "name": "stdout",
     "output_type": "stream",
     "text": [
      "alpha = 0.01  ------> [0.9229607774221901, 0.9335245343997114, 0.9439058187904841, 0.9528782542903811]\n"
     ]
    },
    {
     "name": "stderr",
     "output_type": "stream",
     "text": [
      "\r",
      " 45%|████▌     | 5/11 [00:01<00:01,  3.06it/s]"
     ]
    },
    {
     "name": "stdout",
     "output_type": "stream",
     "text": [
      "alpha = 0.1  ------> [0.9229607774221901, 0.9335245343997114, 0.9439058187904841, 0.9528782542903811, 0.9586502514483972]\n"
     ]
    },
    {
     "name": "stderr",
     "output_type": "stream",
     "text": [
      "\r",
      " 55%|█████▍    | 6/11 [00:01<00:01,  3.27it/s]"
     ]
    },
    {
     "name": "stdout",
     "output_type": "stream",
     "text": [
      "alpha = 1  ------> [0.9229607774221901, 0.9335245343997114, 0.9439058187904841, 0.9528782542903811, 0.9586502514483972, 0.9562555454179729]\n"
     ]
    },
    {
     "name": "stderr",
     "output_type": "stream",
     "text": [
      "\r",
      " 64%|██████▎   | 7/11 [00:02<00:01,  3.44it/s]"
     ]
    },
    {
     "name": "stdout",
     "output_type": "stream",
     "text": [
      "alpha = 10  ------> [0.9229607774221901, 0.9335245343997114, 0.9439058187904841, 0.9528782542903811, 0.9586502514483972, 0.9562555454179729, 0.852863207705344]\n"
     ]
    },
    {
     "name": "stderr",
     "output_type": "stream",
     "text": [
      "\r",
      " 73%|███████▎  | 8/11 [00:02<00:00,  3.45it/s]"
     ]
    },
    {
     "name": "stdout",
     "output_type": "stream",
     "text": [
      "alpha = 100  ------> [0.9229607774221901, 0.9335245343997114, 0.9439058187904841, 0.9528782542903811, 0.9586502514483972, 0.9562555454179729, 0.852863207705344, 0.7122964464157268]\n"
     ]
    },
    {
     "name": "stderr",
     "output_type": "stream",
     "text": [
      "\r",
      " 82%|████████▏ | 9/11 [00:02<00:00,  3.55it/s]"
     ]
    },
    {
     "name": "stdout",
     "output_type": "stream",
     "text": [
      "alpha = 1000  ------> [0.9229607774221901, 0.9335245343997114, 0.9439058187904841, 0.9528782542903811, 0.9586502514483972, 0.9562555454179729, 0.852863207705344, 0.7122964464157268, 0.658198796048301]\n"
     ]
    },
    {
     "name": "stderr",
     "output_type": "stream",
     "text": [
      "\r",
      " 91%|█████████ | 10/11 [00:02<00:00,  3.63it/s]"
     ]
    },
    {
     "name": "stdout",
     "output_type": "stream",
     "text": [
      "alpha = 10000  ------> [0.9229607774221901, 0.9335245343997114, 0.9439058187904841, 0.9528782542903811, 0.9586502514483972, 0.9562555454179729, 0.852863207705344, 0.7122964464157268, 0.658198796048301, 0.6369048382242513]\n"
     ]
    },
    {
     "name": "stderr",
     "output_type": "stream",
     "text": [
      "\r",
      "100%|██████████| 11/11 [00:03<00:00,  3.71it/s]"
     ]
    },
    {
     "name": "stdout",
     "output_type": "stream",
     "text": [
      "alpha = 100000  ------> [0.9229607774221901, 0.9335245343997114, 0.9439058187904841, 0.9528782542903811, 0.9586502514483972, 0.9562555454179729, 0.852863207705344, 0.7122964464157268, 0.658198796048301, 0.6369048382242513, 0.6329694487244926]\n"
     ]
    },
    {
     "name": "stderr",
     "output_type": "stream",
     "text": [
      "\n"
     ]
    },
    {
     "data": {
      "image/png": "[encoded data removed]",
      "text/plain": [
       "<Figure size 432x288 with 1 Axes>"
      ]
     },
     "metadata": {
      "needs_background": "light"
     },
     "output_type": "display_data"
    },
    {
     "data": {
      "image/png": "[encoded data removed]",
      "text/plain": [
       "<Figure size 432x288 with 1 Axes>"
      ]
     },
     "metadata": {
      "needs_background": "light"
     },
     "output_type": "display_data"
    },
    {
     "name": "stdout",
     "output_type": "stream",
     "text": [
      "Accuracy score of Test Data is : 90.32376170301794\n"
     ]
    },
    {
     "data": {
      "image/png": "[encoded data removed]",
      "text/plain": [
       "<Figure size 432x288 with 2 Axes>"
      ]
     },
     "metadata": {
      "needs_background": "light"
     },
     "output_type": "display_data"
    },
    {
     "data": {
      "image/png": "[encoded data removed]",
      "text/plain": [
       "<Figure size 432x288 with 2 Axes>"
      ]
     },
     "metadata": {
      "needs_background": "light"
     },
     "output_type": "display_data"
    },
    {
     "name": "stdout",
     "output_type": "stream",
     "text": [
      "Best value of alpha is:  0.1\n"
     ]
    }
   ],
   "source": [
    "print(data['Score'].value_counts())\n",
    "# As we can see there are large number of +ve examples and very less number of negative example, we need to use prior\n",
    "best_alpha_tfidf, idx = NB_binary_clf(train_tfidf, cv_tfidf, train_label, cv_label, class_prior_=[1/2,1/2])\n",
    "print(\"Best value of alpha is: \",best_alpha_tfidf)"
   ]
  },
  {
   "cell_type": "code",
   "execution_count": 39,
   "metadata": {},
   "outputs": [
    {
     "data": {
      "image/png": "[encoded data removed]",
      "text/plain": [
       "<Figure size 432x288 with 1 Axes>"
      ]
     },
     "metadata": {
      "needs_background": "light"
     },
     "output_type": "display_data"
    },
    {
     "name": "stdout",
     "output_type": "stream",
     "text": [
      "Accuracy score of Test Data is : 90.32376170301794\n"
     ]
    },
    {
     "data": {
      "image/png": "[encoded data removed]",
      "text/plain": [
       "<Figure size 432x288 with 2 Axes>"
      ]
     },
     "metadata": {
      "needs_background": "light"
     },
     "output_type": "display_data"
    },
    {
     "data": {
      "image/png": "[encoded data removed]",
      "text/plain": [
       "<Figure size 432x288 with 2 Axes>"
      ]
     },
     "metadata": {
      "needs_background": "light"
     },
     "output_type": "display_data"
    },
    {
     "name": "stdout",
     "output_type": "stream",
     "text": [
      "AUC of Test Data 95.86502514483972\n"
     ]
    }
   ],
   "source": [
    "auc_tfidf = NB_binary_clf(train_tfidf, cv_tfidf, train_label, cv_label, best_alpha=best_alpha_tfidf, test=True, class_prior_=[1/2,1/2])\n",
    "print(\"AUC of Test Data\" ,auc_tfidf*100)"
   ]
  },
  {
   "cell_type": "code",
   "execution_count": 40,
   "metadata": {},
   "outputs": [],
   "source": [
    "features = np.array(tfidf.get_feature_names())"
   ]
  },
  {
   "cell_type": "markdown",
   "metadata": {
    "colab_type": "text",
    "id": "Dtpj7iMSJkln"
   },
   "source": [
    "### [5.2.1] Top 10 important features of positive class from<font color='red'> SET 2</font>"
   ]
  },
  {
   "cell_type": "code",
   "execution_count": 41,
   "metadata": {
    "colab": {},
    "colab_type": "code",
    "id": "g3flcTmmJklo"
   },
   "outputs": [
    {
     "name": "stdout",
     "output_type": "stream",
     "text": [
      "Here are top 10 features from positive class: \n",
      "flavor, one, taste, product, love, coffee, tea, like, not, good, "
     ]
    }
   ],
   "source": [
    "print(\"Here are top 10 features from positive class: \")\n",
    "for i in idx[1, features.shape[0]-11:features.shape[0]-1]:\n",
    "    if i>features.shape[0]-1:\n",
    "        i = i-(features.shape[0]-1)\n",
    "        print(features[i], end=', ')\n",
    "    else:\n",
    "        print(features[i], end=', ')"
   ]
  },
  {
   "cell_type": "markdown",
   "metadata": {
    "colab_type": "text",
    "id": "UovIVRyEJklq"
   },
   "source": [
    "### [5.2.2] Top 10 important features of negative class from<font color='red'> SET 2</font>"
   ]
  },
  {
   "cell_type": "code",
   "execution_count": 42,
   "metadata": {
    "colab": {},
    "colab_type": "code",
    "id": "i3i3cShuJklr"
   },
   "outputs": [
    {
     "name": "stdout",
     "output_type": "stream",
     "text": [
      "Here are top 10 features from negative class: \n",
      "buy, good, flavor, no, one, coffee, would, taste, product, like, "
     ]
    }
   ],
   "source": [
    "print(\"Here are top 10 features from negative class: \")\n",
    "for i in idx[0, features.shape[0]-11:features.shape[0]-1]:\n",
    "    if i>features.shape[0]-1:\n",
    "        i = i-(features.shape[0]-1)\n",
    "        print(features[i], end=', ')\n",
    "    else:\n",
    "        print(features[i], end=', ')"
   ]
  },
  {
   "cell_type": "markdown",
   "metadata": {},
   "source": [
    "# [6] Feature Engineering"
   ]
  },
  {
   "cell_type": "markdown",
   "metadata": {},
   "source": [
    "> Our model performace is not good, we need to perform feature engineering to increase the performance of the model.\n",
    "* Add another column i.e. Length of the Review.\n",
    "* Use words from Summary of Reviews"
   ]
  },
  {
   "cell_type": "code",
   "execution_count": 43,
   "metadata": {},
   "outputs": [
    {
     "data": {
      "text/plain": [
       "'witty little book makes son laugh loud recite car driving along always sing refrain learned whales india drooping roses love new words book introduces silliness classic book willing bet son still able recite memory college'"
      ]
     },
     "execution_count": 43,
     "metadata": {},
     "output_type": "execute_result"
    }
   ],
   "source": [
    "non_redundant['Text'].iloc[0]"
   ]
  },
  {
   "cell_type": "code",
   "execution_count": 44,
   "metadata": {},
   "outputs": [
    {
     "name": "stdout",
     "output_type": "stream",
     "text": [
      "364171\n",
      "(364171, 10)\n",
      "witty little book makes son laugh loud recite car driving along always sing refrain learned whales india drooping roses love new words book introduces silliness classic book willing bet son still able recite memory college every book educational 222\n"
     ]
    }
   ],
   "source": [
    "preprocessed_review_and_summary=[]\n",
    "for i in range(len(preprocessed_review)):\n",
    "    preprocessed_review_and_summary.append(preprocessed_review[i]+\" \"+preprocessed_summary[i]+\" \"+str(len(non_redundant['Text'].iloc[i])))\n",
    "\n",
    "print(len(preprocessed_review_and_summary))\n",
    "data['Text'] = preprocessed_review_and_summary\n",
    "print(data.shape)\n",
    "print(data['Text'].iloc[0])"
   ]
  },
  {
   "cell_type": "code",
   "execution_count": 45,
   "metadata": {},
   "outputs": [
    {
     "name": "stdout",
     "output_type": "stream",
     "text": [
      "(364171, 10)\n",
      "Train Data :  (178443, 10)   CV Data :  (76476, 10)   Test Data :  (109252, 10)\n",
      "Test : 1254960000\n",
      "CV : 1328659200\n",
      "Train : 1229212800\n",
      "good hard find local grocery stores mix egg yolk buttermilk fold beaten foam egg white fluffy waffles pancakes makes good waffles 110\n",
      "child campbell tomato soup staple house high sodium content held back feeding kids happened upon grocery store one day kids loved soup flavor get picky daughter eat although low sodium version still considerable amount sodium prepackaged soup figure since eat every day diet generally low sodium anyway hurt anything not mention health benefits tomatoes daughter not eat regularly soup creamy pairs well sandwich crackers even grilled chicken often pack thermos daughter lunch would compare la madeleine creamy tomato basil soup smoother texture far less calories wonderful rich tasting tomato soup 563\n"
     ]
    }
   ],
   "source": [
    "sorted_data = data.sort_values('Time', axis=0, ascending=True, kind = 'quicksort')\n",
    "print(sorted_data.shape)\n",
    "train_and_cv, test = tts(sorted_data, test_size=0.3, random_state=0)\n",
    "train, cv = tts(train_and_cv, test_size=0.3, random_state=0)\n",
    "print(\"Train Data : \", train.shape, \"  CV Data : \", cv.shape, \"  Test Data : \", test.shape)\n",
    "print(\"Test :\", test['Time'].iloc[0])\n",
    "print(\"CV :\",cv['Time'].iloc[0])\n",
    "print(\"Train :\",train['Time'].iloc[0])\n",
    "print(train['Text'].iloc[0])\n",
    "print(cv['Text'].iloc[0])"
   ]
  },
  {
   "cell_type": "code",
   "execution_count": 46,
   "metadata": {},
   "outputs": [
    {
     "name": "stdout",
     "output_type": "stream",
     "text": [
      "False\n",
      "(178443, 85500) (178443,)\n",
      "['10' '100' '1000']\n"
     ]
    }
   ],
   "source": [
    "from sklearn.preprocessing import Normalizer\n",
    "# Computing BOW for train, test, cv dataset\n",
    "bow = bag_of_words(train['Text'])\n",
    "train_bow = bow.transform(train['Text'])\n",
    "cv_bow = bow.transform(cv['Text'])\n",
    "test_bow = bow.transform(test['Text'])\n",
    "train_label = train['Score']\n",
    "cv_label = cv['Score']\n",
    "test_label = test['Score']\n",
    "features = np.array(bow.get_feature_names())\n",
    "\n",
    "print(pd.isna(data['Score']).any())\n",
    "print(train_bow.shape, train_label.shape)\n",
    "print(features[0:3])\n",
    "\n",
    "# Normalize Data\n",
    "train_bow = Normalizer().fit_transform(train_bow)\n",
    "cv_bow = Normalizer().fit_transform(cv_bow)\n",
    "test_bow = Normalizer().fit_transform(test_bow)"
   ]
  },
  {
   "cell_type": "code",
   "execution_count": 47,
   "metadata": {
    "scrolled": false
   },
   "outputs": [
    {
     "name": "stderr",
     "output_type": "stream",
     "text": [
      "\r",
      "  0%|          | 0/11 [00:00<?, ?it/s]"
     ]
    },
    {
     "name": "stdout",
     "output_type": "stream",
     "text": [
      "1    307061\n",
      "0     57110\n",
      "Name: Score, dtype: int64\n"
     ]
    },
    {
     "name": "stderr",
     "output_type": "stream",
     "text": [
      "\r",
      "  9%|▉         | 1/11 [00:00<00:04,  2.09it/s]"
     ]
    },
    {
     "name": "stdout",
     "output_type": "stream",
     "text": [
      "alpha = 1e-05  ------> [0.925702982933322]\n"
     ]
    },
    {
     "name": "stderr",
     "output_type": "stream",
     "text": [
      "\r",
      " 18%|█▊        | 2/11 [00:00<00:03,  2.35it/s]"
     ]
    },
    {
     "name": "stdout",
     "output_type": "stream",
     "text": [
      "alpha = 0.0001  ------> [0.925702982933322, 0.9385739587818728]\n"
     ]
    },
    {
     "name": "stderr",
     "output_type": "stream",
     "text": [
      "\r",
      " 27%|██▋       | 3/11 [00:01<00:03,  2.50it/s]"
     ]
    },
    {
     "name": "stdout",
     "output_type": "stream",
     "text": [
      "alpha = 0.001  ------> [0.925702982933322, 0.9385739587818728, 0.9497569364552274]\n"
     ]
    },
    {
     "name": "stderr",
     "output_type": "stream",
     "text": [
      "\r",
      " 36%|███▋      | 4/11 [00:01<00:03,  2.23it/s]"
     ]
    },
    {
     "name": "stdout",
     "output_type": "stream",
     "text": [
      "alpha = 0.01  ------> [0.925702982933322, 0.9385739587818728, 0.9497569364552274, 0.9572732012975617]\n"
     ]
    },
    {
     "name": "stderr",
     "output_type": "stream",
     "text": [
      "\r",
      " 45%|████▌     | 5/11 [00:02<00:02,  2.10it/s]"
     ]
    },
    {
     "name": "stdout",
     "output_type": "stream",
     "text": [
      "alpha = 0.1  ------> [0.925702982933322, 0.9385739587818728, 0.9497569364552274, 0.9572732012975617, 0.9593522468866085]\n"
     ]
    },
    {
     "name": "stderr",
     "output_type": "stream",
     "text": [
      "\r",
      " 55%|█████▍    | 6/11 [00:02<00:02,  2.32it/s]"
     ]
    },
    {
     "name": "stdout",
     "output_type": "stream",
     "text": [
      "alpha = 1  ------> [0.925702982933322, 0.9385739587818728, 0.9497569364552274, 0.9572732012975617, 0.9593522468866085, 0.9491751914994653]\n"
     ]
    },
    {
     "name": "stderr",
     "output_type": "stream",
     "text": [
      "\r",
      " 64%|██████▎   | 7/11 [00:02<00:01,  2.61it/s]"
     ]
    },
    {
     "name": "stdout",
     "output_type": "stream",
     "text": [
      "alpha = 10  ------> [0.925702982933322, 0.9385739587818728, 0.9497569364552274, 0.9572732012975617, 0.9593522468866085, 0.9491751914994653, 0.8320515192887711]\n"
     ]
    },
    {
     "name": "stderr",
     "output_type": "stream",
     "text": [
      "\r",
      " 73%|███████▎  | 8/11 [00:03<00:01,  2.68it/s]"
     ]
    },
    {
     "name": "stdout",
     "output_type": "stream",
     "text": [
      "alpha = 100  ------> [0.925702982933322, 0.9385739587818728, 0.9497569364552274, 0.9572732012975617, 0.9593522468866085, 0.9491751914994653, 0.8320515192887711, 0.7465111731114971]\n"
     ]
    },
    {
     "name": "stderr",
     "output_type": "stream",
     "text": [
      "\r",
      " 82%|████████▏ | 9/11 [00:03<00:00,  2.91it/s]"
     ]
    },
    {
     "name": "stdout",
     "output_type": "stream",
     "text": [
      "alpha = 1000  ------> [0.925702982933322, 0.9385739587818728, 0.9497569364552274, 0.9572732012975617, 0.9593522468866085, 0.9491751914994653, 0.8320515192887711, 0.7465111731114971, 0.7038504392456901]\n"
     ]
    },
    {
     "name": "stderr",
     "output_type": "stream",
     "text": [
      "\r",
      " 91%|█████████ | 10/11 [00:03<00:00,  2.79it/s]"
     ]
    },
    {
     "name": "stdout",
     "output_type": "stream",
     "text": [
      "alpha = 10000  ------> [0.925702982933322, 0.9385739587818728, 0.9497569364552274, 0.9572732012975617, 0.9593522468866085, 0.9491751914994653, 0.8320515192887711, 0.7465111731114971, 0.7038504392456901, 0.661702256454115]\n"
     ]
    },
    {
     "name": "stderr",
     "output_type": "stream",
     "text": [
      "\r",
      "100%|██████████| 11/11 [00:04<00:00,  2.68it/s]"
     ]
    },
    {
     "name": "stdout",
     "output_type": "stream",
     "text": [
      "alpha = 100000  ------> [0.925702982933322, 0.9385739587818728, 0.9497569364552274, 0.9572732012975617, 0.9593522468866085, 0.9491751914994653, 0.8320515192887711, 0.7465111731114971, 0.7038504392456901, 0.661702256454115, 0.6477756081954275]\n"
     ]
    },
    {
     "name": "stderr",
     "output_type": "stream",
     "text": [
      "\n"
     ]
    },
    {
     "data": {
      "image/png": "[encoded data removed]",
      "text/plain": [
       "<Figure size 432x288 with 1 Axes>"
      ]
     },
     "metadata": {
      "needs_background": "light"
     },
     "output_type": "display_data"
    },
    {
     "data": {
      "image/png": "[encoded data removed]",
      "text/plain": [
       "<Figure size 432x288 with 1 Axes>"
      ]
     },
     "metadata": {
      "needs_background": "light"
     },
     "output_type": "display_data"
    },
    {
     "name": "stdout",
     "output_type": "stream",
     "text": [
      "Accuracy score of Test Data is : 91.15670275642032\n"
     ]
    },
    {
     "data": {
      "image/png": "[encoded data removed]",
      "text/plain": [
       "<Figure size 432x288 with 2 Axes>"
      ]
     },
     "metadata": {
      "needs_background": "light"
     },
     "output_type": "display_data"
    },
    {
     "data": {
      "image/png": "[encoded data removed]",
      "text/plain": [
       "<Figure size 432x288 with 2 Axes>"
      ]
     },
     "metadata": {
      "needs_background": "light"
     },
     "output_type": "display_data"
    },
    {
     "name": "stdout",
     "output_type": "stream",
     "text": [
      "Best value of alpha is:  0.1\n"
     ]
    }
   ],
   "source": [
    "print(data['Score'].value_counts())\n",
    "# As we can see there are large number of +ve examples and very less number of negative example, we need to use prior\n",
    "best_alpha_bow_final, idx = NB_binary_clf(train_bow, cv_bow, train_label, cv_label, class_prior_=[1/2,1/2])\n",
    "print(\"Best value of alpha is: \",best_alpha_bow_final)"
   ]
  },
  {
   "cell_type": "code",
   "execution_count": 48,
   "metadata": {},
   "outputs": [
    {
     "data": {
      "image/png": "[encoded data removed]",
      "text/plain": [
       "<Figure size 432x288 with 1 Axes>"
      ]
     },
     "metadata": {
      "needs_background": "light"
     },
     "output_type": "display_data"
    },
    {
     "name": "stdout",
     "output_type": "stream",
     "text": [
      "Accuracy score of Test Data is : 91.15670275642032\n"
     ]
    },
    {
     "data": {
      "image/png": "[encoded data removed]",
      "text/plain": [
       "<Figure size 432x288 with 2 Axes>"
      ]
     },
     "metadata": {
      "needs_background": "light"
     },
     "output_type": "display_data"
    },
    {
     "data": {
      "image/png": "[encoded data removed]",
      "text/plain": [
       "<Figure size 432x288 with 2 Axes>"
      ]
     },
     "metadata": {
      "needs_background": "light"
     },
     "output_type": "display_data"
    },
    {
     "name": "stdout",
     "output_type": "stream",
     "text": [
      "AUC of Test Data 95.93522468866085\n"
     ]
    }
   ],
   "source": [
    "# As we can see there are large number of +ve examples and very less number of negative example, we need to use prior\n",
    "auc_bow_final = NB_binary_clf(train_bow, cv_bow, train_label, cv_label, best_alpha=best_alpha_bow_final, test=True, class_prior_=[1/2,1/2])\n",
    "print(\"AUC of Test Data\" ,auc_bow_final*100)"
   ]
  },
  {
   "cell_type": "markdown",
   "metadata": {
    "colab_type": "text",
    "id": "u-ZSD3tlJklg"
   },
   "source": [
    "### [5.1.1] Top 10 important features of positive class from<font color='red'> SET 1</font>"
   ]
  },
  {
   "cell_type": "code",
   "execution_count": 49,
   "metadata": {
    "colab": {},
    "colab_type": "code",
    "id": "86fu_aO8Jklg"
   },
   "outputs": [
    {
     "name": "stdout",
     "output_type": "stream",
     "text": [
      "Here are top 10 features from positive class: \n",
      "best, tea, one, coffee, taste, product, love, like, not, good, "
     ]
    }
   ],
   "source": [
    "print(\"Here are top 10 features from positive class: \")\n",
    "for i in idx[1, features.shape[0]-11:features.shape[0]-1]:\n",
    "    if i>features.shape[0]-1:\n",
    "        i = i-(features.shape[0]-1)\n",
    "        print(features[i], end=', ')\n",
    "    else:\n",
    "        print(features[i], end=', ')"
   ]
  },
  {
   "cell_type": "markdown",
   "metadata": {
    "colab_type": "text",
    "id": "mquFtwF5Jklj"
   },
   "source": [
    "### [5.1.2] Top 10 important features of negative class from<font color='red'> SET 1</font>"
   ]
  },
  {
   "cell_type": "code",
   "execution_count": 50,
   "metadata": {
    "colab": {},
    "colab_type": "code",
    "id": "_RacUnTrJklj"
   },
   "outputs": [
    {
     "name": "stdout",
     "output_type": "stream",
     "text": [
      "Here are top 10 features from negative class: \n",
      "buy, flavor, no, coffee, would, good, one, product, taste, like, "
     ]
    }
   ],
   "source": [
    "print(\"Here are top 10 features from negative class: \")\n",
    "for i in idx[0, features.shape[0]-11:features.shape[0]-1]:\n",
    "    if i>features.shape[0]-1:\n",
    "        i = i-(features.shape[0]-1)\n",
    "        print(features[i], end=', ')\n",
    "    else:\n",
    "        print(features[i], end=', ')"
   ]
  },
  {
   "cell_type": "markdown",
   "metadata": {
    "colab_type": "text",
    "id": "6bp7BbwCJkll"
   },
   "source": [
    "## [5.2] Applying Naive Bayes on TFIDF,<font color='red'> SET 2</font>"
   ]
  },
  {
   "cell_type": "code",
   "execution_count": 51,
   "metadata": {
    "colab": {},
    "colab_type": "code",
    "id": "oL29fzPFJkll",
    "scrolled": true
   },
   "outputs": [],
   "source": [
    "tfidf = tf_idf(train['Text'])\n",
    "train_tfidf = tfidf.transform(train['Text'])\n",
    "cv_tfidf = tfidf.transform(cv['Text'])\n",
    "test_tfidf = tfidf.transform(test['Text'])\n",
    "\n",
    "# Normalizer Data\n",
    "train_tfidf = Normalizer().fit_transform(train_tfidf)\n",
    "cv_tfidf = Normalizer().fit_transform(cv_tfidf)\n",
    "test_tfidf = Normalizer().fit_transform(test_tfidf)"
   ]
  },
  {
   "cell_type": "code",
   "execution_count": 52,
   "metadata": {
    "scrolled": false
   },
   "outputs": [
    {
     "name": "stderr",
     "output_type": "stream",
     "text": [
      "\r",
      "  0%|          | 0/11 [00:00<?, ?it/s]"
     ]
    },
    {
     "name": "stdout",
     "output_type": "stream",
     "text": [
      "1    307061\n",
      "0     57110\n",
      "Name: Score, dtype: int64\n"
     ]
    },
    {
     "name": "stderr",
     "output_type": "stream",
     "text": [
      "\r",
      "  9%|▉         | 1/11 [00:00<00:04,  2.35it/s]"
     ]
    },
    {
     "name": "stdout",
     "output_type": "stream",
     "text": [
      "alpha = 1e-05  ------> [0.9461406822356562]\n"
     ]
    },
    {
     "name": "stderr",
     "output_type": "stream",
     "text": [
      "\r",
      " 18%|█▊        | 2/11 [00:00<00:04,  2.14it/s]"
     ]
    },
    {
     "name": "stdout",
     "output_type": "stream",
     "text": [
      "alpha = 0.0001  ------> [0.9461406822356562, 0.9542035367528194]\n"
     ]
    },
    {
     "name": "stderr",
     "output_type": "stream",
     "text": [
      "\r",
      " 27%|██▋       | 3/11 [00:01<00:04,  1.76it/s]"
     ]
    },
    {
     "name": "stdout",
     "output_type": "stream",
     "text": [
      "alpha = 0.001  ------> [0.9461406822356562, 0.9542035367528194, 0.9617207752780077]\n"
     ]
    },
    {
     "name": "stderr",
     "output_type": "stream",
     "text": [
      "\r",
      " 36%|███▋      | 4/11 [00:02<00:03,  1.79it/s]"
     ]
    },
    {
     "name": "stdout",
     "output_type": "stream",
     "text": [
      "alpha = 0.01  ------> [0.9461406822356562, 0.9542035367528194, 0.9617207752780077, 0.9677674913983603]\n"
     ]
    },
    {
     "name": "stderr",
     "output_type": "stream",
     "text": [
      "\r",
      " 45%|████▌     | 5/11 [00:02<00:03,  1.90it/s]"
     ]
    },
    {
     "name": "stdout",
     "output_type": "stream",
     "text": [
      "alpha = 0.1  ------> [0.9461406822356562, 0.9542035367528194, 0.9617207752780077, 0.9677674913983603, 0.9711125885928711]\n"
     ]
    },
    {
     "name": "stderr",
     "output_type": "stream",
     "text": [
      "\r",
      " 55%|█████▍    | 6/11 [00:03<00:02,  1.95it/s]"
     ]
    },
    {
     "name": "stdout",
     "output_type": "stream",
     "text": [
      "alpha = 1  ------> [0.9461406822356562, 0.9542035367528194, 0.9617207752780077, 0.9677674913983603, 0.9711125885928711, 0.9694289401410785]\n"
     ]
    },
    {
     "name": "stderr",
     "output_type": "stream",
     "text": [
      "\r",
      " 64%|██████▎   | 7/11 [00:03<00:02,  1.89it/s]"
     ]
    },
    {
     "name": "stdout",
     "output_type": "stream",
     "text": [
      "alpha = 10  ------> [0.9461406822356562, 0.9542035367528194, 0.9617207752780077, 0.9677674913983603, 0.9711125885928711, 0.9694289401410785, 0.8960256027371487]\n"
     ]
    },
    {
     "name": "stderr",
     "output_type": "stream",
     "text": [
      "\r",
      " 73%|███████▎  | 8/11 [00:04<00:01,  1.85it/s]"
     ]
    },
    {
     "name": "stdout",
     "output_type": "stream",
     "text": [
      "alpha = 100  ------> [0.9461406822356562, 0.9542035367528194, 0.9617207752780077, 0.9677674913983603, 0.9711125885928711, 0.9694289401410785, 0.8960256027371487, 0.7647209729460268]\n"
     ]
    },
    {
     "name": "stderr",
     "output_type": "stream",
     "text": [
      "\r",
      " 82%|████████▏ | 9/11 [00:05<00:01,  1.77it/s]"
     ]
    },
    {
     "name": "stdout",
     "output_type": "stream",
     "text": [
      "alpha = 1000  ------> [0.9461406822356562, 0.9542035367528194, 0.9617207752780077, 0.9677674913983603, 0.9711125885928711, 0.9694289401410785, 0.8960256027371487, 0.7647209729460268, 0.7089714364674895]\n"
     ]
    },
    {
     "name": "stderr",
     "output_type": "stream",
     "text": [
      "\r",
      " 91%|█████████ | 10/11 [00:05<00:00,  1.90it/s]"
     ]
    },
    {
     "name": "stdout",
     "output_type": "stream",
     "text": [
      "alpha = 10000  ------> [0.9461406822356562, 0.9542035367528194, 0.9617207752780077, 0.9677674913983603, 0.9711125885928711, 0.9694289401410785, 0.8960256027371487, 0.7647209729460268, 0.7089714364674895, 0.6905411813150676]\n"
     ]
    },
    {
     "name": "stderr",
     "output_type": "stream",
     "text": [
      "\r",
      "100%|██████████| 11/11 [00:06<00:00,  1.73it/s]"
     ]
    },
    {
     "name": "stdout",
     "output_type": "stream",
     "text": [
      "alpha = 100000  ------> [0.9461406822356562, 0.9542035367528194, 0.9617207752780077, 0.9677674913983603, 0.9711125885928711, 0.9694289401410785, 0.8960256027371487, 0.7647209729460268, 0.7089714364674895, 0.6905411813150676, 0.6876109016158279]\n"
     ]
    },
    {
     "name": "stderr",
     "output_type": "stream",
     "text": [
      "\n"
     ]
    },
    {
     "data": {
      "image/png": "[encoded data removed]",
      "text/plain": [
       "<Figure size 432x288 with 1 Axes>"
      ]
     },
     "metadata": {
      "needs_background": "light"
     },
     "output_type": "display_data"
    },
    {
     "data": {
      "image/png": "[encoded data removed]",
      "text/plain": [
       "<Figure size 432x288 with 1 Axes>"
      ]
     },
     "metadata": {
      "needs_background": "light"
     },
     "output_type": "display_data"
    },
    {
     "name": "stdout",
     "output_type": "stream",
     "text": [
      "Accuracy score of Test Data is : 92.03540980176787\n"
     ]
    },
    {
     "data": {
      "image/png": "[encoded data removed]",
      "text/plain": [
       "<Figure size 432x288 with 2 Axes>"
      ]
     },
     "metadata": {
      "needs_background": "light"
     },
     "output_type": "display_data"
    },
    {
     "data": {
      "image/png": "[encoded data removed]",
      "text/plain": [
       "<Figure size 432x288 with 2 Axes>"
      ]
     },
     "metadata": {
      "needs_background": "light"
     },
     "output_type": "display_data"
    },
    {
     "name": "stdout",
     "output_type": "stream",
     "text": [
      "Best value of alpha is:  0.1\n"
     ]
    }
   ],
   "source": [
    "print(data['Score'].value_counts())\n",
    "# As we can see there are large number of +ve examples and very less number of negative example, we need to use prior\n",
    "best_alpha_tfidf_final, idx = NB_binary_clf(train_tfidf, cv_tfidf, train_label, cv_label, class_prior_=[1/2,1/2])\n",
    "print(\"Best value of alpha is: \",best_alpha_tfidf_final)"
   ]
  },
  {
   "cell_type": "code",
   "execution_count": 53,
   "metadata": {},
   "outputs": [
    {
     "data": {
      "image/png": "[encoded data removed]",
      "text/plain": [
       "<Figure size 432x288 with 1 Axes>"
      ]
     },
     "metadata": {
      "needs_background": "light"
     },
     "output_type": "display_data"
    },
    {
     "name": "stdout",
     "output_type": "stream",
     "text": [
      "Accuracy score of Test Data is : 92.03540980176787\n"
     ]
    },
    {
     "data": {
      "image/png": "[encoded data removed]",
      "text/plain": [
       "<Figure size 432x288 with 2 Axes>"
      ]
     },
     "metadata": {
      "needs_background": "light"
     },
     "output_type": "display_data"
    },
    {
     "data": {
      "image/png": "[encoded data removed]",
      "text/plain": [
       "<Figure size 432x288 with 2 Axes>"
      ]
     },
     "metadata": {
      "needs_background": "light"
     },
     "output_type": "display_data"
    },
    {
     "name": "stdout",
     "output_type": "stream",
     "text": [
      "AUC of Test Data 97.1112588592871\n"
     ]
    }
   ],
   "source": [
    "auc_tfidf_final = NB_binary_clf(train_tfidf, cv_tfidf, train_label, cv_label, best_alpha=best_alpha_tfidf_final, test=True, class_prior_=[1/2,1/2])\n",
    "print(\"AUC of Test Data\" ,auc_tfidf_final*100)"
   ]
  },
  {
   "cell_type": "code",
   "execution_count": 54,
   "metadata": {},
   "outputs": [],
   "source": [
    "features = np.array(tfidf.get_feature_names())"
   ]
  },
  {
   "cell_type": "markdown",
   "metadata": {
    "colab_type": "text",
    "id": "Dtpj7iMSJkln"
   },
   "source": [
    "### [5.2.1] Top 10 important features of positive class from<font color='red'> SET 2</font>"
   ]
  },
  {
   "cell_type": "code",
   "execution_count": 55,
   "metadata": {
    "colab": {},
    "colab_type": "code",
    "id": "g3flcTmmJklo"
   },
   "outputs": [
    {
     "name": "stdout",
     "output_type": "stream",
     "text": [
      "Here are top 10 features from positive class: \n",
      "flavor, best, taste, product, like, love, not, coffee, tea, good, "
     ]
    }
   ],
   "source": [
    "print(\"Here are top 10 features from positive class: \")\n",
    "for i in idx[1, features.shape[0]-11:features.shape[0]-1]:\n",
    "    if i>features.shape[0]-1:\n",
    "        i = i-(features.shape[0]-1)\n",
    "        print(features[i], end=', ')\n",
    "    else:\n",
    "        print(features[i], end=', ')"
   ]
  },
  {
   "cell_type": "markdown",
   "metadata": {
    "colab_type": "text",
    "id": "UovIVRyEJklq"
   },
   "source": [
    "### [5.2.2] Top 10 important features of negative class from<font color='red'> SET 2</font>"
   ]
  },
  {
   "cell_type": "code",
   "execution_count": 56,
   "metadata": {
    "colab": {},
    "colab_type": "code",
    "id": "i3i3cShuJklr"
   },
   "outputs": [
    {
     "name": "stdout",
     "output_type": "stream",
     "text": [
      "Here are top 10 features from negative class: \n",
      "buy, good, flavor, no, one, coffee, would, product, taste, like, "
     ]
    }
   ],
   "source": [
    "print(\"Here are top 10 features from negative class: \")\n",
    "for i in idx[0, features.shape[0]-11:features.shape[0]-1]:\n",
    "    if i>features.shape[0]-1:\n",
    "        i = i-(features.shape[0]-1)\n",
    "        print(features[i], end=', ')\n",
    "    else:\n",
    "        print(features[i], end=', ')"
   ]
  },
  {
   "cell_type": "markdown",
   "metadata": {
    "colab_type": "text",
    "id": "vst5Y7mmJklu"
   },
   "source": [
    "# [7] Conclusions"
   ]
  },
  {
   "cell_type": "code",
   "execution_count": 57,
   "metadata": {
    "colab": {},
    "colab_type": "code",
    "id": "De9HYtIGJklv"
   },
   "outputs": [],
   "source": [
    "from prettytable import PrettyTable"
   ]
  },
  {
   "cell_type": "code",
   "execution_count": 58,
   "metadata": {
    "scrolled": true
   },
   "outputs": [
    {
     "name": "stdout",
     "output_type": "stream",
     "text": [
      "+------------+---------------------------+------------------------+-------------------+\n",
      "| Vectorizer |           Model           | Hyper Parameter(alpha) |  AUC(Percentage)  |\n",
      "+------------+---------------------------+------------------------+-------------------+\n",
      "|    BOW     |   NO Feature Engineering  |          0.1           | 94.28990840185799 |\n",
      "|   TFIDF    |   NO Feature Engineering  |          0.1           | 95.86502514483972 |\n",
      "|    BOW     | After Feature Engineering |          0.1           | 95.93522468866085 |\n",
      "|   TFIDF    | After Feature Engineering |          0.1           |  97.1112588592871 |\n",
      "+------------+---------------------------+------------------------+-------------------+\n"
     ]
    }
   ],
   "source": [
    "p_table = PrettyTable()\n",
    "\n",
    "p_table.field_names=('Vectorizer','Model','Hyper Parameter(alpha)','AUC(Percentage)')\n",
    "p_table.add_row(['BOW','NO Feature Engineering',best_alpha_bow, auc_bow*100])\n",
    "p_table.add_row(['TFIDF','NO Feature Engineering',best_alpha_tfidf, auc_tfidf*100])\n",
    "p_table.add_row(['BOW','After Feature Engineering',best_alpha_bow_final, auc_bow_final*100])\n",
    "p_table.add_row(['TFIDF','After Feature Engineering',best_alpha_tfidf_final, auc_tfidf_final*100])\n",
    "\n",
    "print(p_table)"
   ]
  },
  {
   "cell_type": "code",
   "execution_count": 59,
   "metadata": {},
   "outputs": [
    {
     "name": "stdout",
     "output_type": "stream",
     "text": [
      "As we can see the with Feature Engineering AUC of the model increases further\n",
      "\n",
      "Summary :-\n",
      "\n",
      "* First of all we can apply naive bayes only on positive values so we will only use BOW and TFIDF \n",
      "* In Bag of Words method we first split whole preprocessed reviews into three datasets train,cross validation and test\n",
      "* After that applied count_vect.fit_transform() on train data and count_vect.transform() on cv and train data\n",
      "* Then we applied multinomial naive bayes for different alpha values and store the result in an array\n",
      "* After that we plotted curve between auc score and logarithm of alpha (since alpha ranges from 10^-5 to 10^5) \n",
      "* we took the best alpha value for which auc value was maximum\n",
      "* Then again we fitted train data with our best alpha value and plotted ROC curve\n",
      "* After plotting ROC curve we plotted confusion matrix using heatmap for train and test data\n",
      "* At the end we listed our important positive and negative features using feature_log_prob_ (mentioned in sklearn)\n",
      "--------------------------------------------------\n",
      "* In TFIDF method we used above splitted data\n",
      "* After that applied tf_idf_vect.fit_transform() on train data and tf_idf_vect.transform() on cv and train data\n",
      "* Then we applied multinomial naive bayes for different alpha values and store the result in an array\n",
      "* After that we plotted curve between auc score and logarithm of alpha (since alpha ranges from 10^-5 to 10^5) \n",
      "* we took the best alpha value for which auc value was maximum\n",
      "* Then again we fitted train data with our best alpha value and plotted ROC curve\n",
      "* After plotting ROC curve we plotted confusion matrix using heatmap for train and test data\n",
      "* At the end we listed our important positive and negative features using feature_log_prob_ (mentioned in sklearn)\n",
      "--------------------------------------------------\n",
      "for feature engineering we added review length and preprocessed summmary to preprocessed review and applied multinomial naive bayes like above \n",
      "After that we summarised whole processes and plotted it using prettytable\n",
      "And found that after feature engineering our auc increased\n"
     ]
    }
   ],
   "source": [
    "print(\"As we can see the with Feature Engineering AUC of the model increases further\\n\")\n",
    "print(\"Summary :-\\n\")\n",
    "# Taken from https://github.com/krpiyush5\n",
    "print('* First of all we can apply naive bayes only on positive values so we will only use BOW and TFIDF ')\n",
    "print('* In Bag of Words method we first split whole preprocessed reviews into three datasets train,cross validation and test')\n",
    "print('* After that applied count_vect.fit_transform() on train data and count_vect.transform() on cv and train data')\n",
    "print('* Then we applied multinomial naive bayes for different alpha values and store the result in an array')\n",
    "print('* After that we plotted curve between auc score and logarithm of alpha (since alpha ranges from 10^-5 to 10^5) ')\n",
    "print('* we took the best alpha value for which auc value was maximum')\n",
    "print('* Then again we fitted train data with our best alpha value and plotted ROC curve')\n",
    "print('* After plotting ROC curve we plotted confusion matrix using heatmap for train and test data')\n",
    "print('* At the end we listed our important positive and negative features using feature_log_prob_ (mentioned in sklearn)')\n",
    "print('-'*50)\n",
    "print('* In TFIDF method we used above splitted data')\n",
    "print('* After that applied tf_idf_vect.fit_transform() on train data and tf_idf_vect.transform() on cv and train data')\n",
    "print('* Then we applied multinomial naive bayes for different alpha values and store the result in an array')\n",
    "print('* After that we plotted curve between auc score and logarithm of alpha (since alpha ranges from 10^-5 to 10^5) ')\n",
    "print('* we took the best alpha value for which auc value was maximum')\n",
    "print('* Then again we fitted train data with our best alpha value and plotted ROC curve')\n",
    "print('* After plotting ROC curve we plotted confusion matrix using heatmap for train and test data')\n",
    "print('* At the end we listed our important positive and negative features using feature_log_prob_ (mentioned in sklearn)')\n",
    "print('-'*50)\n",
    "print('for feature engineering we added review length and preprocessed summmary to preprocessed review and applied multinomial naive bayes like above ')\n",
    "print('After that we summarised whole processes and plotted it using prettytable')\n",
    "print('And found that after feature engineering our auc increased')"
   ]
  }
 ],
 "metadata": {
  "kernelspec": {
   "display_name": "Python 3",
   "language": "python",
   "name": "python3"
  },
  "language_info": {
   "codemirror_mode": {
    "name": "ipython",
    "version": 3
   },
   "file_extension": ".py",
   "mimetype": "text/x-python",
   "name": "python",
   "nbconvert_exporter": "python",
   "pygments_lexer": "ipython3",
   "version": "3.7.3"
  }
 },
 "nbformat": 4,
 "nbformat_minor": 2
}
