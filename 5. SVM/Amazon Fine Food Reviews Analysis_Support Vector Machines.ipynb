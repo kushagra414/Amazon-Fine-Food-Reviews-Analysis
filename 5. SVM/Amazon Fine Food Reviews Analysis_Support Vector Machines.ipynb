{
 "cells": [
  {
   "cell_type": "markdown",
   "metadata": {},
   "source": [
    "# Amazon Fine Food Reviews Analysis\n",
    "\n",
    "\n",
    "Data Source: https://www.kaggle.com/snap/amazon-fine-food-reviews <br>\n",
    "\n",
    "\n",
    "The Amazon Fine Food Reviews dataset consists of reviews of fine foods from Amazon.<br>\n",
    "\n",
    "Number of reviews: 568,454<br>\n",
    "Number of users: 256,059<br>\n",
    "Number of products: 74,258<br>\n",
    "Timespan: Oct 1999 - Oct 2012<br>\n",
    "Number of Attributes/Columns in data: 10 \n",
    "\n",
    "Attribute Information:\n",
    "\n",
    "1. Id\n",
    "2. ProductId - unique identifier for the product\n",
    "3. UserId - unqiue identifier for the user\n",
    "4. ProfileName\n",
    "5. HelpfulnessNumerator - number of users who found the review helpful\n",
    "6. HelpfulnessDenominator - number of users who indicated whether they found the review helpful or not\n",
    "7. Score - rating between 1 and 5\n",
    "8. Time - timestamp for the review\n",
    "9. Summary - brief summary of the review\n",
    "10. Text - text of the review\n",
    "\n",
    "\n",
    "#### Objective:\n",
    "Given a review, determine whether the review is positive (Rating of 4 or 5) or negative (rating of 1 or 2).\n",
    "\n",
    "<br>\n",
    "[Q] How to determine if a review is positive or negative?<br>\n",
    "<br> \n",
    "[Ans] We could use the Score/Rating. A rating of 4 or 5 could be cosnidered a positive review. A review of 1 or 2 could be considered negative. A review of 3 is nuetral and ignored. This is an approximate and proxy way of determining the polarity (positivity/negativity) of a review.\n",
    "\n",
    "\n"
   ]
  },
  {
   "cell_type": "markdown",
   "metadata": {},
   "source": [
    "## Loading the data\n",
    "\n",
    "The dataset is available in two forms\n",
    "1. .csv file\n",
    "2. SQLite Database\n",
    "\n",
    "In order to load the data, We have used the SQLITE dataset as it easier to query the data and visualise the data efficiently.\n",
    "<br> \n",
    "\n",
    "Here as we only want to get the global sentiment of the recommendations (positive or negative), we will purposefully ignore all Scores equal to 3. If the score id above 3, then the recommendation wil be set to \"positive\". Otherwise, it will be set to \"negative\"."
   ]
  },
  {
   "cell_type": "code",
   "execution_count": 1,
   "metadata": {},
   "outputs": [],
   "source": [
    "%matplotlib inline\n",
    "#With this backend, the output of plotting commands is displayed inline within frontends like the Jupyter notebook, directly below the code cell that produced it.\n",
    "#The resulting plots will then also be stored in the notebook document.\n",
    "\n",
    "import warnings\n",
    "#This is the base class of all warning category classes. It is a subclass of Exception.\n",
    "\n",
    "warnings.filterwarnings(\"ignore\")\n",
    "# ignore all the warning\n",
    "import numpy as np\n",
    "import pandas as pd\n",
    "import matplotlib.pyplot as plt\n",
    "import seaborn as sns\n",
    "import sqlite3  # For forming connection between the code and sql\n",
    "import time\n",
    "import os"
   ]
  },
  {
   "cell_type": "markdown",
   "metadata": {},
   "source": [
    "## [1] Reading Data"
   ]
  },
  {
   "cell_type": "code",
   "execution_count": 2,
   "metadata": {},
   "outputs": [
    {
     "data": {
      "text/html": [
       "<div>\n",
       "<style scoped>\n",
       "    .dataframe tbody tr th:only-of-type {\n",
       "        vertical-align: middle;\n",
       "    }\n",
       "\n",
       "    .dataframe tbody tr th {\n",
       "        vertical-align: top;\n",
       "    }\n",
       "\n",
       "    .dataframe thead th {\n",
       "        text-align: right;\n",
       "    }\n",
       "</style>\n",
       "<table border=\"1\" class=\"dataframe\">\n",
       "  <thead>\n",
       "    <tr style=\"text-align: right;\">\n",
       "      <th></th>\n",
       "      <th>Id</th>\n",
       "      <th>ProductId</th>\n",
       "      <th>UserId</th>\n",
       "      <th>ProfileName</th>\n",
       "      <th>HelpfulnessNumerator</th>\n",
       "      <th>HelpfulnessDenominator</th>\n",
       "      <th>Score</th>\n",
       "      <th>Time</th>\n",
       "      <th>Summary</th>\n",
       "      <th>Text</th>\n",
       "    </tr>\n",
       "  </thead>\n",
       "  <tbody>\n",
       "    <tr>\n",
       "      <th>0</th>\n",
       "      <td>1</td>\n",
       "      <td>B001E4KFG0</td>\n",
       "      <td>A3SGXH7AUHU8GW</td>\n",
       "      <td>delmartian</td>\n",
       "      <td>1</td>\n",
       "      <td>1</td>\n",
       "      <td>1</td>\n",
       "      <td>1303862400</td>\n",
       "      <td>Good Quality Dog Food</td>\n",
       "      <td>I have bought several of the Vitality canned d...</td>\n",
       "    </tr>\n",
       "    <tr>\n",
       "      <th>1</th>\n",
       "      <td>2</td>\n",
       "      <td>B00813GRG4</td>\n",
       "      <td>A1D87F6ZCVE5NK</td>\n",
       "      <td>dll pa</td>\n",
       "      <td>0</td>\n",
       "      <td>0</td>\n",
       "      <td>0</td>\n",
       "      <td>1346976000</td>\n",
       "      <td>Not as Advertised</td>\n",
       "      <td>Product arrived labeled as Jumbo Salted Peanut...</td>\n",
       "    </tr>\n",
       "    <tr>\n",
       "      <th>2</th>\n",
       "      <td>3</td>\n",
       "      <td>B000LQOCH0</td>\n",
       "      <td>ABXLMWJIXXAIN</td>\n",
       "      <td>Natalia Corres \"Natalia Corres\"</td>\n",
       "      <td>1</td>\n",
       "      <td>1</td>\n",
       "      <td>1</td>\n",
       "      <td>1219017600</td>\n",
       "      <td>\"Delight\" says it all</td>\n",
       "      <td>This is a confection that has been around a fe...</td>\n",
       "    </tr>\n",
       "    <tr>\n",
       "      <th>3</th>\n",
       "      <td>4</td>\n",
       "      <td>B000UA0QIQ</td>\n",
       "      <td>A395BORC6FGVXV</td>\n",
       "      <td>Karl</td>\n",
       "      <td>3</td>\n",
       "      <td>3</td>\n",
       "      <td>0</td>\n",
       "      <td>1307923200</td>\n",
       "      <td>Cough Medicine</td>\n",
       "      <td>If you are looking for the secret ingredient i...</td>\n",
       "    </tr>\n",
       "    <tr>\n",
       "      <th>4</th>\n",
       "      <td>5</td>\n",
       "      <td>B006K2ZZ7K</td>\n",
       "      <td>A1UQRSCLF8GW1T</td>\n",
       "      <td>Michael D. Bigham \"M. Wassir\"</td>\n",
       "      <td>0</td>\n",
       "      <td>0</td>\n",
       "      <td>1</td>\n",
       "      <td>1350777600</td>\n",
       "      <td>Great taffy</td>\n",
       "      <td>Great taffy at a great price.  There was a wid...</td>\n",
       "    </tr>\n",
       "  </tbody>\n",
       "</table>\n",
       "</div>"
      ],
      "text/plain": [
       "   Id   ProductId          UserId                      ProfileName  \\\n",
       "0   1  B001E4KFG0  A3SGXH7AUHU8GW                       delmartian   \n",
       "1   2  B00813GRG4  A1D87F6ZCVE5NK                           dll pa   \n",
       "2   3  B000LQOCH0   ABXLMWJIXXAIN  Natalia Corres \"Natalia Corres\"   \n",
       "3   4  B000UA0QIQ  A395BORC6FGVXV                             Karl   \n",
       "4   5  B006K2ZZ7K  A1UQRSCLF8GW1T    Michael D. Bigham \"M. Wassir\"   \n",
       "\n",
       "   HelpfulnessNumerator  HelpfulnessDenominator  Score        Time  \\\n",
       "0                     1                       1      1  1303862400   \n",
       "1                     0                       0      0  1346976000   \n",
       "2                     1                       1      1  1219017600   \n",
       "3                     3                       3      0  1307923200   \n",
       "4                     0                       0      1  1350777600   \n",
       "\n",
       "                 Summary                                               Text  \n",
       "0  Good Quality Dog Food  I have bought several of the Vitality canned d...  \n",
       "1      Not as Advertised  Product arrived labeled as Jumbo Salted Peanut...  \n",
       "2  \"Delight\" says it all  This is a confection that has been around a fe...  \n",
       "3         Cough Medicine  If you are looking for the secret ingredient i...  \n",
       "4            Great taffy  Great taffy at a great price.  There was a wid...  "
      ]
     },
     "execution_count": 2,
     "metadata": {},
     "output_type": "execute_result"
    }
   ],
   "source": [
    "#os.chdir('/home/kushagra/Desktop/Excercise/reviews_dataset')\n",
    "connection = sqlite3.connect('/home/kushagra/Desktop/Excercise/reviews_dataset/database.sqlite')\n",
    "data = pd.read_sql_query('''SELECT*FROM Reviews where score != 3 LIMIT 10000''',connection)\n",
    "\n",
    "def positive_negative(x):\n",
    "    if x<3:\n",
    "        return 0\n",
    "    return 1\n",
    "\n",
    "filter_data = data['Score'].map(positive_negative)\n",
    "data['Score'] = filter_data\n",
    "data.head()"
   ]
  },
  {
   "cell_type": "code",
   "execution_count": 3,
   "metadata": {},
   "outputs": [],
   "source": [
    "# SQL Query for Total Number of users i.e. unique userid's\n",
    "unique = pd.read_sql_query('''SELECT *,COUNT(*) FROM Reviews GROUP BY UserId HAVING COUNT(*)>1''',connection)\n",
    "#group by Groups together same UserId's, used with count"
   ]
  },
  {
   "cell_type": "code",
   "execution_count": 4,
   "metadata": {},
   "outputs": [
    {
     "name": "stdout",
     "output_type": "stream",
     "text": [
      "(80668, 11)\n",
      "393063\n",
      "Percentage of redundant data =  30.854035682746538\n"
     ]
    },
    {
     "data": {
      "text/html": [
       "<div>\n",
       "<style scoped>\n",
       "    .dataframe tbody tr th:only-of-type {\n",
       "        vertical-align: middle;\n",
       "    }\n",
       "\n",
       "    .dataframe tbody tr th {\n",
       "        vertical-align: top;\n",
       "    }\n",
       "\n",
       "    .dataframe thead th {\n",
       "        text-align: right;\n",
       "    }\n",
       "</style>\n",
       "<table border=\"1\" class=\"dataframe\">\n",
       "  <thead>\n",
       "    <tr style=\"text-align: right;\">\n",
       "      <th></th>\n",
       "      <th>Id</th>\n",
       "      <th>ProductId</th>\n",
       "      <th>UserId</th>\n",
       "      <th>ProfileName</th>\n",
       "      <th>HelpfulnessNumerator</th>\n",
       "      <th>HelpfulnessDenominator</th>\n",
       "      <th>Score</th>\n",
       "      <th>Time</th>\n",
       "      <th>Summary</th>\n",
       "      <th>Text</th>\n",
       "      <th>COUNT(*)</th>\n",
       "    </tr>\n",
       "  </thead>\n",
       "  <tbody>\n",
       "    <tr>\n",
       "      <th>75417</th>\n",
       "      <td>73791</td>\n",
       "      <td>B000HDOPZG</td>\n",
       "      <td>AR5J8UI46CURR</td>\n",
       "      <td>Geetha Krishnan</td>\n",
       "      <td>2</td>\n",
       "      <td>2</td>\n",
       "      <td>5</td>\n",
       "      <td>1199577600</td>\n",
       "      <td>LOACKER QUADRATINI VANILLA WAFERS</td>\n",
       "      <td>DELICIOUS WAFERS. I FIND THAT EUROPEAN WAFERS ...</td>\n",
       "      <td>5</td>\n",
       "    </tr>\n",
       "  </tbody>\n",
       "</table>\n",
       "</div>"
      ],
      "text/plain": [
       "          Id   ProductId         UserId      ProfileName  \\\n",
       "75417  73791  B000HDOPZG  AR5J8UI46CURR  Geetha Krishnan   \n",
       "\n",
       "       HelpfulnessNumerator  HelpfulnessDenominator  Score        Time  \\\n",
       "75417                     2                       2      5  1199577600   \n",
       "\n",
       "                                 Summary  \\\n",
       "75417  LOACKER QUADRATINI VANILLA WAFERS   \n",
       "\n",
       "                                                    Text  COUNT(*)  \n",
       "75417  DELICIOUS WAFERS. I FIND THAT EUROPEAN WAFERS ...         5  "
      ]
     },
     "execution_count": 4,
     "metadata": {},
     "output_type": "execute_result"
    }
   ],
   "source": [
    "print(unique.shape) #Total Number of users i.e. unique userid's\n",
    "print(unique['COUNT(*)'].sum())  # Total number of reviews i.e. unique\n",
    "redundant = pd.read_sql_query('''select count(*) from Reviews''',connection)\n",
    "print(\"Percentage of redundant data = \",(1-unique['COUNT(*)'].sum()/redundant['count(*)'].sum())*100)\n",
    "unique[unique['UserId']==\"AR5J8UI46CURR\"]"
   ]
  },
  {
   "cell_type": "markdown",
   "metadata": {},
   "source": [
    "#  Exploratory Data Analysis\n",
    "\n",
    "## [2] Data Cleaning: Deduplication\n",
    "\n",
    "It is observed (as shown in the table below) that the reviews data had many duplicate entries. Hence it was necessary to remove duplicates in order to get unbiased results for the analysis of the data.  Following is an example:"
   ]
  },
  {
   "cell_type": "code",
   "execution_count": 5,
   "metadata": {},
   "outputs": [
    {
     "data": {
      "text/html": [
       "<div>\n",
       "<style scoped>\n",
       "    .dataframe tbody tr th:only-of-type {\n",
       "        vertical-align: middle;\n",
       "    }\n",
       "\n",
       "    .dataframe tbody tr th {\n",
       "        vertical-align: top;\n",
       "    }\n",
       "\n",
       "    .dataframe thead th {\n",
       "        text-align: right;\n",
       "    }\n",
       "</style>\n",
       "<table border=\"1\" class=\"dataframe\">\n",
       "  <thead>\n",
       "    <tr style=\"text-align: right;\">\n",
       "      <th></th>\n",
       "      <th>Id</th>\n",
       "      <th>ProductId</th>\n",
       "      <th>UserId</th>\n",
       "      <th>ProfileName</th>\n",
       "      <th>HelpfulnessNumerator</th>\n",
       "      <th>HelpfulnessDenominator</th>\n",
       "      <th>Score</th>\n",
       "      <th>Time</th>\n",
       "      <th>Summary</th>\n",
       "      <th>Text</th>\n",
       "    </tr>\n",
       "  </thead>\n",
       "  <tbody>\n",
       "    <tr>\n",
       "      <th>0</th>\n",
       "      <td>73791</td>\n",
       "      <td>B000HDOPZG</td>\n",
       "      <td>AR5J8UI46CURR</td>\n",
       "      <td>Geetha Krishnan</td>\n",
       "      <td>2</td>\n",
       "      <td>2</td>\n",
       "      <td>5</td>\n",
       "      <td>1199577600</td>\n",
       "      <td>LOACKER QUADRATINI VANILLA WAFERS</td>\n",
       "      <td>DELICIOUS WAFERS. I FIND THAT EUROPEAN WAFERS ...</td>\n",
       "    </tr>\n",
       "    <tr>\n",
       "      <th>1</th>\n",
       "      <td>78445</td>\n",
       "      <td>B000HDL1RQ</td>\n",
       "      <td>AR5J8UI46CURR</td>\n",
       "      <td>Geetha Krishnan</td>\n",
       "      <td>2</td>\n",
       "      <td>2</td>\n",
       "      <td>5</td>\n",
       "      <td>1199577600</td>\n",
       "      <td>LOACKER QUADRATINI VANILLA WAFERS</td>\n",
       "      <td>DELICIOUS WAFERS. I FIND THAT EUROPEAN WAFERS ...</td>\n",
       "    </tr>\n",
       "    <tr>\n",
       "      <th>2</th>\n",
       "      <td>138277</td>\n",
       "      <td>B000HDOPYM</td>\n",
       "      <td>AR5J8UI46CURR</td>\n",
       "      <td>Geetha Krishnan</td>\n",
       "      <td>2</td>\n",
       "      <td>2</td>\n",
       "      <td>5</td>\n",
       "      <td>1199577600</td>\n",
       "      <td>LOACKER QUADRATINI VANILLA WAFERS</td>\n",
       "      <td>DELICIOUS WAFERS. I FIND THAT EUROPEAN WAFERS ...</td>\n",
       "    </tr>\n",
       "    <tr>\n",
       "      <th>3</th>\n",
       "      <td>138317</td>\n",
       "      <td>B000HDOPYC</td>\n",
       "      <td>AR5J8UI46CURR</td>\n",
       "      <td>Geetha Krishnan</td>\n",
       "      <td>2</td>\n",
       "      <td>2</td>\n",
       "      <td>5</td>\n",
       "      <td>1199577600</td>\n",
       "      <td>LOACKER QUADRATINI VANILLA WAFERS</td>\n",
       "      <td>DELICIOUS WAFERS. I FIND THAT EUROPEAN WAFERS ...</td>\n",
       "    </tr>\n",
       "    <tr>\n",
       "      <th>4</th>\n",
       "      <td>155049</td>\n",
       "      <td>B000PAQ75C</td>\n",
       "      <td>AR5J8UI46CURR</td>\n",
       "      <td>Geetha Krishnan</td>\n",
       "      <td>2</td>\n",
       "      <td>2</td>\n",
       "      <td>5</td>\n",
       "      <td>1199577600</td>\n",
       "      <td>LOACKER QUADRATINI VANILLA WAFERS</td>\n",
       "      <td>DELICIOUS WAFERS. I FIND THAT EUROPEAN WAFERS ...</td>\n",
       "    </tr>\n",
       "  </tbody>\n",
       "</table>\n",
       "</div>"
      ],
      "text/plain": [
       "       Id   ProductId         UserId      ProfileName  HelpfulnessNumerator  \\\n",
       "0   73791  B000HDOPZG  AR5J8UI46CURR  Geetha Krishnan                     2   \n",
       "1   78445  B000HDL1RQ  AR5J8UI46CURR  Geetha Krishnan                     2   \n",
       "2  138277  B000HDOPYM  AR5J8UI46CURR  Geetha Krishnan                     2   \n",
       "3  138317  B000HDOPYC  AR5J8UI46CURR  Geetha Krishnan                     2   \n",
       "4  155049  B000PAQ75C  AR5J8UI46CURR  Geetha Krishnan                     2   \n",
       "\n",
       "   HelpfulnessDenominator  Score        Time  \\\n",
       "0                       2      5  1199577600   \n",
       "1                       2      5  1199577600   \n",
       "2                       2      5  1199577600   \n",
       "3                       2      5  1199577600   \n",
       "4                       2      5  1199577600   \n",
       "\n",
       "                             Summary  \\\n",
       "0  LOACKER QUADRATINI VANILLA WAFERS   \n",
       "1  LOACKER QUADRATINI VANILLA WAFERS   \n",
       "2  LOACKER QUADRATINI VANILLA WAFERS   \n",
       "3  LOACKER QUADRATINI VANILLA WAFERS   \n",
       "4  LOACKER QUADRATINI VANILLA WAFERS   \n",
       "\n",
       "                                                Text  \n",
       "0  DELICIOUS WAFERS. I FIND THAT EUROPEAN WAFERS ...  \n",
       "1  DELICIOUS WAFERS. I FIND THAT EUROPEAN WAFERS ...  \n",
       "2  DELICIOUS WAFERS. I FIND THAT EUROPEAN WAFERS ...  \n",
       "3  DELICIOUS WAFERS. I FIND THAT EUROPEAN WAFERS ...  \n",
       "4  DELICIOUS WAFERS. I FIND THAT EUROPEAN WAFERS ...  "
      ]
     },
     "execution_count": 5,
     "metadata": {},
     "output_type": "execute_result"
    }
   ],
   "source": [
    "x = pd.read_sql_query('''select * from Reviews where UserId = \"AR5J8UI46CURR\"''',connection)\n",
    "x\n",
    "# As you can see there is redundancy.\n",
    "# This redundancy is due to the fact that one product has many variations for eg:-\n",
    "# A speaker of same model might have different colors, they will share the same review. Hence this redundancy.\n",
    "# We need to remove this redundancy because we don't want our data to be baised.\n",
    "# There might be more other redundancy, you need to figure these redundacy on you own."
   ]
  },
  {
   "cell_type": "markdown",
   "metadata": {},
   "source": [
    "As can be seen above the same user has multiple reviews of the with the same values for HelpfulnessNumerator, HelpfulnessDenominator, Score, Time, Summary and Text and on doing analysis it was found that \n",
    "\n",
    "ProductId=B000HDOPZG was Loacker Quadratini Vanilla Wafer Cookies, 8.82-Ounce Packages (Pack of 8)\n",
    "\n",
    "ProductId=B000HDL1RQ was Loacker Quadratini Lemon Wafer Cookies, 8.82-Ounce Packages (Pack of 8) and so on\n",
    "\n",
    "It was inferred after analysis that reviews with same parameters other than ProductId belonged to the same product just having different flavour or quantity. Hence in order to reduce redundancy it was decided to eliminate the rows having same parameters.\n",
    "\n",
    "The method used for the same was that we first sort the data according to ProductId and then just keep the first similar product review and delelte the others. for eg. in the above just the review for ProductId=B000HDL1RQ remains. This method ensures that there is only one representative for each product and deduplication without sorting would lead to possibility of different representatives still existing for the same product."
   ]
  },
  {
   "cell_type": "code",
   "execution_count": 6,
   "metadata": {},
   "outputs": [
    {
     "data": {
      "text/html": [
       "<div>\n",
       "<style scoped>\n",
       "    .dataframe tbody tr th:only-of-type {\n",
       "        vertical-align: middle;\n",
       "    }\n",
       "\n",
       "    .dataframe tbody tr th {\n",
       "        vertical-align: top;\n",
       "    }\n",
       "\n",
       "    .dataframe thead th {\n",
       "        text-align: right;\n",
       "    }\n",
       "</style>\n",
       "<table border=\"1\" class=\"dataframe\">\n",
       "  <thead>\n",
       "    <tr style=\"text-align: right;\">\n",
       "      <th></th>\n",
       "      <th>Id</th>\n",
       "      <th>ProductId</th>\n",
       "      <th>UserId</th>\n",
       "      <th>ProfileName</th>\n",
       "      <th>HelpfulnessNumerator</th>\n",
       "      <th>HelpfulnessDenominator</th>\n",
       "      <th>Score</th>\n",
       "      <th>Time</th>\n",
       "      <th>Summary</th>\n",
       "      <th>Text</th>\n",
       "    </tr>\n",
       "  </thead>\n",
       "  <tbody>\n",
       "    <tr>\n",
       "      <th>0</th>\n",
       "      <td>44737</td>\n",
       "      <td>B001EQ55RW</td>\n",
       "      <td>A2V0I904FH7ABY</td>\n",
       "      <td>Ram</td>\n",
       "      <td>3</td>\n",
       "      <td>2</td>\n",
       "      <td>4</td>\n",
       "      <td>1212883200</td>\n",
       "      <td>Pure cocoa taste with crunchy almonds inside</td>\n",
       "      <td>It was almost a 'love at first bite' - the per...</td>\n",
       "    </tr>\n",
       "    <tr>\n",
       "      <th>1</th>\n",
       "      <td>64422</td>\n",
       "      <td>B000MIDROQ</td>\n",
       "      <td>A161DK06JJMCYF</td>\n",
       "      <td>J. E. Stephens \"Jeanne\"</td>\n",
       "      <td>3</td>\n",
       "      <td>1</td>\n",
       "      <td>5</td>\n",
       "      <td>1224892800</td>\n",
       "      <td>Bought This for My Son at College</td>\n",
       "      <td>My son loves spaghetti so I didn't hesitate or...</td>\n",
       "    </tr>\n",
       "  </tbody>\n",
       "</table>\n",
       "</div>"
      ],
      "text/plain": [
       "      Id   ProductId          UserId              ProfileName  \\\n",
       "0  44737  B001EQ55RW  A2V0I904FH7ABY                      Ram   \n",
       "1  64422  B000MIDROQ  A161DK06JJMCYF  J. E. Stephens \"Jeanne\"   \n",
       "\n",
       "   HelpfulnessNumerator  HelpfulnessDenominator  Score        Time  \\\n",
       "0                     3                       2      4  1212883200   \n",
       "1                     3                       1      5  1224892800   \n",
       "\n",
       "                                        Summary  \\\n",
       "0  Pure cocoa taste with crunchy almonds inside   \n",
       "1             Bought This for My Son at College   \n",
       "\n",
       "                                                Text  \n",
       "0  It was almost a 'love at first bite' - the per...  \n",
       "1  My son loves spaghetti so I didn't hesitate or...  "
      ]
     },
     "execution_count": 6,
     "metadata": {},
     "output_type": "execute_result"
    }
   ],
   "source": [
    "# There is another type of redundancy. i.e. HelpfulnessNumerator cannot be greater than HelpfulnessDenominator\n",
    "x = pd.read_sql_query('''select * from Reviews Where \"HelpfulnessNumerator\">\"HelpfulnessDenominator\"''',connection)\n",
    "x"
   ]
  },
  {
   "cell_type": "code",
   "execution_count": 7,
   "metadata": {},
   "outputs": [],
   "source": [
    "# Need to remove the redundancy discovered above\n",
    "# Before we remove the redundancy we need to sort the data, then we can use pandas inbuit fn to remove redundancy\n",
    "sorted_data = data.sort_values('ProductId',axis=0,ascending=True,kind='quicksort',na_position='last') #na_position is the position of NaN data"
   ]
  },
  {
   "cell_type": "code",
   "execution_count": 8,
   "metadata": {},
   "outputs": [],
   "source": [
    "non_redundant = sorted_data.drop_duplicates(subset={\"UserId\",\"Time\",\"ProfileName\",\"Text\"},keep='first')\n",
    "non_redundant = non_redundant[non_redundant['HelpfulnessNumerator']<=non_redundant['HelpfulnessDenominator']]"
   ]
  },
  {
   "cell_type": "code",
   "execution_count": 9,
   "metadata": {},
   "outputs": [
    {
     "name": "stdout",
     "output_type": "stream",
     "text": [
      "(9564, 10)\n"
     ]
    }
   ],
   "source": [
    "print(non_redundant.shape)"
   ]
  },
  {
   "cell_type": "code",
   "execution_count": 10,
   "metadata": {},
   "outputs": [
    {
     "name": "stdout",
     "output_type": "stream",
     "text": [
      "Percentage of data remained =  95.64\n"
     ]
    }
   ],
   "source": [
    "# Percentage of data remained\n",
    "print(\"Percentage of data remained = \",(non_redundant[\"Id\"].size*1.0/data[\"Id\"].size*1.0)*100)"
   ]
  },
  {
   "cell_type": "code",
   "execution_count": 11,
   "metadata": {},
   "outputs": [
    {
     "name": "stdout",
     "output_type": "stream",
     "text": [
      "(9564, 10)\n",
      "1    7976\n",
      "0    1588\n",
      "Name: Score, dtype: int64\n"
     ]
    }
   ],
   "source": [
    "print(non_redundant.shape)\n",
    "print(pd.value_counts(non_redundant['Score']))"
   ]
  },
  {
   "cell_type": "code",
   "execution_count": 12,
   "metadata": {},
   "outputs": [
    {
     "name": "stdout",
     "output_type": "stream",
     "text": [
      "Id                        False\n",
      "ProductId                 False\n",
      "UserId                    False\n",
      "ProfileName               False\n",
      "HelpfulnessNumerator      False\n",
      "HelpfulnessDenominator    False\n",
      "Score                     False\n",
      "Time                      False\n",
      "Summary                   False\n",
      "Text                      False\n",
      "dtype: bool\n"
     ]
    }
   ],
   "source": [
    "# Remove the entries that have missing values i.e. Nan Score\n",
    "print(non_redundant.isna().any())\n",
    "non_redundant.dropna(axis=0,inplace=True)"
   ]
  },
  {
   "cell_type": "markdown",
   "metadata": {},
   "source": [
    "## [3].  Text Preprocessing.\n",
    "\n",
    "Now that we have finished deduplication our data requires some preprocessing before we go on further with analysis and making the prediction model.\n",
    "\n",
    "Hence in the Preprocessing phase we do the following in the order below:-\n",
    "\n",
    "1. Begin by removing the html tags and html links\n",
    "2. Remove any punctuations or limited set of special characters like , or . or # etc.\n",
    "3. Check if the word is made up of english letters and remove not alpha-numeric(words made up of alphabets+numbers)\n",
    "4. Check to see if the length of the word is greater than 2 (as it was researched that there is no adjective in 2-letters)\n",
    "5. Perform decontraction\n",
    "6. Convert the word to lowercase\n",
    "7. Remove Stopwords\n",
    "8. Finally Snowball Stemming the word (it was obsereved to be better than Porter Stemming)<br>\n",
    "\n",
    "After which we collect the words used to describe positive and negative reviews"
   ]
  },
  {
   "cell_type": "markdown",
   "metadata": {},
   "source": [
    "### [1]. Removing HTML links and tags"
   ]
  },
  {
   "cell_type": "code",
   "execution_count": 13,
   "metadata": {},
   "outputs": [
    {
     "name": "stdout",
     "output_type": "stream",
     "text": [
      "We have used the Victor fly bait for 3 seasons.  Can't beat it.  Great product!\n",
      "\n",
      " ================================================== \n",
      "\n",
      "We have used the Victor fly bait for 3 seasons.  Can't beat it.  Great product!\n"
     ]
    }
   ],
   "source": [
    "# Removing html links\n",
    "# We need to regular expression package in python to remove html's as the re package has functions that can search for a pattern in text.\n",
    "# So we will search for html links and susitute them with backspace.\n",
    "import re\n",
    "# Here is an example with link\n",
    "print(non_redundant['Text'].values[0])\n",
    "\n",
    "print(\"\\n\",'='*50,'\\n')\n",
    "print(re.sub(r\"http\\S+\",\"\",non_redundant['Text'].values[0]))\n",
    "# r is used for creating regular expressions, \\S used for non-whitespace\n",
    "# + used for sequence i.e. \\S+   ----> sequence of non-whitespace.\n",
    "# sub is for subsituting the following pattern with \"\" ."
   ]
  },
  {
   "cell_type": "markdown",
   "metadata": {},
   "source": [
    "| Code\t   | Meaning                                 |\n",
    "| ---      | ---                                     |\n",
    "| \\d\t   | a digit                                 |  \n",
    "| \\D\t   | a non-digit                             |\n",
    "| \\s\t   | whitespace (tab, space, newline, etc.)  |\n",
    "| \\S\t   | non-whitespace                          |      \n",
    "| \\w\t   | alphanumeric                            |  \n",
    "| \\W\t   | non-alphanumeric                        |       \n",
    "\n",
    "| Code\t   |Meaning                                              |\n",
    "| ---      | ---                                                 |\n",
    "| ^\t       |start of string, or line                             |                 \n",
    "| $\t       |end of string, or line                               |  \n",
    "| \\A\t   |start of string                                      |           \n",
    "| \\Z\t   |end of string                                        |        \n",
    "| \\b\t   |empty string at the beginning or end of a word       |                     \n",
    "| \\B\t   |empty string not at the beginning or end of a word   |\n",
    "\n",
    "\n",
    "> ## Repetition\n",
    "> There are five ways to express repetition in a pattern. A pattern followed by the metacharacter * is repeated zero or more times (allowing a pattern to repeat zero times means it does not need to appear at all to match). Replace the * with + and the pattern must appear at least once. Using ? means the pattern appears zero or one time. For a specific number of occurrences, use {m} after the pattern, where m is replaced with the number of times the pattern should repeat. And finally, to allow a variable but limited number of repetitions, use {m,n} where m is the minimum number of repetitions and n is the maximum. Leaving out n ({m,}) means the value appears at least m times, with no maximum."
   ]
  },
  {
   "cell_type": "code",
   "execution_count": 14,
   "metadata": {},
   "outputs": [
    {
     "name": "stdout",
     "output_type": "stream",
     "text": [
      "We have used the Victor fly bait for 3 seasons.  Can't beat it.  Great product!\n",
      "\n",
      " ================================================== \n",
      "\n",
      "<html><body><p>We have used the Victor fly bait for 3 seasons.  Can't beat it.  Great product!</p></body></html>\n",
      "\n",
      " ================================================== \n",
      "\n",
      "We have used the Victor fly bait for 3 seasons.  Can't beat it.  Great product!\n"
     ]
    }
   ],
   "source": [
    "# Removing html tags\n",
    "# We need to use BeautifulSoup from bs4\n",
    "#BeautifulSoap is used for html processing\n",
    "from bs4 import BeautifulSoup\n",
    "\n",
    "\n",
    "print(non_redundant['Text'].values[0])\n",
    "print(\"\\n\",'='*50,'\\n')\n",
    "\n",
    "print(BeautifulSoup(non_redundant['Text'].values[0]))\n",
    "# As you can see here BeautifulSoup converts the text into standard html format.\n",
    "# This will also help us remove all the html standard tags\n",
    "print(\"\\n\",'='*50,'\\n')\n",
    "\n",
    "text = BeautifulSoup(non_redundant['Text'].values[0])\n",
    "text = text.get_text() # Extracting text from the html object.\n",
    "print(text)\n",
    "# As you can see all the tags have been removed."
   ]
  },
  {
   "cell_type": "markdown",
   "metadata": {},
   "source": [
    "### [2.] Removing all Special Characters and Punctuations"
   ]
  },
  {
   "cell_type": "code",
   "execution_count": 15,
   "metadata": {},
   "outputs": [
    {
     "name": "stdout",
     "output_type": "stream",
     "text": [
      "We have used the Victor fly bait for 3 seasons Can t beat it Great product \n"
     ]
    }
   ],
   "source": [
    "# Removing all the special characters\n",
    "# Here is a regex to match a string of characters that are not a letters or numbers:\n",
    "print(re.sub('[^A-Za-z0-9]+',' ',non_redundant['Text'].values[0]))# the re will search for character that does not contain A-Za-z0-9.\n",
    "# A character set can also be used to exclude specific characters.\n",
    "#The special marker ^ means to look for characters not in the set following.\n",
    "\n",
    "# As you can see \"$[...]\" is removed. All special characters are removed."
   ]
  },
  {
   "cell_type": "markdown",
   "metadata": {},
   "source": [
    "### [3.] Removing Alfa-Numeric letters"
   ]
  },
  {
   "cell_type": "code",
   "execution_count": 16,
   "metadata": {},
   "outputs": [
    {
     "name": "stdout",
     "output_type": "stream",
     "text": [
      "We have used the Victor fly bait for  seasons.  Can't beat it.  Great product!\n"
     ]
    }
   ],
   "source": [
    "# Removing Alfa-Numeric Words\n",
    "print(re.sub('\\S*\\d\\S*','',non_redundant['Text'].values[0]))  # \\S*  --> Means all character excluding white spaces might occurs 0 or more times\n",
    "# \\d  ----> digit must occur one time.\n",
    "#\\S*\\d\\S*  ---> eg:- saj3434jkdsd\n",
    "#This will remove all digits and string with digits.\n",
    "\n",
    "# As you can see all alpha-numeric letters are removed."
   ]
  },
  {
   "cell_type": "markdown",
   "metadata": {},
   "source": [
    "### [4.] Perform Decontraction"
   ]
  },
  {
   "cell_type": "code",
   "execution_count": 17,
   "metadata": {},
   "outputs": [
    {
     "name": "stdout",
     "output_type": "stream",
     "text": [
      "Mrs. May's pumpkin crunch is a great snack. For those of you watching calories and intake, be aware that the 2oz portions are two servings. Most of Mrs. May's products are great, but with the fat at 11g per serving, i find it's not a complete guilt free snack. However, the pumpkin seed crunch has 9gms of protein per serving vs. the usual 4gms in their other snacks. So if you're monitoring your intake and want to indulge in these now and then, the pumpkin seed crunch is the healthiest option of the bunch.<br /><br />That said, they are all tasty and certainly not bad for you, just a little high in fat if you're watching your weight.\n",
      "\n",
      " ================================================== \n",
      "\n",
      "Mrs. May is pumpkin crunch is a great snack. For those of you watching calories and intake, be aware that the 2oz portions are two servings. Most of Mrs. May is products are great, but with the fat at 11g per serving, i find it is not a complete guilt free snack. However, the pumpkin seed crunch has 9gms of protein per serving vs. the usual 4gms in their other snacks. So if you are monitoring your intake and want to indulge in these now and then, the pumpkin seed crunch is the healthiest option of the bunch.<br /><br />That said, they are all tasty and certainly not bad for you, just a little high in fat if you are watching your weight.\n"
     ]
    }
   ],
   "source": [
    "# We need to replace words that use short forms such as --> I'm or won't or couldn't or wouldn't etc. to their full form\n",
    "def decontraction(phrase):\n",
    "    # specific\n",
    "    phrase = re.sub(r\"won't\", \"will not\", phrase)\n",
    "    phrase = re.sub(r\"can\\'t\", \"can not\", phrase)\n",
    "\n",
    "    # general\n",
    "    phrase = re.sub(r\"n\\'t\", \" not\", phrase)\n",
    "    phrase = re.sub(r\"\\'re\", \" are\", phrase)\n",
    "    phrase = re.sub(r\"\\'s\", \" is\", phrase)\n",
    "    phrase = re.sub(r\"\\'d\", \" would\", phrase)\n",
    "    phrase = re.sub(r\"\\'ll\", \" will\", phrase)\n",
    "    phrase = re.sub(r\"\\'t\", \" not\", phrase)\n",
    "    phrase = re.sub(r\"\\'ve\", \" have\", phrase)\n",
    "    phrase = re.sub(r\"\\'m\", \" am\", phrase)\n",
    "    return phrase\n",
    "\n",
    "print(non_redundant['Text'].values[900])\n",
    "# As we can there is \"'t\" in our sentence. we need to replace all these words to their original words.\n",
    "print(\"\\n\",'='*50,'\\n')\n",
    "\n",
    "# For this to fully work first we need to convert the sentence to lower case.\n",
    "# Anyways we can are going to use it here as this is just an example.\n",
    "print(decontraction(non_redundant['Text'].values[900]))"
   ]
  },
  {
   "cell_type": "markdown",
   "metadata": {},
   "source": [
    "### [5.] Converting to Lower Case"
   ]
  },
  {
   "cell_type": "code",
   "execution_count": 18,
   "metadata": {},
   "outputs": [
    {
     "name": "stdout",
     "output_type": "stream",
     "text": [
      "mrs. may's pumpkin crunch is a great snack. for those of you watching calories and intake, be aware that the 2oz portions are two servings. most of mrs. may's products are great, but with the fat at 11g per serving, i find it's not a complete guilt free snack. however, the pumpkin seed crunch has 9gms of protein per serving vs. the usual 4gms in their other snacks. so if you're monitoring your intake and want to indulge in these now and then, the pumpkin seed crunch is the healthiest option of the bunch.<br /><br />that said, they are all tasty and certainly not bad for you, just a little high in fat if you're watching your weight.\n"
     ]
    }
   ],
   "source": [
    "def lower_case(sentence):\n",
    "    sentence = ' '.join(e.lower() for e in sentence.split())\n",
    "    return sentence\n",
    "\n",
    "print(lower_case(non_redundant['Text'].values[900]))"
   ]
  },
  {
   "cell_type": "markdown",
   "metadata": {},
   "source": [
    "### [6.] Removing Stop Words"
   ]
  },
  {
   "cell_type": "code",
   "execution_count": 19,
   "metadata": {},
   "outputs": [
    {
     "name": "stdout",
     "output_type": "stream",
     "text": [
      "Mrs. May's pumpkin crunch is a great snack. For those of you watching calories and intake, be aware that the 2oz portions are two servings. Most of Mrs. May's products are great, but with the fat at 11g per serving, i find it's not a complete guilt free snack. However, the pumpkin seed crunch has 9gms of protein per serving vs. the usual 4gms in their other snacks. So if you're monitoring your intake and want to indulge in these now and then, the pumpkin seed crunch is the healthiest option of the bunch.<br /><br />That said, they are all tasty and certainly not bad for you, just a little high in fat if you're watching your weight.\n",
      "\n",
      " ================================================== \n",
      "\n",
      "Mrs. May's pumpkin crunch great snack. For watching calories intake, aware 2oz portions two servings. Most Mrs. May's products great, fat 11g per serving, find not complete guilt free snack. However, pumpkin seed crunch 9gms protein per serving vs. usual 4gms snacks. So monitoring intake want indulge then, pumpkin seed crunch healthiest option bunch.<br /><br />That said, tasty certainly not bad you, little high fat watching weight.\n"
     ]
    }
   ],
   "source": [
    "# we are removing the words from the stop words list: 'no', 'nor', 'not'\n",
    "# <br /><br /> ==> after the above steps, we are getting \"br br\"\n",
    "# we are including them into stop words list\n",
    "# instead of <br /> if we have <br/> these tags would have removed in the 1st step\n",
    "# https://gist.github.com/sebleier/554280\n",
    "\n",
    "stopwords= set(['br', 'the', 'i', 'me', 'my', 'myself', 'we', 'our', 'ours', 'ourselves', 'you', \"you're\", \"you've\",\\\n",
    "            \"you'll\", \"you'd\", 'your', 'yours', 'yourself', 'yourselves', 'he', 'him', 'his', 'himself', \\\n",
    "            'she', \"she's\", 'her', 'hers', 'herself', 'it', \"it's\", 'its', 'itself', 'they', 'them', 'their',\\\n",
    "            'theirs', 'themselves', 'what', 'which', 'who', 'whom', 'this', 'that', \"that'll\", 'these', 'those', \\\n",
    "            'am', 'is', 'are', 'was', 'were', 'be', 'been', 'being', 'have', 'has', 'had', 'having', 'do', 'does', \\\n",
    "            'did', 'doing', 'a', 'an', 'the', 'and', 'but', 'if', 'or', 'because', 'as', 'until', 'while', 'of', \\\n",
    "            'at', 'by', 'for', 'with', 'about', 'against', 'between', 'into', 'through', 'during', 'before', 'after',\\\n",
    "            'above', 'below', 'to', 'from', 'up', 'down', 'in', 'out', 'on', 'off', 'over', 'under', 'again', 'further',\\\n",
    "            'then', 'once', 'here', 'there', 'when', 'where', 'why', 'how', 'all', 'any', 'both', 'each', 'few', 'more',\\\n",
    "            'most', 'other', 'some', 'such', 'only', 'own', 'same', 'so', 'than', 'too', 'very', \\\n",
    "            's', 't', 'can', 'will', 'just', 'don', \"don't\", 'should', \"should've\", 'now', 'd', 'll', 'm', 'o', 're', \\\n",
    "            've', 'y', 'ain', 'aren', \"aren't\", 'couldn', \"couldn't\", 'didn', \"didn't\", 'doesn', \"doesn't\", 'hadn',\\\n",
    "            \"hadn't\", 'hasn', \"hasn't\", 'haven', \"haven't\", 'isn', \"isn't\", 'ma', 'mightn', \"mightn't\", 'mustn',\\\n",
    "            \"mustn't\", 'needn', \"needn't\", 'shan', \"shan't\", 'shouldn', \"shouldn't\", 'wasn', \"wasn't\", 'weren', \"weren't\", \\\n",
    "            'won', \"won't\", 'wouldn', \"wouldn't\"])\n",
    "# Creating sets of stop keywords\n",
    "\n",
    "def rm_stop_words(sentence):\n",
    "    sentence = ' '.join(e for e in sentence.split() if e not in stopwords)\n",
    "    return sentence\n",
    "\n",
    "print(non_redundant['Text'].values[900])\n",
    "print(\"\\n\",'='*50,'\\n')\n",
    "print(rm_stop_words(non_redundant['Text'].values[900]))"
   ]
  },
  {
   "cell_type": "markdown",
   "metadata": {},
   "source": [
    "### [7.] Stemming the words"
   ]
  },
  {
   "cell_type": "code",
   "execution_count": 20,
   "metadata": {},
   "outputs": [
    {
     "name": "stdout",
     "output_type": "stream",
     "text": [
      "arabic danish dutch english finnish french german hungarian italian norwegian porter portuguese romanian russian spanish swedish\n"
     ]
    }
   ],
   "source": [
    "# As snow ball stemming is better than porter stemming we are going to use snow ball stemming\n",
    "from nltk.stem import SnowballStemmer\n",
    "print(\" \".join(SnowballStemmer.languages)) # languages supported by th snowball stemming"
   ]
  },
  {
   "cell_type": "code",
   "execution_count": 21,
   "metadata": {},
   "outputs": [
    {
     "data": {
      "text/plain": [
       "'man'"
      ]
     },
     "execution_count": 21,
     "metadata": {},
     "output_type": "execute_result"
    }
   ],
   "source": [
    "stemmer = SnowballStemmer('english') # Selecting english language for stemming\n",
    "stemmer.stem('manly')"
   ]
  },
  {
   "cell_type": "markdown",
   "metadata": {},
   "source": [
    "### Now we need to use all these technique at one to apply at our Amazon Fine Food DataSet"
   ]
  },
  {
   "cell_type": "code",
   "execution_count": 22,
   "metadata": {},
   "outputs": [
    {
     "name": "stderr",
     "output_type": "stream",
     "text": [
      "100%|██████████| 9564/9564 [00:07<00:00, 1232.83it/s]\n"
     ]
    }
   ],
   "source": [
    "from tqdm import tqdm\n",
    "import pdb\n",
    "# This package is used for visualizing loading status bar\n",
    "# https://gist.github.com/sebleier/554280\n",
    "\n",
    "preprocessed_review = []\n",
    "for review in tqdm(non_redundant['Text'].values):\n",
    "    review = re.sub(r'http\\S+','',review)\n",
    "    review = BeautifulSoup(review).get_text()\n",
    "    review = re.sub('[^A-Za-z0-9]+',' ',review)  # This line of code should be carefully written.\n",
    "    # If ' ' space is not given in subsituition, then the words will cramp\n",
    "    # If * is used instead of + , then all letter will have spacing\n",
    "    review = re.sub('\\S*\\d\\S*','',review)\n",
    "    review = ' '.join(e.lower() for e in review.split() if e.lower() not in stopwords) #Removing Stop words and loweri casing letter at same time.\n",
    "    review = decontraction(review)\n",
    "    preprocessed_review.append(' '.join(list(map(stemmer.stem, review.split(' ')))))"
   ]
  },
  {
   "cell_type": "markdown",
   "metadata": {},
   "source": [
    "### __*Run the below cell if you don't want to stem your text.*__"
   ]
  },
  {
   "cell_type": "raw",
   "metadata": {},
   "source": [
    "from tqdm import tqdm\n",
    "import pdb\n",
    "# This package is used for visualizing loading status bar\n",
    "# https://gist.github.com/sebleier/554280\n",
    "\n",
    "preprocessed_review = []\n",
    "for review in tqdm(non_redundant['Text'].values):\n",
    "    review = re.sub(r'http\\S+','',review)\n",
    "    review = BeautifulSoup(review).get_text()\n",
    "    review = re.sub('[^A-Za-z0-9]+',' ',review)  # This line of code should be carefully written.\n",
    "    # If ' ' space is not given in subsituition, then the words will cramp\n",
    "    # If * is used instead of + , then all letter will have spacing\n",
    "    review = re.sub('\\S*\\d\\S*','',review)\n",
    "    review = ' '.join(e.lower() for e in review.split() if e.lower() not in stopwords) #Removing Stop words and loweri casing letter at same time.\n",
    "    preprocessed_review.append(decontraction(review))\n",
    "    "
   ]
  },
  {
   "cell_type": "code",
   "execution_count": 23,
   "metadata": {},
   "outputs": [
    {
     "name": "stdout",
     "output_type": "stream",
     "text": [
      "chip truli amaz light crisp great tast nice textur natur low fat sodium need say recent bought bag regular groceri store beliv tast bud excit saw amazon decid buy case\n",
      "\n",
      " 9564\n",
      "<class 'list'>\n"
     ]
    }
   ],
   "source": [
    "print(preprocessed_review[1500])\n",
    "print('\\n',len(preprocessed_review))\n",
    "print(type(preprocessed_review))"
   ]
  },
  {
   "cell_type": "markdown",
   "metadata": {},
   "source": [
    "# [4.] Featurization"
   ]
  },
  {
   "cell_type": "markdown",
   "metadata": {},
   "source": [
    "# Word2Vector"
   ]
  },
  {
   "cell_type": "code",
   "execution_count": 24,
   "metadata": {},
   "outputs": [
    {
     "name": "stdout",
     "output_type": "stream",
     "text": [
      "['cat', 'third', 'favorit', 'food', 'great', 'stuff', 'gravi', 'thick', 'food', 'look', 'like', 'bit', 'steak', 'slick', 'friend', 'cat', 'lick', 'bowl', 'clean', 'everi', 'time', 'want', 'send', 'discount', 'much', 'stuff', 'buy', 'buy', 'case', 'give', 'idea']\n",
      "9564\n"
     ]
    }
   ],
   "source": [
    "# If we want to use w2v we need to convert our data to tokens i.e. list of list.\n",
    "# Here each ducument will be a list whose words are element of the list.\n",
    "# All the documents will be contained in a bigger list i.e. Corpous\n",
    "corpus=[]\n",
    "for document in preprocessed_review:\n",
    "    corpus.append(document.split(' '))\n",
    "    \n",
    "print(corpus[10])\n",
    "print(len(corpus))"
   ]
  },
  {
   "cell_type": "code",
   "execution_count": 25,
   "metadata": {},
   "outputs": [],
   "source": [
    "# Here is a really good article on Word2Vector\n",
    "# http://kavita-ganesan.com/gensim-word2vec-tutorial-starter-code/#.XR0cft9fiXJ\n",
    "from gensim.models import Word2Vec  \n",
    "\n",
    "model = Word2Vec(corpus,size=150,window=10,min_count=5,workers=4)\n",
    "# size is number of dimensions of vector that you want to build\n",
    "# window is the maximum distance between two similar words\n",
    "# min_count is the minimum number of times the word must appear in corpus\n",
    "# workers is the numbers of cpu that you want to use\n",
    "\n",
    "# Read the above article to know about these arguments if full detail"
   ]
  },
  {
   "cell_type": "code",
   "execution_count": 26,
   "metadata": {},
   "outputs": [
    {
     "name": "stdout",
     "output_type": "stream",
     "text": [
      "[('think', 0.8894367814064026), ('know', 0.8842791318893433), ('sure', 0.8643289804458618), ('someth', 0.8600561618804932), ('said', 0.8582501411437988), ('say', 0.8537960052490234), ('might', 0.8472050428390503), ('peopl', 0.8422607183456421), ('care', 0.8259742259979248), ('may', 0.8252989053726196), ('look', 0.8205209374427795), ('els', 0.8172163963317871), ('guess', 0.8084864616394043), ('agre', 0.8079103231430054), ('seem', 0.8061493039131165)]\n"
     ]
    }
   ],
   "source": [
    "print(model.wv.most_similar('bad',topn=15)) #topn specifes number of examples in output."
   ]
  },
  {
   "cell_type": "code",
   "execution_count": 27,
   "metadata": {},
   "outputs": [
    {
     "name": "stdout",
     "output_type": "stream",
     "text": [
      "[('realli', 0.8890541791915894), ('pretti', 0.8812255263328552), ('bummer', 0.8662072420120239), ('though', 0.843611478805542), ('expect', 0.8375957608222961), ('quit', 0.834627628326416), ('defin', 0.811418890953064), ('soo', 0.8043298721313477), ('anis', 0.8031613230705261), ('surpris', 0.8029816746711731)]\n",
      "\n",
      "\n",
      "0.69855237\n",
      "\n",
      "\n",
      "[('say', 0.8740798234939575), ('mayb', 0.8653687238693237), ('even', 0.8568127155303955), ('underton', 0.8449337482452393), ('burnt', 0.8410651683807373), ('noth', 0.8403046131134033), ('sip', 0.8344444036483765), ('dirt', 0.8297417163848877), ('weak', 0.8281729817390442), ('sorta', 0.824224591255188)]\n"
     ]
    }
   ],
   "source": [
    "print(model.wv.most_similar('good'))\n",
    "print('\\n')\n",
    "print(model.wv.similarity('good','tasti'))\n",
    "print('\\n')\n",
    "print(model.wv.most_similar('smell'))"
   ]
  },
  {
   "cell_type": "code",
   "execution_count": 28,
   "metadata": {},
   "outputs": [
    {
     "name": "stdout",
     "output_type": "stream",
     "text": [
      "4234\n",
      "<class 'dict'>\n",
      "Some words : ['offer', 'benefit', 'genet', 'modifi', 'cholesterol', 'peanut', 'low', 'satur', 'hunger', 'crave']\n"
     ]
    }
   ],
   "source": [
    "print(len(model.wv.vocab)) # Total number of words in our vocabulary\n",
    "print(type(model.wv.vocab))\n",
    "print(\"Some words :\",list(model.wv.vocab)[1000:1010])\n",
    "vocabulary = model.wv.vocab"
   ]
  },
  {
   "cell_type": "markdown",
   "metadata": {},
   "source": [
    "> **Remember, More the data better the Word2Vec perfroms.**<br>\n",
    "__Here Word2Vec will not perform very well as data in less__"
   ]
  },
  {
   "cell_type": "markdown",
   "metadata": {},
   "source": [
    "## [4.1] Bag of Words"
   ]
  },
  {
   "cell_type": "code",
   "execution_count": 29,
   "metadata": {},
   "outputs": [],
   "source": [
    "from sklearn.feature_extraction.text import CountVectorizer\n",
    "\n",
    "def bag_of_words(data,min_df_=5,max_features_=100000):\n",
    "    bow = CountVectorizer(min_df=min_df_,max_features=max_features_)\n",
    "    bow = bow.fit(data)\n",
    "    #https://datascience.stackexchange.com/questions/12321/difference-between-fit-and-fit-transform-in-scikit-learn-models\n",
    "    #http://scikit-learn.org/stable/modules/generated/sklearn.feature_extraction.text.CountVectorizer.html\n",
    "    return bow"
   ]
  },
  {
   "cell_type": "markdown",
   "metadata": {},
   "source": [
    "## [4.2] TF-IDF"
   ]
  },
  {
   "cell_type": "code",
   "execution_count": 30,
   "metadata": {},
   "outputs": [],
   "source": [
    "from sklearn.feature_extraction.text import TfidfVectorizer\n",
    "\n",
    "def tf_idf(data,min_df_=5,max_features_=100000):\n",
    "    tfidf = TfidfVectorizer(ngram_range=(1,2),min_df=min_df_,max_features=max_features_)\n",
    "    tfidf = tfidf.fit(data)\n",
    "    return tfidf"
   ]
  },
  {
   "cell_type": "markdown",
   "metadata": {},
   "source": [
    "## [4.3] Average Word2Vec"
   ]
  },
  {
   "cell_type": "code",
   "execution_count": 31,
   "metadata": {},
   "outputs": [],
   "source": [
    "# Compute Average Word2Vector\n",
    "def average_w2v(data):\n",
    "    avg_list = []\n",
    "    for review in tqdm(data):\n",
    "        vec = np.zeros(150)\n",
    "        count=0\n",
    "        for word in review.split(' '):\n",
    "            try:\n",
    "                vec += model.wv[word]\n",
    "                count+=1\n",
    "            except:\n",
    "                pass\n",
    "        if count != 0:\n",
    "            vec =vec/count\n",
    "            avg_list.append(vec)\n",
    "        else:\n",
    "            avg_list.append(np.zeros(150))\n",
    "            \n",
    "            \n",
    "    print(\"Total number of the vector : \",len(avg_list))  #Length of the list\n",
    "    print(\"Dimension of Vector : \",len(avg_list[1])) # Length of average vector\n",
    "    return np.array(avg_list)"
   ]
  },
  {
   "cell_type": "markdown",
   "metadata": {},
   "source": [
    "## [4.4] Weighted W2V TFIDF"
   ]
  },
  {
   "cell_type": "code",
   "execution_count": 32,
   "metadata": {},
   "outputs": [],
   "source": [
    "def tfidf_w_w2v(data, train_data=False, test_data=False):\n",
    "    vocabulary_tfidf = tfidf.get_feature_names()\n",
    "    if train_data==True:\n",
    "        tfidf_data=train_cv_tfidf\n",
    "    elif test_data==True:\n",
    "        tfidf_data=test_tfidf\n",
    "    else:\n",
    "        print(\"All parameters are False!\")\n",
    "        return\n",
    "    row, counter=0,0\n",
    "    tfidf_w_w2v_list = []\n",
    "    for sentence in tqdm(data):\n",
    "        cnt_words=0.0\n",
    "        weighted_tfidf = np.zeros(150)\n",
    "        for word in sentence.split(' '):\n",
    "            try:\n",
    "                vec = model.wv[word]\n",
    "                tfidf_ = tfidf_data[row,vocabulary_tfidf.index(word)]\n",
    "                weighted_tfidf += tfidf_*vec\n",
    "                cnt_words+=tfidf_\n",
    "            except:\n",
    "                pass\n",
    "        if cnt_words !=0:\n",
    "            tfidf_w_w2v_list.append(weighted_tfidf/cnt_words)\n",
    "        else:\n",
    "            tfidf_w_w2v_list.append(np.zeros(150))\n",
    "            counter+=1\n",
    "        row +=1\n",
    "    print(\"Total Number of Null review : \", counter)\n",
    "    return np.array(tfidf_w_w2v_list)"
   ]
  },
  {
   "cell_type": "markdown",
   "metadata": {
    "colab_type": "text",
    "id": "jiYocvSHLPo4"
   },
   "source": [
    "# [5] Applying SVM with Linear Kernel using SGDClassifier"
   ]
  },
  {
   "cell_type": "code",
   "execution_count": 33,
   "metadata": {},
   "outputs": [],
   "source": [
    "from sklearn.linear_model import SGDClassifier\n",
    "from sklearn.metrics import roc_auc_score\n",
    "from sklearn.metrics import roc_curve\n",
    "from sklearn.metrics import confusion_matrix\n",
    "import matplotlib.pyplot as plt\n",
    "import seaborn as sns\n",
    "import pdb\n",
    "from sklearn.metrics import accuracy_score\n",
    "from sklearn.model_selection import GridSearchCV\n",
    "import scikitplot.metrics as skplt\n",
    "def GridSearch(train_data, train_label,param_grid_ ,scoring='f1',hyperparameter='alpha',estimator_=SGDClassifier()):\n",
    "    gscv = GridSearchCV(estimator = estimator_, param_grid = param_grid_, scoring = 'f1', return_train_score=True, n_jobs=4)\n",
    "    gscv.fit(train_data, train_label)\n",
    "    best_alpha = gscv.best_params_\n",
    "    return best_alpha.get(hyperparameter)"
   ]
  },
  {
   "cell_type": "code",
   "execution_count": 34,
   "metadata": {},
   "outputs": [],
   "source": [
    "from sklearn.calibration import CalibratedClassifierCV\n",
    "def LSVM(train_data, test_data, train_label, test_label, best_alpha, penalty_='l2', class_weight_={}, top_feature=True):\n",
    "    auc_train, auc_test = [], []\n",
    "    sgd = SGDClassifier(penalty=penalty_, alpha=best_alpha, class_weight= class_weight_)\n",
    "    sgd.fit(train_data, train_label)\n",
    "                \n",
    "     #########################################Top Features############################################\n",
    "    if top_feature==True:\n",
    "        weight = sgd.coef_\n",
    "        weight_=weight.ravel()\n",
    "        weight_sorted = np.argsort(weight_)\n",
    "        number_of_element = weight_sorted.shape[0]-1\n",
    "        weight_top_10_index_positive = weight_sorted[number_of_element-10:number_of_element]\n",
    "        weight_top_10_index_negative = weight_sorted[0:10]\n",
    "        top_10_feature_index_n, top_10_feature_index_p = [], []\n",
    "        \n",
    "        for i in weight_top_10_index_positive:\n",
    "            if i>number_of_element:\n",
    "                i = i-number_of_element\n",
    "                top_10_feature_index_p.append(i)\n",
    "            else:\n",
    "                top_10_feature_index_p.append(i)\n",
    "                \n",
    "        for i in weight_top_10_index_negative:\n",
    "            if i>number_of_element:\n",
    "                i = i-number_of_element\n",
    "                top_10_feature_index_n.append(i)\n",
    "            else:\n",
    "                top_10_feature_index_n.append(i)  \n",
    "                \n",
    "            \n",
    "  ##################################Plotting Curve#################################################\n",
    "    ccv = CalibratedClassifierCV()\n",
    "    ccv.fit(train_data, train_label)\n",
    "    train_probab = ccv.predict_proba(train_data)[:,1]\n",
    "    test_probab = ccv.predict_proba(test_data)[:,1]\n",
    "    fpr_train, tpr_train, threshold_train = roc_curve(train_label, train_probab)\n",
    "    fpr_test, tpr_test, threshold_test = roc_curve(test_label, test_probab)\n",
    "    plt.plot(fpr_train, tpr_train, label='Train : '+str(roc_auc_score(train_label, train_probab)), marker=',')\n",
    "    plt.plot(fpr_test, tpr_test, label='Test : '+str(roc_auc_score(test_label, test_probab)), marker=',')\n",
    "    plt.xlabel(\"FPR\")\n",
    "    plt.ylabel(\"TPR\")\n",
    "    plt.title(\"Reciver Operating Curve\")\n",
    "    plt.grid()\n",
    "    plt.legend()\n",
    "    plt.show()\n",
    "    \n",
    "    \n",
    "     ##################################Plotting Confusion Matrix##############################################\n",
    "    \n",
    "    \n",
    "    test_predicted = sgd.predict(test_data)\n",
    "    skplt.plot_confusion_matrix(train_label, sgd.predict(train_data))\n",
    "    plt.title(\"Train Confusion Matrix\")\n",
    "    plt.show()\n",
    "    skplt.plot_confusion_matrix(test_label, test_predicted)\n",
    "    plt.title(\"Test Confusion Matrix\")\n",
    "    plt.show()\n",
    "    print(\"Accuracy Score of SVM with linear Kernel is: \", (accuracy_score(test_label, test_predicted))*100)\n",
    "    if top_feature==True:\n",
    "        return top_10_feature_index_p, top_10_feature_index_n, weight, roc_auc_score(test_label, test_probab)*100\n",
    "    else :\n",
    "        return roc_auc_score(test_label, test_probab)*100"
   ]
  },
  {
   "cell_type": "code",
   "execution_count": 35,
   "metadata": {},
   "outputs": [
    {
     "name": "stdout",
     "output_type": "stream",
     "text": [
      "(9564, 10)\n",
      "1    7976\n",
      "0    1588\n",
      "Name: Score, dtype: int64\n"
     ]
    }
   ],
   "source": [
    "preprocessed_df = non_redundant.copy()\n",
    "preprocessed_df['Text'] = preprocessed_review\n",
    "print(preprocessed_df.shape)\n",
    "print(preprocessed_df['Score'].value_counts())"
   ]
  },
  {
   "cell_type": "code",
   "execution_count": 36,
   "metadata": {},
   "outputs": [],
   "source": [
    "# Time Base Splitting\n",
    "preprocessed_df = preprocessed_df.sort_values('Time',axis=0,ascending=True,kind='quicksort',na_position='last')"
   ]
  },
  {
   "cell_type": "code",
   "execution_count": 37,
   "metadata": {},
   "outputs": [],
   "source": [
    "from sklearn.model_selection import train_test_split\n",
    "train_cv, test = train_test_split(preprocessed_df, random_state = 0 ,test_size=0.3)"
   ]
  },
  {
   "cell_type": "markdown",
   "metadata": {
    "colab_type": "text",
    "id": "LE_XPVZJLPo4"
   },
   "source": [
    "## [5.1] SVM with Linear Kernel on BOW,<font color='red'> SET 1</font>"
   ]
  },
  {
   "cell_type": "code",
   "execution_count": 38,
   "metadata": {
    "colab": {},
    "colab_type": "code",
    "id": "MyOVi-xYLPo5"
   },
   "outputs": [
    {
     "name": "stdout",
     "output_type": "stream",
     "text": [
      "(6694, 3298) (6694,)\n",
      "(2870, 3298)\n",
      "1    5570\n",
      "0    1124\n",
      "Name: Score, dtype: int64\n",
      "<class 'scipy.sparse.csr.csr_matrix'>\n",
      "['abil' 'abl' 'absolut' 'absorb' 'acacia' 'acai' 'accept' 'access' 'accid'\n",
      " 'accident']\n"
     ]
    }
   ],
   "source": [
    "from sklearn.preprocessing import Normalizer\n",
    "# computing BOW\n",
    "bow = bag_of_words(train_cv['Text'])\n",
    "feature = np.array(bow.get_feature_names())\n",
    "train_cv_bow = bow.transform(train_cv['Text'])\n",
    "test_bow = bow.transform(test['Text'])\n",
    "print(train_cv_bow.shape, train_cv['Score'].shape)\n",
    "print(test_bow.shape)\n",
    "print(train_cv['Score'].value_counts())\n",
    "print(type(train_cv_bow))\n",
    "print(feature[0:10])\n",
    "\n",
    "# Normalizing data\n",
    "train_cv_bow = Normalizer().fit_transform(train_cv_bow)\n",
    "test_bow = Normalizer().fit_transform(test_bow)"
   ]
  },
  {
   "cell_type": "markdown",
   "metadata": {
    "colab_type": "text",
    "id": "_iciJvj2LPo4"
   },
   "source": [
    "### [5.1.1] Applying Linear SVM with L1 regularization on BOW,<font color='red'> SET 1</font>"
   ]
  },
  {
   "cell_type": "code",
   "execution_count": 39,
   "metadata": {},
   "outputs": [],
   "source": [
    "l=[{'alpha' : [10**4, 10**3, 10**2, 10, 10**-1, 10**-2, 10**-3, 10**-2, 10**-3, 10**-4]}]\n",
    "alpha_bow = GridSearch(train_cv_bow, train_cv['Score'],l)"
   ]
  },
  {
   "cell_type": "code",
   "execution_count": 40,
   "metadata": {},
   "outputs": [
    {
     "data": {
      "image/png": "[encoded data removed]",
      "text/plain": [
       "<Figure size 432x288 with 1 Axes>"
      ]
     },
     "metadata": {
      "needs_background": "light"
     },
     "output_type": "display_data"
    },
    {
     "data": {
      "image/png": "[encoded data removed]",
      "text/plain": [
       "<Figure size 432x288 with 2 Axes>"
      ]
     },
     "metadata": {
      "needs_background": "light"
     },
     "output_type": "display_data"
    },
    {
     "data": {
      "image/png": "[encoded data removed]",
      "text/plain": [
       "<Figure size 432x288 with 2 Axes>"
      ]
     },
     "metadata": {
      "needs_background": "light"
     },
     "output_type": "display_data"
    },
    {
     "name": "stdout",
     "output_type": "stream",
     "text": [
      "Accuracy Score of SVM with linear Kernel is:  86.82926829268293\n"
     ]
    }
   ],
   "source": [
    "cw = {0:5,1:1}  # Here positive example are very large(almost 5x) hence increasing wegiht of class 0\n",
    "idx_bow_l1_p, idx_bow_l1_n, weight_bow_l1, auc_bow_l1 = LSVM(train_cv_bow, test_bow, train_cv['Score'], test['Score'], alpha_bow ,penalty_='l1', class_weight_=cw)"
   ]
  },
  {
   "cell_type": "markdown",
   "metadata": {
    "colab_type": "text",
    "id": "5h4NhywcLPo7"
   },
   "source": [
    "#### [5.1.1.1] Calculating sparsity on weight vector obtained using L1 regularization on BOW,<font color='red'> SET 1</font>"
   ]
  },
  {
   "cell_type": "code",
   "execution_count": 41,
   "metadata": {
    "colab": {},
    "colab_type": "code",
    "id": "-mmdLzUALPo-"
   },
   "outputs": [
    {
     "name": "stdout",
     "output_type": "stream",
     "text": [
      "Total zero elements in Matrix :  2210\n"
     ]
    }
   ],
   "source": [
    "print(\"Total zero elements in Matrix : \", weight_bow_l1.shape[1] - np.count_nonzero(weight_bow_l1.ravel()))"
   ]
  },
  {
   "cell_type": "markdown",
   "metadata": {
    "colab_type": "text",
    "id": "aRHMa52qLPpA"
   },
   "source": [
    "### [5.1.2] Applying Linear SVM with L2 regularization on BOW,<font color='red'> SET 1</font>"
   ]
  },
  {
   "cell_type": "code",
   "execution_count": 42,
   "metadata": {
    "colab": {},
    "colab_type": "code",
    "id": "GBbb9lxlLPpB"
   },
   "outputs": [
    {
     "data": {
      "image/png": "[encoded data removed]",
      "text/plain": [
       "<Figure size 432x288 with 1 Axes>"
      ]
     },
     "metadata": {
      "needs_background": "light"
     },
     "output_type": "display_data"
    },
    {
     "data": {
      "image/png": "[encoded data removed]",
      "text/plain": [
       "<Figure size 432x288 with 2 Axes>"
      ]
     },
     "metadata": {
      "needs_background": "light"
     },
     "output_type": "display_data"
    },
    {
     "data": {
      "image/png": "[encoded data removed]",
      "text/plain": [
       "<Figure size 432x288 with 2 Axes>"
      ]
     },
     "metadata": {
      "needs_background": "light"
     },
     "output_type": "display_data"
    },
    {
     "name": "stdout",
     "output_type": "stream",
     "text": [
      "Accuracy Score of SVM with linear Kernel is:  85.92334494773519\n"
     ]
    }
   ],
   "source": [
    "idx_bow_l2_p, idx_bow_l2_n, weight_bow_l2, auc_bow_l2 = LSVM(train_cv_bow, test_bow, train_cv['Score'], test['Score'], best_alpha=alpha_bow ,penalty_='l2', class_weight_=cw)"
   ]
  },
  {
   "cell_type": "markdown",
   "metadata": {
    "colab_type": "text",
    "id": "5h4NhywcLPo7"
   },
   "source": [
    "#### [5.1.2.1] Calculating sparsity on weight vector obtained using L2 regularization on BOW,<font color='red'> SET 1</font>"
   ]
  },
  {
   "cell_type": "code",
   "execution_count": 43,
   "metadata": {},
   "outputs": [
    {
     "name": "stdout",
     "output_type": "stream",
     "text": [
      "(1, 3298)\n",
      "Total zero elements in Matrix :  5\n"
     ]
    }
   ],
   "source": [
    "print(weight_bow_l2.shape)\n",
    "print(\"Total zero elements in Matrix : \", weight_bow_l2.shape[1] - np.count_nonzero(weight_bow_l2.ravel()))"
   ]
  },
  {
   "cell_type": "markdown",
   "metadata": {
    "colab_type": "text",
    "id": "eB1rF0BQLPpG"
   },
   "source": [
    "### [5.1.3] Feature Importance on BOW,<font color='red'> SET 1</font>"
   ]
  },
  {
   "cell_type": "markdown",
   "metadata": {
    "colab_type": "text",
    "id": "JZTP19dqLPpI"
   },
   "source": [
    "#### [5.1.3.1] Top 10 important features of positive class from<font color='red'> SET 1</font>"
   ]
  },
  {
   "cell_type": "code",
   "execution_count": 44,
   "metadata": {
    "colab": {},
    "colab_type": "code",
    "id": "oGRpCVJgLPpI",
    "scrolled": true
   },
   "outputs": [
    {
     "name": "stdout",
     "output_type": "stream",
     "text": [
      "(3298,)\n",
      "['morn' 'best' 'wonder' 'happi' 'perfect' 'refresh' 'amaz' 'excel' 'nice'\n",
      " 'delici']\n"
     ]
    }
   ],
   "source": [
    "print(feature.shape)\n",
    "print(feature[idx_bow_l1_p])"
   ]
  },
  {
   "cell_type": "markdown",
   "metadata": {
    "colab_type": "text",
    "id": "UJLYBE1gLPpJ"
   },
   "source": [
    "#### [5.1.3.2] Top 10 important features of negative class from<font color='red'> SET 1</font>"
   ]
  },
  {
   "cell_type": "code",
   "execution_count": 45,
   "metadata": {
    "colab": {},
    "colab_type": "code",
    "id": "c9r7Zjx1LPpK"
   },
   "outputs": [
    {
     "name": "stdout",
     "output_type": "stream",
     "text": [
      "['wast' 'disappoint' 'kettl' 'idea' 'dead' 'return' 'aw' 'worst'\n",
      " 'unfortun' 'guess']\n"
     ]
    }
   ],
   "source": [
    "print(feature[idx_bow_l1_n])"
   ]
  },
  {
   "cell_type": "markdown",
   "metadata": {
    "colab_type": "text",
    "id": "nKn3VXcZLPpN"
   },
   "source": [
    "## [5.2] Linear SVM on TFIDF,<font color='red'> SET 2</font>"
   ]
  },
  {
   "cell_type": "markdown",
   "metadata": {
    "colab_type": "text",
    "id": "naTBSzm6LPpN"
   },
   "source": [
    "### [5.2.1] Applying Linear SVM with L1 regularization on TFIDF,<font color='red'> SET 2</font>"
   ]
  },
  {
   "cell_type": "code",
   "execution_count": 46,
   "metadata": {
    "colab": {},
    "colab_type": "code",
    "id": "PEhaagXXLPpS"
   },
   "outputs": [
    {
     "name": "stdout",
     "output_type": "stream",
     "text": [
      "(6694, 8936) (6694,)\n",
      "(2870, 8936)\n",
      "1    5570\n",
      "0    1124\n",
      "Name: Score, dtype: int64\n",
      "<class 'scipy.sparse.csr.csr_matrix'>\n",
      "['abil' 'abl' 'abl buy' 'abl eat' 'abl find' 'abl get' 'abl give'\n",
      " 'abl make' 'abl order' 'abl purchas']\n"
     ]
    }
   ],
   "source": [
    "# computing tfidf\n",
    "tfidf = tf_idf(train_cv['Text'])\n",
    "feature = np.array(tfidf.get_feature_names())\n",
    "train_cv_tfidf = tfidf.transform(train_cv['Text'])\n",
    "test_tfidf = tfidf.transform(test['Text'])\n",
    "print(train_cv_tfidf.shape, train_cv['Score'].shape)\n",
    "print(test_tfidf.shape)\n",
    "print(train_cv['Score'].value_counts())\n",
    "print(type(train_cv_tfidf))\n",
    "print(feature[0:10])\n",
    "\n",
    "# Normalizing Data\n",
    "\n",
    "train_cv_tfidf = Normalizer().fit_transform(train_cv_tfidf)\n",
    "test_tfidf = Normalizer().fit_transform(test_tfidf)"
   ]
  },
  {
   "cell_type": "code",
   "execution_count": 47,
   "metadata": {},
   "outputs": [],
   "source": [
    "l=[{'alpha' : [10**4, 10**3, 10**2, 10, 10**-1, 10**-2, 10**-3, 10**-2, 10**-3, 10**-4]}]\n",
    "alpha_tfidf = GridSearch(train_cv_tfidf, train_cv['Score'],l)"
   ]
  },
  {
   "cell_type": "code",
   "execution_count": 48,
   "metadata": {
    "scrolled": false
   },
   "outputs": [
    {
     "data": {
      "image/png": "[encoded data removed]",
      "text/plain": [
       "<Figure size 432x288 with 1 Axes>"
      ]
     },
     "metadata": {
      "needs_background": "light"
     },
     "output_type": "display_data"
    },
    {
     "data": {
      "image/png": "[encoded data removed]",
      "text/plain": [
       "<Figure size 432x288 with 2 Axes>"
      ]
     },
     "metadata": {
      "needs_background": "light"
     },
     "output_type": "display_data"
    },
    {
     "data": {
      "image/png": "[encoded data removed]",
      "text/plain": [
       "<Figure size 432x288 with 2 Axes>"
      ]
     },
     "metadata": {
      "needs_background": "light"
     },
     "output_type": "display_data"
    },
    {
     "name": "stdout",
     "output_type": "stream",
     "text": [
      "Accuracy Score of SVM with linear Kernel is:  87.21254355400697\n"
     ]
    }
   ],
   "source": [
    "cw = {0:5,1:1}  # Here positive example are very large(almost 5x) hence increasing wegiht of class 0\n",
    "idx_tfidf_l1_p, idx_tfidf_l1_n, weight_tfidf_l1, auc_tfidf_l1 = LSVM(train_cv_tfidf, test_tfidf, train_cv['Score'], test['Score'], best_alpha=alpha_tfidf ,penalty_='l1', class_weight_=cw)"
   ]
  },
  {
   "cell_type": "markdown",
   "metadata": {
    "colab_type": "text",
    "id": "NdFShHQJLPpV"
   },
   "source": [
    "### [5.2.2] Applying Linear SVM with L2 regularization on TFIDF,<font color='red'> SET 2</font>"
   ]
  },
  {
   "cell_type": "code",
   "execution_count": 49,
   "metadata": {
    "colab": {},
    "colab_type": "code",
    "id": "Jyhq3JDzLPpW",
    "scrolled": false
   },
   "outputs": [
    {
     "data": {
      "image/png": "[encoded data removed]",
      "text/plain": [
       "<Figure size 432x288 with 1 Axes>"
      ]
     },
     "metadata": {
      "needs_background": "light"
     },
     "output_type": "display_data"
    },
    {
     "data": {
      "image/png": "[encoded data removed]",
      "text/plain": [
       "<Figure size 432x288 with 2 Axes>"
      ]
     },
     "metadata": {
      "needs_background": "light"
     },
     "output_type": "display_data"
    },
    {
     "data": {
      "image/png": "[encoded data removed]",
      "text/plain": [
       "<Figure size 432x288 with 2 Axes>"
      ]
     },
     "metadata": {
      "needs_background": "light"
     },
     "output_type": "display_data"
    },
    {
     "name": "stdout",
     "output_type": "stream",
     "text": [
      "Accuracy Score of SVM with linear Kernel is:  89.58188153310105\n"
     ]
    }
   ],
   "source": [
    "cw = {0:5,1:1}  # Here positive example are very large(almost 5x) hence increasing wegiht of class 0\n",
    "idx_tfidf_l2_p, idx_tfidf_l2_n, weight_tfidf_l2, auc_tfidf_l2 = LSVM(train_cv_tfidf, test_tfidf, train_cv['Score'], test['Score'], best_alpha=alpha_tfidf ,penalty_='l2', class_weight_=cw)"
   ]
  },
  {
   "cell_type": "markdown",
   "metadata": {
    "colab_type": "text",
    "id": "xeeJ8eVvLPpX"
   },
   "source": [
    "### [5.2.3] Feature Importance on TFIDF,<font color='red'> SET 2</font>"
   ]
  },
  {
   "cell_type": "markdown",
   "metadata": {
    "colab_type": "text",
    "id": "Cj9XEmqQLPpY"
   },
   "source": [
    "#### [5.2.3.1] Top 10 important features of positive class from<font color='red'> SET 2</font>"
   ]
  },
  {
   "cell_type": "code",
   "execution_count": 50,
   "metadata": {
    "colab": {},
    "colab_type": "code",
    "id": "oGRpCVJgLPpI",
    "scrolled": true
   },
   "outputs": [
    {
     "name": "stdout",
     "output_type": "stream",
     "text": [
      "(8936,)\n",
      "['without' 'alway' 'happi' 'smooth' 'great' 'good' 'love' 'high recommend'\n",
      " 'delici' 'nice']\n"
     ]
    }
   ],
   "source": [
    "print(feature.shape)\n",
    "print(feature[idx_tfidf_l1_p])"
   ]
  },
  {
   "cell_type": "markdown",
   "metadata": {
    "colab_type": "text",
    "id": "PowEfns4LPpg"
   },
   "source": [
    "#### [5.2.3.2] Top 10 important features of negative class from<font color='red'> SET 2</font>"
   ]
  },
  {
   "cell_type": "code",
   "execution_count": 51,
   "metadata": {
    "colab": {},
    "colab_type": "code",
    "id": "G7jrma95LPpg"
   },
   "outputs": [
    {
     "name": "stdout",
     "output_type": "stream",
     "text": [
      "(8936,)\n",
      "['disappoint' 'wast' 'grandchildren' 'flat' 'antibiot' 'unfortun'\n",
      " 'not recommend' 'signatur' 'terribl' 'dump']\n"
     ]
    }
   ],
   "source": [
    "print(feature.shape)\n",
    "print(feature[idx_tfidf_l1_n])"
   ]
  },
  {
   "cell_type": "markdown",
   "metadata": {
    "colab_type": "text",
    "id": "sqYadGOgLPpi"
   },
   "source": [
    "## [5.3] Linear SVM on AVG W2V,<font color='red'> SET 3</font>"
   ]
  },
  {
   "cell_type": "markdown",
   "metadata": {
    "colab_type": "text",
    "id": "kByBCEA1LPpj"
   },
   "source": [
    "### [5.3.1] Applying Linear SVM with L1 regularization on AVG W2V<font color='red'> SET 3</font>"
   ]
  },
  {
   "cell_type": "code",
   "execution_count": 52,
   "metadata": {
    "colab": {},
    "colab_type": "code",
    "id": "yCQ_4iJkLPpj"
   },
   "outputs": [
    {
     "name": "stderr",
     "output_type": "stream",
     "text": [
      "100%|██████████| 6694/6694 [00:00<00:00, 6847.14it/s]\n",
      " 24%|██▍       | 686/2870 [00:00<00:00, 6859.12it/s]"
     ]
    },
    {
     "name": "stdout",
     "output_type": "stream",
     "text": [
      "Total number of the vector :  6694\n",
      "Dimension of Vector :  150\n"
     ]
    },
    {
     "name": "stderr",
     "output_type": "stream",
     "text": [
      "100%|██████████| 2870/2870 [00:00<00:00, 6357.95it/s]"
     ]
    },
    {
     "name": "stdout",
     "output_type": "stream",
     "text": [
      "Total number of the vector :  2870\n",
      "Dimension of Vector :  150\n",
      "(6694, 150)\n",
      "(2870, 150)\n",
      "1    5570\n",
      "0    1124\n",
      "Name: Score, dtype: int64\n",
      "<class 'numpy.ndarray'>\n"
     ]
    },
    {
     "name": "stderr",
     "output_type": "stream",
     "text": [
      "\n"
     ]
    }
   ],
   "source": [
    "# computing average_w2v\n",
    "train_cv_a_w2v = average_w2v(train_cv['Text'])\n",
    "test_a_w2v = average_w2v(test['Text'])\n",
    "\n",
    "\n",
    "train_cv_a_w2v = Normalizer().fit_transform(train_cv_a_w2v)\n",
    "test_a_w2v = Normalizer().fit_transform(test_a_w2v)\n",
    "\n",
    "\n",
    "print(train_cv_a_w2v.shape)\n",
    "print(test_a_w2v.shape)\n",
    "print(train_cv['Score'].value_counts())\n",
    "print(type(train_cv_a_w2v))"
   ]
  },
  {
   "cell_type": "code",
   "execution_count": 53,
   "metadata": {},
   "outputs": [],
   "source": [
    "l=[{'alpha' : [10**4, 10**3, 10**2, 10, 10**-1, 10**-2, 10**-3, 10**-2, 10**-3, 10**-4]}]\n",
    "alpha_aw2v = GridSearch(train_cv_a_w2v, train_cv['Score'],l)"
   ]
  },
  {
   "cell_type": "code",
   "execution_count": 54,
   "metadata": {},
   "outputs": [
    {
     "data": {
      "image/png": "[encoded data removed]",
      "text/plain": [
       "<Figure size 432x288 with 1 Axes>"
      ]
     },
     "metadata": {
      "needs_background": "light"
     },
     "output_type": "display_data"
    },
    {
     "data": {
      "image/png": "[encoded data removed]",
      "text/plain": [
       "<Figure size 432x288 with 2 Axes>"
      ]
     },
     "metadata": {
      "needs_background": "light"
     },
     "output_type": "display_data"
    },
    {
     "data": {
      "image/png": "[encoded data removed]",
      "text/plain": [
       "<Figure size 432x288 with 2 Axes>"
      ]
     },
     "metadata": {
      "needs_background": "light"
     },
     "output_type": "display_data"
    },
    {
     "name": "stdout",
     "output_type": "stream",
     "text": [
      "Accuracy Score of SVM with linear Kernel is:  58.43205574912892\n"
     ]
    }
   ],
   "source": [
    "cw = {0:5,1:1}  # Here positive example are very large(almost 5x) hence increasing wegiht of class 0\n",
    "auc_a_w2v_l1 = LSVM(train_cv_a_w2v, test_a_w2v, train_cv['Score'], test['Score'], best_alpha=alpha_aw2v ,penalty_='l1', class_weight_=cw, top_feature=False)"
   ]
  },
  {
   "cell_type": "markdown",
   "metadata": {
    "colab_type": "text",
    "id": "O_8Gu2SfLPpn"
   },
   "source": [
    "### [5.3.2] Applying Logistic Regression with L2 regularization on AVG W2V,<font color='red'> SET 3</font>"
   ]
  },
  {
   "cell_type": "code",
   "execution_count": 55,
   "metadata": {
    "colab": {},
    "colab_type": "code",
    "id": "Zy3s4jk1LPpn"
   },
   "outputs": [
    {
     "data": {
      "image/png": "[encoded data removed]",
      "text/plain": [
       "<Figure size 432x288 with 1 Axes>"
      ]
     },
     "metadata": {
      "needs_background": "light"
     },
     "output_type": "display_data"
    },
    {
     "data": {
      "image/png": "[encoded data removed]",
      "text/plain": [
       "<Figure size 432x288 with 2 Axes>"
      ]
     },
     "metadata": {
      "needs_background": "light"
     },
     "output_type": "display_data"
    },
    {
     "data": {
      "image/png": "[encoded data removed]",
      "text/plain": [
       "<Figure size 432x288 with 2 Axes>"
      ]
     },
     "metadata": {
      "needs_background": "light"
     },
     "output_type": "display_data"
    },
    {
     "name": "stdout",
     "output_type": "stream",
     "text": [
      "Accuracy Score of SVM with linear Kernel is:  88.43205574912892\n"
     ]
    }
   ],
   "source": [
    "cw = {0:5,1:1}  # Here positive example are very large(almost 5x) hence increasing wegiht of class 0\n",
    "auc_a_w2v_l2 = LSVM(train_cv_tfidf, test_tfidf, train_cv['Score'], test['Score'], best_alpha=alpha_aw2v ,penalty_='l2', class_weight_=cw, top_feature=False)"
   ]
  },
  {
   "cell_type": "markdown",
   "metadata": {
    "colab_type": "text",
    "id": "pdXTwVIPLPpp"
   },
   "source": [
    "## [5.4] Linear SVM on TFIDF W2V,<font color='red'> SET 4</font>"
   ]
  },
  {
   "cell_type": "markdown",
   "metadata": {
    "colab_type": "text",
    "id": "WP9NjwNSLPpp"
   },
   "source": [
    "### [5.4.1] Applying Linear SVM with L1 regularization on TFIDF W2V,<font color='red'> SET 4</font>"
   ]
  },
  {
   "cell_type": "code",
   "execution_count": 56,
   "metadata": {
    "colab": {},
    "colab_type": "code",
    "id": "207gYymwLPpq"
   },
   "outputs": [
    {
     "name": "stderr",
     "output_type": "stream",
     "text": [
      "100%|██████████| 6694/6694 [00:35<00:00, 188.65it/s]\n",
      "  1%|          | 16/2870 [00:00<00:17, 159.41it/s]"
     ]
    },
    {
     "name": "stdout",
     "output_type": "stream",
     "text": [
      "Total Number of Null review :  10\n"
     ]
    },
    {
     "name": "stderr",
     "output_type": "stream",
     "text": [
      "100%|██████████| 2870/2870 [00:15<00:00, 190.84it/s]\n"
     ]
    },
    {
     "name": "stdout",
     "output_type": "stream",
     "text": [
      "Total Number of Null review :  15\n",
      "(6694, 150)\n",
      "(2870, 150)\n",
      "<class 'numpy.ndarray'>\n"
     ]
    }
   ],
   "source": [
    "# computing tfidf_w2v\n",
    "train_cv_tfidf_w_w2v = tfidf_w_w2v(train_cv['Text'], train_data=True)\n",
    "test_tfidf_w_w2v = tfidf_w_w2v(test['Text'], test_data=True)\n",
    "\n",
    "\n",
    "train_cv_tfidf_w_w2v = Normalizer().fit_transform(train_cv_tfidf_w_w2v)\n",
    "test_tfidf_w_w2v = Normalizer().fit_transform(test_tfidf_w_w2v)\n",
    "\n",
    "\n",
    "print(train_cv_tfidf_w_w2v.shape)\n",
    "print(test_tfidf_w_w2v.shape)\n",
    "print(type(train_cv_tfidf_w_w2v))\n"
   ]
  },
  {
   "cell_type": "code",
   "execution_count": 57,
   "metadata": {},
   "outputs": [
    {
     "name": "stderr",
     "output_type": "stream",
     "text": [
      "/home/kushagra/anaconda3/lib/python3.7/site-packages/sklearn/model_selection/_search.py:841: DeprecationWarning: The default of the `iid` parameter will change from True to False in version 0.22 and will be removed in 0.24. This will change numeric results when test-set sizes are unequal.\n",
      "  DeprecationWarning)\n"
     ]
    }
   ],
   "source": [
    "l=[{'alpha' : [10**4, 10**3, 10**2, 10, 10**-1, 10**-2, 10**-3, 10**-2, 10**-3, 10**-4]}]\n",
    "alpha_w_w2v = GridSearch(train_cv_tfidf_w_w2v, train_cv['Score'],l)"
   ]
  },
  {
   "cell_type": "code",
   "execution_count": 58,
   "metadata": {},
   "outputs": [
    {
     "data": {
      "image/png": "[encoded data removed]",
      "text/plain": [
       "<Figure size 432x288 with 1 Axes>"
      ]
     },
     "metadata": {
      "needs_background": "light"
     },
     "output_type": "display_data"
    },
    {
     "data": {
      "image/png": "[encoded data removed]",
      "text/plain": [
       "<Figure size 432x288 with 2 Axes>"
      ]
     },
     "metadata": {
      "needs_background": "light"
     },
     "output_type": "display_data"
    },
    {
     "data": {
      "image/png": "[encoded data removed]",
      "text/plain": [
       "<Figure size 432x288 with 2 Axes>"
      ]
     },
     "metadata": {
      "needs_background": "light"
     },
     "output_type": "display_data"
    },
    {
     "name": "stdout",
     "output_type": "stream",
     "text": [
      "Accuracy Score of SVM with linear Kernel is:  36.55052264808362\n"
     ]
    }
   ],
   "source": [
    "cw = {0:5,1:1}  # Here positive example are very large(almost 5x) hence increasing wegiht of class 0\n",
    "auc_tfidf_w_w2v_l1 = LSVM(train_cv_tfidf_w_w2v, test_tfidf_w_w2v, train_cv['Score'], test['Score'], best_alpha=alpha_w_w2v ,penalty_='l1', class_weight_=cw, top_feature=False)"
   ]
  },
  {
   "cell_type": "markdown",
   "metadata": {
    "colab_type": "text",
    "id": "ynUK2tYDLPps"
   },
   "source": [
    "### [5.4.2] Applying Linear SVM with L2 regularization on TFIDF W2V,<font color='red'> SET 4</font>"
   ]
  },
  {
   "cell_type": "code",
   "execution_count": 59,
   "metadata": {
    "colab": {},
    "colab_type": "code",
    "id": "hVYuiXl2LPpt",
    "scrolled": false
   },
   "outputs": [
    {
     "data": {
      "image/png": "[encoded data removed]",
      "text/plain": [
       "<Figure size 432x288 with 1 Axes>"
      ]
     },
     "metadata": {
      "needs_background": "light"
     },
     "output_type": "display_data"
    },
    {
     "data": {
      "image/png": "[encoded data removed]",
      "text/plain": [
       "<Figure size 432x288 with 2 Axes>"
      ]
     },
     "metadata": {
      "needs_background": "light"
     },
     "output_type": "display_data"
    },
    {
     "data": {
      "image/png": "[encoded data removed]",
      "text/plain": [
       "<Figure size 432x288 with 2 Axes>"
      ]
     },
     "metadata": {
      "needs_background": "light"
     },
     "output_type": "display_data"
    },
    {
     "name": "stdout",
     "output_type": "stream",
     "text": [
      "Accuracy Score of SVM with linear Kernel is:  82.36933797909408\n"
     ]
    }
   ],
   "source": [
    "cw = {0:5,1:1}  # Here positive example are very large(almost 5x) hence increasing wegiht of class 0\n",
    "auc_tfidf_w_w2v_l2 = LSVM(train_cv_tfidf_w_w2v, test_tfidf_w_w2v, train_cv['Score'], test['Score'], best_alpha=alpha_w_w2v ,penalty_='l2', class_weight_=cw, top_feature=False)"
   ]
  },
  {
   "cell_type": "markdown",
   "metadata": {},
   "source": [
    "# [6] Applying SVM with RBF Kernel"
   ]
  },
  {
   "cell_type": "code",
   "execution_count": 60,
   "metadata": {},
   "outputs": [],
   "source": [
    "import pdb\n",
    "from sklearn.svm import SVC\n",
    "def RBF_SVM(train_data, test_data, train_label, test_label, best_C, class_weight_={}, top_feature=False):\n",
    "    auc_train, auc_test = [], []\n",
    "    rbf_svm = SVC(C=best_C, class_weight= class_weight_,probability=True)\n",
    "    rbf_svm.fit(train_data, train_label)\n",
    "                \n",
    "     #########################################Top Features############################################\n",
    "    if top_feature==True:\n",
    "        weight = np.array(rbf_svm.dual_coef_)\n",
    "        weight_=weight.ravel()\n",
    "        weight_sorted = np.argsort(weight_)\n",
    "        number_of_element = weight_sorted.shape[0]-1\n",
    "        weight_top_10_index_positive = weight_sorted[number_of_element-10:number_of_element]\n",
    "        weight_top_10_index_negative = weight_sorted[0:10]\n",
    "        top_10_feature_index_n, top_10_feature_index_p = [], []\n",
    "        \n",
    "        for i in weight_top_10_index_positive:\n",
    "            if i>number_of_element:\n",
    "                i = i-number_of_element\n",
    "                top_10_feature_index_p.append(i)\n",
    "            else:\n",
    "                top_10_feature_index_p.append(i)\n",
    "                \n",
    "        for i in weight_top_10_index_negative:\n",
    "            if i>number_of_element:\n",
    "                i = i-number_of_element\n",
    "                top_10_feature_index_n.append(i)\n",
    "            else:\n",
    "                top_10_feature_index_n.append(i)  \n",
    "                \n",
    "            \n",
    "  ##################################Plotting Curve#################################################\n",
    "    train_probab = rbf_svm.predict_proba(train_data)[:,1]\n",
    "    test_probab = rbf_svm.predict_proba(test_data)[:,1]\n",
    "    fpr_train, tpr_train, threshold_train = roc_curve(train_label, train_probab)\n",
    "    fpr_test, tpr_test, threshold_test = roc_curve(test_label, test_probab)\n",
    "    plt.plot(fpr_train, tpr_train, label='Train : '+str(roc_auc_score(train_label, train_probab)), marker=',')\n",
    "    plt.plot(fpr_test, tpr_test, label='Test : '+str(roc_auc_score(test_label, test_probab)), marker=',')\n",
    "    plt.xlabel(\"FPR\")\n",
    "    plt.ylabel(\"TPR\")\n",
    "    plt.title(\"Reciver Operating Curve\")\n",
    "    plt.grid()\n",
    "    plt.legend()\n",
    "    plt.show()\n",
    "    \n",
    "    \n",
    "     ##################################Plotting Confusion Matrix##############################################\n",
    "    \n",
    "    \n",
    "    test_predicted = rbf_svm.predict(test_data)\n",
    "    skplt.plot_confusion_matrix(train_label, rbf_svm.predict(train_data))\n",
    "    plt.title(\"Train Confusion Matrix\")\n",
    "    plt.show()\n",
    "    skplt.plot_confusion_matrix(test_label, test_predicted)\n",
    "    plt.title(\"Test Confusion Matrix\")\n",
    "    plt.show()\n",
    "    print(\"Accuracy Score of SVM with linear Kernel is: \", (accuracy_score(test_label, test_predicted))*100)\n",
    "    if top_feature==True:\n",
    "        return top_10_feature_index_p, top_10_feature_index_n, weight, roc_auc_score(test_label, test_probab)*100\n",
    "    else :\n",
    "        return roc_auc_score(test_label, test_probab)*100"
   ]
  },
  {
   "cell_type": "markdown",
   "metadata": {
    "colab_type": "text",
    "id": "LE_XPVZJLPo4"
   },
   "source": [
    "## [5.1] SVM with Linear Kernel on BOW"
   ]
  },
  {
   "cell_type": "code",
   "execution_count": 61,
   "metadata": {
    "colab": {},
    "colab_type": "code",
    "id": "MyOVi-xYLPo5"
   },
   "outputs": [
    {
     "name": "stdout",
     "output_type": "stream",
     "text": [
      "(6694, 500) (6694,)\n",
      "(2870, 500)\n",
      "1    5570\n",
      "0    1124\n",
      "Name: Score, dtype: int64\n",
      "<class 'scipy.sparse.csr.csr_matrix'>\n",
      "['abl' 'absolut' 'acid' 'actual' 'ad' 'add' 'addit' 'aftertast' 'ago'\n",
      " 'allergi']\n"
     ]
    }
   ],
   "source": [
    "from sklearn.preprocessing import Normalizer\n",
    "# computing BOW\n",
    "bow = bag_of_words(train_cv['Text'],min_df_=10,max_features_=500)\n",
    "feature = np.array(bow.get_feature_names())\n",
    "train_cv_bow = bow.transform(train_cv['Text'])\n",
    "test_bow = bow.transform(test['Text'])\n",
    "print(train_cv_bow.shape, train_cv['Score'].shape)\n",
    "print(test_bow.shape)\n",
    "print(train_cv['Score'].value_counts())\n",
    "print(type(train_cv_bow))\n",
    "print(feature[0:10])\n",
    "\n",
    "# Normalizing data\n",
    "train_cv_bow = Normalizer().fit_transform(train_cv_bow)\n",
    "test_bow = Normalizer().fit_transform(test_bow)"
   ]
  },
  {
   "cell_type": "markdown",
   "metadata": {
    "colab_type": "text",
    "id": "_iciJvj2LPo4"
   },
   "source": [
    "### [5.1.1] Applying RBF SVM on BOW"
   ]
  },
  {
   "cell_type": "code",
   "execution_count": 62,
   "metadata": {},
   "outputs": [],
   "source": [
    "l=[{'C' : [10**4, 10**3, 10**2, 10, 10**-1, 10**-2, 10**-3, 10**-2, 10**-3, 10**-4]}]\n",
    "C_bow = GridSearch(train_cv_bow, train_cv['Score'],l,hyperparameter='C',estimator_=SVC())"
   ]
  },
  {
   "cell_type": "code",
   "execution_count": 63,
   "metadata": {},
   "outputs": [
    {
     "data": {
      "image/png": "[encoded data removed]",
      "text/plain": [
       "<Figure size 432x288 with 1 Axes>"
      ]
     },
     "metadata": {
      "needs_background": "light"
     },
     "output_type": "display_data"
    },
    {
     "data": {
      "image/png": "[encoded data removed]",
      "text/plain": [
       "<Figure size 432x288 with 2 Axes>"
      ]
     },
     "metadata": {
      "needs_background": "light"
     },
     "output_type": "display_data"
    },
    {
     "data": {
      "image/png": "[encoded data removed]",
      "text/plain": [
       "<Figure size 432x288 with 2 Axes>"
      ]
     },
     "metadata": {
      "needs_background": "light"
     },
     "output_type": "display_data"
    },
    {
     "name": "stdout",
     "output_type": "stream",
     "text": [
      "Accuracy Score of SVM with linear Kernel is:  82.61324041811847\n"
     ]
    }
   ],
   "source": [
    "cw = {0:5,1:1}  # Here positive example are very large(almost 5x) hence increasing wegiht of class 0\n",
    "auc_bow_C = RBF_SVM(train_cv_bow, test_bow, train_cv['Score'], test['Score'], C_bow, class_weight_=cw)"
   ]
  },
  {
   "cell_type": "markdown",
   "metadata": {
    "colab_type": "text",
    "id": "nKn3VXcZLPpN"
   },
   "source": [
    "## [5.2] SVM with RBF Kernel on TFIDF"
   ]
  },
  {
   "cell_type": "markdown",
   "metadata": {
    "colab_type": "text",
    "id": "naTBSzm6LPpN"
   },
   "source": [
    "### [5.2.1] Applying SVM with RBF Kernel on TFIDF"
   ]
  },
  {
   "cell_type": "code",
   "execution_count": 64,
   "metadata": {},
   "outputs": [],
   "source": [
    "l=[{'C' : [10**4, 10**3, 10**2, 10, 10**-1, 10**-2, 10**-3, 10**-2, 10**-3, 10**-4]}]\n",
    "C_tfidf = GridSearch(train_cv_tfidf, train_cv['Score'],l,hyperparameter='C',estimator_=SVC())"
   ]
  },
  {
   "cell_type": "code",
   "execution_count": 65,
   "metadata": {
    "scrolled": false
   },
   "outputs": [
    {
     "data": {
      "image/png": "[encoded data removed]",
      "text/plain": [
       "<Figure size 432x288 with 1 Axes>"
      ]
     },
     "metadata": {
      "needs_background": "light"
     },
     "output_type": "display_data"
    },
    {
     "data": {
      "image/png": "[encoded data removed]",
      "text/plain": [
       "<Figure size 432x288 with 2 Axes>"
      ]
     },
     "metadata": {
      "needs_background": "light"
     },
     "output_type": "display_data"
    },
    {
     "data": {
      "image/png": "[encoded data removed]",
      "text/plain": [
       "<Figure size 432x288 with 2 Axes>"
      ]
     },
     "metadata": {
      "needs_background": "light"
     },
     "output_type": "display_data"
    },
    {
     "name": "stdout",
     "output_type": "stream",
     "text": [
      "Accuracy Score of SVM with linear Kernel is:  89.30313588850174\n"
     ]
    }
   ],
   "source": [
    "cw = {0:5,1:1}  # Here positive example are very large(almost 5x) hence increasing wegiht of class 0\n",
    "auc_tfidf_C = RBF_SVM(train_cv_tfidf, test_tfidf, train_cv['Score'], test['Score'], C_tfidf , class_weight_=cw)"
   ]
  },
  {
   "cell_type": "markdown",
   "metadata": {
    "colab_type": "text",
    "id": "sqYadGOgLPpi"
   },
   "source": [
    "## [5.3] SVM with RBF Kernel on AVG W2V,<font color='red'> SET 3</font>"
   ]
  },
  {
   "cell_type": "markdown",
   "metadata": {
    "colab_type": "text",
    "id": "kByBCEA1LPpj"
   },
   "source": [
    "### [5.3.1] Applying SVM with RBF Kernel on AVG W2V<font color='red'> SET 3</font>"
   ]
  },
  {
   "cell_type": "code",
   "execution_count": 66,
   "metadata": {
    "colab": {},
    "colab_type": "code",
    "id": "yCQ_4iJkLPpj"
   },
   "outputs": [
    {
     "name": "stderr",
     "output_type": "stream",
     "text": [
      "100%|██████████| 6694/6694 [00:00<00:00, 6883.67it/s]\n",
      " 24%|██▍       | 698/2870 [00:00<00:00, 6940.95it/s]"
     ]
    },
    {
     "name": "stdout",
     "output_type": "stream",
     "text": [
      "Total number of the vector :  6694\n",
      "Dimension of Vector :  150\n"
     ]
    },
    {
     "name": "stderr",
     "output_type": "stream",
     "text": [
      "100%|██████████| 2870/2870 [00:00<00:00, 7412.12it/s]"
     ]
    },
    {
     "name": "stdout",
     "output_type": "stream",
     "text": [
      "Total number of the vector :  2870\n",
      "Dimension of Vector :  150\n",
      "(6694, 150)\n",
      "(2870, 150)\n",
      "1    5570\n",
      "0    1124\n",
      "Name: Score, dtype: int64\n",
      "<class 'numpy.ndarray'>\n"
     ]
    },
    {
     "name": "stderr",
     "output_type": "stream",
     "text": [
      "\n"
     ]
    }
   ],
   "source": [
    "# computing average_w2v\n",
    "train_cv_a_w2v = average_w2v(train_cv['Text'])\n",
    "test_a_w2v = average_w2v(test['Text'])\n",
    "\n",
    "\n",
    "train_cv_a_w2v = Normalizer().fit_transform(train_cv_a_w2v)\n",
    "test_a_w2v = Normalizer().fit_transform(test_a_w2v)\n",
    "\n",
    "\n",
    "print(train_cv_a_w2v.shape)\n",
    "print(test_a_w2v.shape)\n",
    "print(train_cv['Score'].value_counts())\n",
    "print(type(train_cv_a_w2v))"
   ]
  },
  {
   "cell_type": "code",
   "execution_count": 67,
   "metadata": {},
   "outputs": [],
   "source": [
    "l=[{'C' : [10**4, 10**3, 10**2, 10, 10**-1, 10**-2, 10**-3, 10**-2, 10**-3, 10**-4]}]\n",
    "C_aw2v = GridSearch(train_cv_a_w2v, train_cv['Score'],l,hyperparameter='C',estimator_=SVC())"
   ]
  },
  {
   "cell_type": "code",
   "execution_count": 68,
   "metadata": {},
   "outputs": [
    {
     "data": {
      "image/png": "[encoded data removed]",
      "text/plain": [
       "<Figure size 432x288 with 1 Axes>"
      ]
     },
     "metadata": {
      "needs_background": "light"
     },
     "output_type": "display_data"
    },
    {
     "data": {
      "image/png": "[encoded data removed]",
      "text/plain": [
       "<Figure size 432x288 with 2 Axes>"
      ]
     },
     "metadata": {
      "needs_background": "light"
     },
     "output_type": "display_data"
    },
    {
     "data": {
      "image/png": "[encoded data removed]",
      "text/plain": [
       "<Figure size 432x288 with 2 Axes>"
      ]
     },
     "metadata": {
      "needs_background": "light"
     },
     "output_type": "display_data"
    },
    {
     "name": "stdout",
     "output_type": "stream",
     "text": [
      "Accuracy Score of SVM with linear Kernel is:  78.6411149825784\n"
     ]
    }
   ],
   "source": [
    "cw = {0:5,1:1}  # Here positive example are very large(almost 5x) hence increasing wegiht of class 0\n",
    "auc_a_w2v_C = RBF_SVM(train_cv_a_w2v, test_a_w2v, train_cv['Score'], test['Score'], best_C=C_aw2v , class_weight_=cw, top_feature=False)"
   ]
  },
  {
   "cell_type": "markdown",
   "metadata": {
    "colab_type": "text",
    "id": "pdXTwVIPLPpp"
   },
   "source": [
    "## [5.4] SVM with RBF Kernel on TFIDF W2V,<font color='red'> SET 4</font>"
   ]
  },
  {
   "cell_type": "markdown",
   "metadata": {
    "colab_type": "text",
    "id": "WP9NjwNSLPpp"
   },
   "source": [
    "### [5.4.1] Applying SVM with RBF Kernel on TFIDF W2V,<font color='red'> SET 4</font>"
   ]
  },
  {
   "cell_type": "code",
   "execution_count": 69,
   "metadata": {
    "colab": {},
    "colab_type": "code",
    "id": "207gYymwLPpq"
   },
   "outputs": [
    {
     "name": "stderr",
     "output_type": "stream",
     "text": [
      "100%|██████████| 6694/6694 [00:34<00:00, 196.22it/s]\n",
      "  0%|          | 12/2870 [00:00<00:23, 119.79it/s]"
     ]
    },
    {
     "name": "stdout",
     "output_type": "stream",
     "text": [
      "Total Number of Null review :  10\n"
     ]
    },
    {
     "name": "stderr",
     "output_type": "stream",
     "text": [
      "100%|██████████| 2870/2870 [00:14<00:00, 202.37it/s]"
     ]
    },
    {
     "name": "stdout",
     "output_type": "stream",
     "text": [
      "Total Number of Null review :  15\n",
      "(6694, 150)\n",
      "(2870, 150)\n",
      "<class 'numpy.ndarray'>\n"
     ]
    },
    {
     "name": "stderr",
     "output_type": "stream",
     "text": [
      "\n"
     ]
    }
   ],
   "source": [
    "# computing tfidf_w2v\n",
    "train_cv_tfidf_w_w2v = tfidf_w_w2v(train_cv['Text'], train_data=True)\n",
    "test_tfidf_w_w2v = tfidf_w_w2v(test['Text'], test_data=True)\n",
    "\n",
    "\n",
    "train_cv_tfidf_w_w2v = Normalizer().fit_transform(train_cv_tfidf_w_w2v)\n",
    "test_tfidf_w_w2v = Normalizer().fit_transform(test_tfidf_w_w2v)\n",
    "\n",
    "\n",
    "print(train_cv_tfidf_w_w2v.shape)\n",
    "print(test_tfidf_w_w2v.shape)\n",
    "print(type(train_cv_tfidf_w_w2v))\n"
   ]
  },
  {
   "cell_type": "code",
   "execution_count": 70,
   "metadata": {},
   "outputs": [],
   "source": [
    "l=[{'C' : [10**4, 10**3, 10**2, 10, 10**-1, 10**-2, 10**-3, 10**-2, 10**-3, 10**-4]}]\n",
    "C_w_w2v = GridSearch(train_cv_tfidf_w_w2v, train_cv['Score'],l,hyperparameter='C',estimator_=SVC())"
   ]
  },
  {
   "cell_type": "code",
   "execution_count": 71,
   "metadata": {},
   "outputs": [
    {
     "data": {
      "image/png": "[encoded data removed]",
      "text/plain": [
       "<Figure size 432x288 with 1 Axes>"
      ]
     },
     "metadata": {
      "needs_background": "light"
     },
     "output_type": "display_data"
    },
    {
     "data": {
      "image/png": "[encoded data removed]",
      "text/plain": [
       "<Figure size 432x288 with 2 Axes>"
      ]
     },
     "metadata": {
      "needs_background": "light"
     },
     "output_type": "display_data"
    },
    {
     "data": {
      "image/png": "[encoded data removed]",
      "text/plain": [
       "<Figure size 432x288 with 2 Axes>"
      ]
     },
     "metadata": {
      "needs_background": "light"
     },
     "output_type": "display_data"
    },
    {
     "name": "stdout",
     "output_type": "stream",
     "text": [
      "Accuracy Score of SVM with linear Kernel is:  77.63066202090593\n"
     ]
    }
   ],
   "source": [
    "cw = {0:5,1:1}  # Here positive example are very large(almost 5x) hence increasing wegiht of class 0\n",
    "auc_tfidf_w_w2v_C = RBF_SVM(train_cv_tfidf_w_w2v, test_tfidf_w_w2v, train_cv['Score'], test['Score'], best_C=C_w_w2v ,class_weight_=cw, top_feature=False)"
   ]
  },
  {
   "cell_type": "markdown",
   "metadata": {
    "colab_type": "text",
    "id": "nOvsBNf2LPpv"
   },
   "source": [
    "# [7] Conclusions"
   ]
  },
  {
   "cell_type": "code",
   "execution_count": 73,
   "metadata": {
    "colab": {},
    "colab_type": "code",
    "id": "T7VxD0q2LPpw"
   },
   "outputs": [
    {
     "name": "stdout",
     "output_type": "stream",
     "text": [
      "+-------------+-------------+----------------+-----------------+-------------------+\n",
      "|  Vectorizer |    Model    | Regularization | Hyper Parameter |        AUC        |\n",
      "+-------------+-------------+----------------+-----------------+-------------------+\n",
      "|     BOW     |  Linear SVM |       l1       |      0.0001     | 93.11670536302921 |\n",
      "|     BOW     |  Linear SVM |       l2       |      0.0001     | 93.11670536302921 |\n",
      "|    TFIDF    |  Linear SVM |       l1       |      0.0001     | 94.13481382750022 |\n",
      "|    TFIDF    |  Linear SVM |       l2       |      0.0001     | 94.13481382750022 |\n",
      "| Average W2V |  Linear SVM |       l1       |      0.0001     | 84.14309054948833 |\n",
      "| Average W2V |  Linear SVM |       l2       |      0.0001     | 94.13481382750022 |\n",
      "|  TFIDF W2V  |  Linear SVM |       l1       |      0.0001     | 82.21893183707398 |\n",
      "|  TFIDF W2V  |  Linear SVM |       l2       |      0.0001     | 82.21893183707398 |\n",
      "+-------------+-------------+----------------+-----------------+-------------------+\n",
      "+-------------+----------------------+-----------------+-------------------+\n",
      "|  Vectorizer |        Model         | Hyper Parameter |        AUC        |\n",
      "+-------------+----------------------+-----------------+-------------------+\n",
      "|     BOW     | SVM with RBF Kernel  |       1000      | 89.74179135494596 |\n",
      "|    TFIDF    |  SVM with RBF Kernel |      10000      | 91.88854372688967 |\n",
      "| Average W2V | SVM with RBF Kernel  |      10000      | 86.65701049101384 |\n",
      "|  TFIDF W2V  | SVM with RBF Kernel  |      10000      | 85.40412617880587 |\n",
      "+-------------+----------------------+-----------------+-------------------+\n"
     ]
    }
   ],
   "source": [
    "# Now we need to draw PrettyTable of all of the above conclusions\n",
    "from prettytable import PrettyTable\n",
    "p_table = PrettyTable()\n",
    "p_table.field_names = ['Vectorizer', 'Model', 'Regularization' ,'Hyper Parameter', 'AUC']\n",
    "p_table.add_row(['BOW',' Linear SVM', 'l1' ,alpha_bow, auc_bow_l1])\n",
    "p_table.add_row(['BOW',' Linear SVM', 'l2' , alpha_bow, auc_bow_l2])\n",
    "p_table.add_row(['TFIDF',' Linear SVM', 'l1' , alpha_tfidf, auc_tfidf_l1])\n",
    "p_table.add_row(['TFIDF', 'Linear SVM', 'l2' , alpha_tfidf, auc_tfidf_l2])\n",
    "p_table.add_row(['Average W2V', 'Linear SVM', 'l1' ,alpha_aw2v , auc_a_w2v_l1])\n",
    "p_table.add_row(['Average W2V','Linear SVM', 'l2' , alpha_aw2v, auc_a_w2v_l2])\n",
    "p_table.add_row(['TFIDF W2V', 'Linear SVM', 'l1' , alpha_w_w2v, auc_tfidf_w_w2v_l1])\n",
    "p_table.add_row(['TFIDF W2V','Linear SVM', 'l2' , alpha_w_w2v, auc_tfidf_w_w2v_l2])\n",
    "print(p_table)\n",
    "p_table_RBF = PrettyTable()\n",
    "p_table_RBF.field_names = ['Vectorizer', 'Model' ,'Hyper Parameter', 'AUC']\n",
    "p_table_RBF.add_row(['BOW','SVM with RBF Kernel ', C_bow, auc_bow_C])\n",
    "p_table_RBF.add_row(['TFIDF',' SVM with RBF Kernel', C_tfidf, auc_tfidf_C])\n",
    "p_table_RBF.add_row(['Average W2V', 'SVM with RBF Kernel',C_aw2v , auc_a_w2v_C])\n",
    "p_table_RBF.add_row(['TFIDF W2V', 'SVM with RBF Kernel', C_w_w2v, auc_tfidf_w_w2v_C])\n",
    "print(p_table_RBF)"
   ]
  }
 ],
 "metadata": {
  "kernelspec": {
   "display_name": "Python 3",
   "language": "python",
   "name": "python3"
  },
  "language_info": {
   "codemirror_mode": {
    "name": "ipython",
    "version": 3
   },
   "file_extension": ".py",
   "mimetype": "text/x-python",
   "name": "python",
   "nbconvert_exporter": "python",
   "pygments_lexer": "ipython3",
   "version": "3.7.3"
  }
 },
 "nbformat": 4,
 "nbformat_minor": 2
}
