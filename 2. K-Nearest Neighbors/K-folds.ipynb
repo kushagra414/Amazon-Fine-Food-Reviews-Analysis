{
 "cells": [
  {
   "cell_type": "markdown",
   "metadata": {},
   "source": [
    "# KNN"
   ]
  },
  {
   "cell_type": "code",
   "execution_count": 1,
   "metadata": {},
   "outputs": [],
   "source": [
    "import numpy as np\n",
    "import pandas as pd\n",
    "from sklearn.neighbors  import KNeighborsClassifier\n",
    "from sklearn.metrics import accuracy_score\n",
    "from sklearn.model_selection import cross_val_score\n",
    "from sklearn.model_selection import train_test_split\n",
    "import os\n",
    "from tqdm import tqdm"
   ]
  },
  {
   "cell_type": "code",
   "execution_count": 2,
   "metadata": {},
   "outputs": [],
   "source": [
    "names = ['X','Y','label']\n",
    "os.chdir('demo_data')\n",
    "data = pd.read_csv('3.concertriccir2.csv',header=None,names=names)"
   ]
  },
  {
   "cell_type": "code",
   "execution_count": 3,
   "metadata": {},
   "outputs": [],
   "source": [
    "data = pd.DataFrame(data).to_numpy()\n",
    "label = data[:,2]"
   ]
  },
  {
   "cell_type": "code",
   "execution_count": 4,
   "metadata": {},
   "outputs": [],
   "source": [
    "data_train_cv, data_test, label_train_cv, label_test = train_test_split(data,label, test_size=0.3, random_state=0)\n",
    "data_train, data_cv, label_train, label_cv = train_test_split(data_train_cv, label_train_cv, test_size=0.3,random_state=0)"
   ]
  },
  {
   "cell_type": "code",
   "execution_count": 5,
   "metadata": {},
   "outputs": [
    {
     "name": "stderr",
     "output_type": "stream",
     "text": [
      "100%|██████████| 100/100 [00:00<00:00, 188.32it/s]\n"
     ]
    }
   ],
   "source": [
    "accuracy = []\n",
    "for i in tqdm(range(1,101)):\n",
    "    knn = KNeighborsClassifier(n_neighbors=i)\n",
    "    knn.fit(data_train[:,0:2],label_train)\n",
    "    predicted_values = knn.predict(data_cv[:,0:2])\n",
    "    accuracy.append(accuracy_score(predicted_values,label_cv,normalize=True))"
   ]
  },
  {
   "cell_type": "code",
   "execution_count": 6,
   "metadata": {},
   "outputs": [
    {
     "name": "stdout",
     "output_type": "stream",
     "text": [
      "Maximum accuracy is 90%, when K is 1\n",
      "Minimum accuracy is 54% when K is 58\n"
     ]
    }
   ],
   "source": [
    "maximum_accuracy = max(accuracy)\n",
    "K = accuracy.index(maximum_accuracy)+1\n",
    "minimum_accuracy = min(accuracy)\n",
    "K_min = accuracy.index(minimum_accuracy)+1\n",
    "print(\"Maximum accuracy is %d%%, when K is %d\"%(maximum_accuracy*100, K))\n",
    "print(\"Minimum accuracy is %d%% when K is %d\"%(minimum_accuracy*100, K_min))\n",
    "knn = KNeighborsClassifier(n_neighbors=K)\n",
    "knn = knn.fit(data_train[:,0:2],label_train)"
   ]
  },
  {
   "cell_type": "code",
   "execution_count": 7,
   "metadata": {},
   "outputs": [
    {
     "name": "stdout",
     "output_type": "stream",
     "text": [
      "Accuracy of the algoritm is 90.000000%\n"
     ]
    }
   ],
   "source": [
    "# Testing K on test data\n",
    "predicted_test = knn.predict(data_test[:,0:2])\n",
    "accuracy = accuracy_score(predicted_test, label_test)\n",
    "print(\"Accuracy of the algoritm is %f%%\"%(accuracy*100))"
   ]
  },
  {
   "cell_type": "markdown",
   "metadata": {},
   "source": [
    "# K-folds"
   ]
  },
  {
   "cell_type": "code",
   "execution_count": 20,
   "metadata": {},
   "outputs": [
    {
     "name": "stderr",
     "output_type": "stream",
     "text": [
      "100%|██████████| 100/100 [00:02<00:00, 32.53it/s]"
     ]
    },
    {
     "name": "stdout",
     "output_type": "stream",
     "text": [
      "Maximum accuracy is 90% when K is 5\n",
      "Minimum accuracy is 56% when K is 90\n"
     ]
    },
    {
     "name": "stderr",
     "output_type": "stream",
     "text": [
      "\n"
     ]
    }
   ],
   "source": [
    "cv_accuracy = []\n",
    "for i in tqdm(range(1,101)):\n",
    "    knn = KNeighborsClassifier(n_neighbors=i)\n",
    "    cv_accuracy.append(cross_val_score(knn,data_train_cv[:,0:2],label_train_cv,cv=10,scoring='accuracy').mean())\n",
    "\n",
    "max_acc = max(cv_accuracy)\n",
    "K = cv_accuracy.index(max_acc)+1\n",
    "min_acc = min(cv_accuracy)\n",
    "K_min = cv_accuracy.index(min_acc)+1\n",
    "print(\"Maximum accuracy is %d%% when K is %d\"%(max_acc*100,K))\n",
    "print(\"Minimum accuracy is %d%% when K is %d\"%(min_acc*100,K_min))"
   ]
  },
  {
   "cell_type": "code",
   "execution_count": 35,
   "metadata": {},
   "outputs": [
    {
     "name": "stdout",
     "output_type": "stream",
     "text": [
      "Accuracy of the algoritm is 88.000000%\n",
      "Accuracy of the algoritm is 91.333333%\n"
     ]
    }
   ],
   "source": [
    "## After we found out the best K, when using train and cross Validation at the same time(K-folds)\n",
    "knn = KNeighborsClassifier(n_neighbors=5)\n",
    "knn.fit(data_train_cv[:,0:2],label_train_cv)\n",
    "\n",
    "predicted_test = knn.predict(data_test[:,0:2])\n",
    "accuracy = accuracy_score(predicted_test, label_test)\n",
    "\n",
    "print(\"Accuracy of the algoritm is %f%%\"%(accuracy*100))\n",
    "\n",
    "########################################### Check this out ####################################################\n",
    "knn = KNeighborsClassifier(n_neighbors=1)  # Here I am putting K as 1\n",
    "knn.fit(data_train_cv[:,0:2],label_train_cv)\n",
    "\n",
    "predicted_test = knn.predict(data_test[:,0:2])\n",
    "accuracy = accuracy_score(predicted_test, label_test)\n",
    "\n",
    "print(\"Accuracy of the algoritm is %f%%\"%(accuracy*100))\n",
    "# As you can see our K-fold is maximum at K=5, but when you put K=1, you will get accuracy of 91%\n",
    "# which is more than K =5 WHY?\n"
   ]
  },
  {
   "cell_type": "code",
   "execution_count": null,
   "metadata": {},
   "outputs": [],
   "source": []
  }
 ],
 "metadata": {
  "kernelspec": {
   "display_name": "Python 3",
   "language": "python",
   "name": "python3"
  },
  "language_info": {
   "codemirror_mode": {
    "name": "ipython",
    "version": 3
   },
   "file_extension": ".py",
   "mimetype": "text/x-python",
   "name": "python",
   "nbconvert_exporter": "python",
   "pygments_lexer": "ipython3",
   "version": "3.7.3"
  }
 },
 "nbformat": 4,
 "nbformat_minor": 2
}
